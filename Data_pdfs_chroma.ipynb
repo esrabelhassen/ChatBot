{
 "cells": [
  {
   "cell_type": "markdown",
   "id": "5cec7f6b-4a44-49f6-9ad8-bf0c4029cbb3",
   "metadata": {},
   "source": [
    "# Extracting data from pdfs\n",
    " ✅ In this noteBook we are going to extract data from relevant pdfs relative to our needs based paths so we can feed the documents list to RAG after converting into Vector Embeddings and saving it to a `chromadb` \n",
    "😊"
   ]
  },
  {
   "cell_type": "markdown",
   "id": "93f9a672-b41a-4540-8033-c15ad962d9c5",
   "metadata": {},
   "source": [
    "# Importing Library that we are gonna use "
   ]
  },
  {
   "cell_type": "code",
   "execution_count": 3,
   "id": "8bb5a1ff-9678-4820-9dd6-df91d3211833",
   "metadata": {},
   "outputs": [
    {
     "name": "stderr",
     "output_type": "stream",
     "text": [
      "USER_AGENT environment variable not set, consider setting it to identify your requests.\n"
     ]
    }
   ],
   "source": [
    "from typing import List\n",
    "from langchain_core.documents import Document\n",
    "from langchain_community.document_loaders import PyPDFLoader, WebBaseLoader\n",
    "from langchain_unstructured import UnstructuredLoader\n",
    "from langchain import hub\n",
    "from langchain.text_splitter import RecursiveCharacterTextSplitter\n",
    "from langchain_community.vectorstores import Chroma\n",
    "from langchain.vectorstores import Chroma\n",
    "from langchain_core.output_parsers import StrOutputParser\n",
    "from langchain_core.runnables import RunnablePassthrough\n",
    "import os\n",
    "import bs4\n",
    "from sentence_transformers import SentenceTransformer\n",
    "from langchain_openai import OpenAIEmbeddings, ChatOpenAI\n",
    "from langchain_huggingface import HuggingFaceEmbeddings\n",
    "import ollama\n",
    "from langchain.embeddings import OllamaEmbeddings, HuggingFaceEmbeddings\n",
    "from langchain_ollama import OllamaEmbeddings\n",
    "import numpy as np\n",
    "from sklearn.decomposition import PCA\n",
    "import matplotlib.pyplot as plt\n",
    "import chromadb\n",
    "import uuid\n",
    "import os\n",
    "from langchain.embeddings import HuggingFaceEmbeddings\n"
   ]
  },
  {
   "cell_type": "code",
   "execution_count": 4,
   "id": "163a83f7-185b-4b00-a93e-8e039ad3c16f",
   "metadata": {},
   "outputs": [],
   "source": [
    "def clean_text(text):\n",
    "    '''this functionn clean the output of the pdfloader '''\n",
    "    text = text.replace('\\xa0', ' ')\n",
    "    text = re.sub(r'[\\n\\r\\t]+', ' ', text)\n",
    "    text = re.sub(r'\\s+', ' ', text)\n",
    "\n",
    "    return text.strip()"
   ]
  },
  {
   "cell_type": "code",
   "execution_count": 5,
   "id": "be8d6502-9d71-4b51-b133-b00a02b9c8ef",
   "metadata": {},
   "outputs": [],
   "source": [
    "from langchain_community.document_loaders import PyPDFLoader"
   ]
  },
  {
   "cell_type": "code",
   "execution_count": 6,
   "id": "d315ff7a-53b6-467d-b141-aeec88066630",
   "metadata": {},
   "outputs": [
    {
     "name": "stderr",
     "output_type": "stream",
     "text": [
      "C:\\Users\\belha\\AppData\\Local\\Temp\\ipykernel_15900\\612398256.py:2: LangChainDeprecationWarning: The class `HuggingFaceEmbeddings` was deprecated in LangChain 0.2.2 and will be removed in 1.0. An updated version of the class exists in the :class:`~langchain-huggingface package and should be used instead. To use it run `pip install -U :class:`~langchain-huggingface` and import as `from :class:`~langchain_huggingface import HuggingFaceEmbeddings``.\n",
      "  embeddings_model = HuggingFaceEmbeddings(model_name=\"HIT-TMG/KaLM-embedding-multilingual-mini-instruct-v1.5\")\n",
      "Sliding Window Attention is enabled but not implemented for `sdpa`; unexpected results may be encountered.\n"
     ]
    }
   ],
   "source": [
    "# embeddings_model = SentenceTransformer(\"HIT-TMG/KaLM-embedding-multilingual-mini-instruct-v1.5\")\n",
    "embeddings_model = HuggingFaceEmbeddings(model_name=\"HIT-TMG/KaLM-embedding-multilingual-mini-instruct-v1.5\")"
   ]
  },
  {
   "cell_type": "markdown",
   "id": "4d632c16-0f53-416e-adf7-f627b5215cb7",
   "metadata": {},
   "source": [
    "# Loading the `ChromaDB` vectorstore to continue saving data "
   ]
  },
  {
   "cell_type": "code",
   "execution_count": 8,
   "id": "681146d0-223e-48e2-84b0-80745b863939",
   "metadata": {},
   "outputs": [],
   "source": [
    "chroma_db_path = \"./chroma_db\"\n",
    "chroma_client = chromadb.PersistentClient(path=chroma_db_path)"
   ]
  },
  {
   "cell_type": "code",
   "execution_count": 9,
   "id": "90ef0206-93ce-44a4-86e8-81bacd1908e7",
   "metadata": {},
   "outputs": [],
   "source": [
    "data = chroma_client.get_collection(name=\"my_dataaaa\")"
   ]
  },
  {
   "cell_type": "markdown",
   "id": "ae6c701e-2b23-4d4c-a244-c4cf74372a9b",
   "metadata": {},
   "source": [
    "# Document 0  REDIRECTION DE STAGE "
   ]
  },
  {
   "cell_type": "code",
   "execution_count": 11,
   "id": "e417e180-1019-4a42-8b61-867f41f2d9c9",
   "metadata": {},
   "outputs": [],
   "source": [
    "file_path = (\n",
    "    \"Charte.pdf\"\n",
    ")\n",
    "loader = PyPDFLoader(file_path)\n",
    "pages = []\n",
    "async for page in loader.alazy_load():\n",
    "    pages.append(page)"
   ]
  },
  {
   "cell_type": "code",
   "execution_count": 12,
   "id": "d04bd6d8-f281-447d-a056-bd61411092ad",
   "metadata": {},
   "outputs": [],
   "source": [
    "document0=pages[0].page_content"
   ]
  },
  {
   "cell_type": "code",
   "execution_count": 13,
   "id": "4f9f1807-8339-4e54-a2a3-0e2738a81cbb",
   "metadata": {},
   "outputs": [
    {
     "data": {
      "text/plain": [
       "'Nom  :……….…………………………  \\nPrénom  : ………………………………  \\nClasse … ……………………………….  \\nCIN  : …………………………………..  Monastir, le …………….  \\nCharte \\nJe soussigné …………… ........................... ………………………….. déclare par la présente avoir pris \\nconnaissance de toutes les dispositions relatives au déroulement du stage obligatoire, détaillées sur le site \\nde la Faculté des Sciences de Monastir à l’adresse  : http://www.fsm.rnu.tn/fra/pages/75/Procedure , et \\nrésumées ci-dessous: \\nAvant le stage  : \\n1.Télécharger à partir du compte étudiant la \"demande de stage\" (dans le menu stage)\\n2.Effectuer en ligne le \"dépôt\" de stage\\n3.Télécharger la \"lettre d’affectation\" de stage\\n4.Ne partir en  stage qu’a vec la lettre d’affectation officielle dûment signée par le  Directeur des stages,\\nsans quoi le stage ne peut être validé.\\nAprès le stage  : \\n1.Fournir à l’administration la \"Fiche d’évaluation\" (à télécharger toujours dans le menu stage)\\nremplie et signée par l\\'encadrant professionnel sous pli fermé, sans quoi la soutenance du stage ne\\npeut pas avoir lieu. Cette fiche doit porter le cachet de l\\'entreprise d\\'accueil.\\n2.Fournir à l’administration, après affichage du calendrier des soutenances, la lettre d’\"Invitation\\nindustriel\" (à télécharger).\\nConsultez régulièrement votre messagerie en intranet afin de suivre toutes les  \"nouveautés\" \\nrelatives aux stages. \\nAprès la soutenance  : \\n1.Tenir compte, dans le rapport de stage, des corrections demandées par les encadrants\\n(professionnel et universitaire) et par le président du jury\\n2.Fournir à la bibliothèque centrale deux rapports corrigés portant la signature de l’encadrant\\nuniversitaire ainsi qu’un CD contenant le fichier pdf du rapport de stage corrigé.\\nSignature  \\nPrécédée de la mention  \\n\"Lu et approuvé\"  \\nF A C U L T É  D E S  S C I E N C E S  D E  M O N A S T I R  \\nA V E N U E  D E  L ’ E N V I R O N N E M E N T  •  5 O O O  M O N A S T I R  •  T U N I S I E  \\nT É L É P H O N E  : + 2 1 6  7 3  5 0 0 2 7 4 -76-79-8 0  •  T É L É C O P I E  : + 2 1 6  7 3  5 0 0  2 7 8  F A C U L T É  D E S  S C I E N C E S  D E  M O N A S T I R\\nD I R E C T I O N  D E S  S T A G E S'"
      ]
     },
     "execution_count": 13,
     "metadata": {},
     "output_type": "execute_result"
    }
   ],
   "source": [
    "document0\n"
   ]
  },
  {
   "cell_type": "markdown",
   "id": "28a821b4-bc0e-47c3-97bd-ee1d5dfbaad5",
   "metadata": {},
   "source": [
    "# spliiting DOC0 into chunks "
   ]
  },
  {
   "cell_type": "code",
   "execution_count": 15,
   "id": "d95e5d75-87f9-4854-ab76-b01f75b724a9",
   "metadata": {},
   "outputs": [],
   "source": [
    "text_splitter = RecursiveCharacterTextSplitter(chunk_size=700, chunk_overlap=100, separators=[\"\\n\\n\", \"\\n\", \".\", \" \"])\n",
    "splits1 = text_splitter.split_text(document0)"
   ]
  },
  {
   "cell_type": "code",
   "execution_count": 16,
   "id": "3f0b9e01-a67f-429e-94c9-3171ee74c2fc",
   "metadata": {
    "scrolled": true
   },
   "outputs": [
    {
     "data": {
      "text/plain": [
       "['Nom  :……….…………………………  \\nPrénom  : ………………………………  \\nClasse … ……………………………….  \\nCIN  : …………………………………..  Monastir, le …………….  \\nCharte \\nJe soussigné …………… ........................... ………………………….. déclare par la présente avoir pris \\nconnaissance de toutes les dispositions relatives au déroulement du stage obligatoire, détaillées sur le site \\nde la Faculté des Sciences de Monastir à l’adresse  : http://www.fsm.rnu.tn/fra/pages/75/Procedure , et \\nrésumées ci-dessous: \\nAvant le stage  : \\n1.Télécharger à partir du compte étudiant la \"demande de stage\" (dans le menu stage)\\n2.Effectuer en ligne le \"dépôt\" de stage\\n3.Télécharger la \"lettre d’affectation\" de stage',\n",
       " '2.Effectuer en ligne le \"dépôt\" de stage\\n3.Télécharger la \"lettre d’affectation\" de stage\\n4.Ne partir en  stage qu’a vec la lettre d’affectation officielle dûment signée par le  Directeur des stages,\\nsans quoi le stage ne peut être validé.\\nAprès le stage  : \\n1.Fournir à l’administration la \"Fiche d’évaluation\" (à télécharger toujours dans le menu stage)\\nremplie et signée par l\\'encadrant professionnel sous pli fermé, sans quoi la soutenance du stage ne\\npeut pas avoir lieu. Cette fiche doit porter le cachet de l\\'entreprise d\\'accueil.\\n2.Fournir à l’administration, après affichage du calendrier des soutenances, la lettre d’\"Invitation\\nindustriel\" (à télécharger).',\n",
       " 'industriel\" (à télécharger).\\nConsultez régulièrement votre messagerie en intranet afin de suivre toutes les  \"nouveautés\" \\nrelatives aux stages. \\nAprès la soutenance  : \\n1.Tenir compte, dans le rapport de stage, des corrections demandées par les encadrants\\n(professionnel et universitaire) et par le président du jury\\n2.Fournir à la bibliothèque centrale deux rapports corrigés portant la signature de l’encadrant\\nuniversitaire ainsi qu’un CD contenant le fichier pdf du rapport de stage corrigé.\\nSignature  \\nPrécédée de la mention  \\n\"Lu et approuvé\"  \\nF A C U L T É  D E S  S C I E N C E S  D E  M O N A S T I R',\n",
       " '\"Lu et approuvé\"  \\nF A C U L T É  D E S  S C I E N C E S  D E  M O N A S T I R  \\nA V E N U E  D E  L ’ E N V I R O N N E M E N T  •  5 O O O  M O N A S T I R  •  T U N I S I E  \\nT É L É P H O N E  : + 2 1 6  7 3  5 0 0 2 7 4 -76-79-8 0  •  T É L É C O P I E  : + 2 1 6  7 3  5 0 0  2 7 8  F A C U L T É  D E S  S C I E N C E S  D E  M O N A S T I R\\nD I R E C T I O N  D E S  S T A G E S']"
      ]
     },
     "execution_count": 16,
     "metadata": {},
     "output_type": "execute_result"
    }
   ],
   "source": [
    "splits1"
   ]
  },
  {
   "cell_type": "code",
   "execution_count": 17,
   "id": "a9a7fdf8-bdfe-4797-be10-47af35310ae6",
   "metadata": {},
   "outputs": [],
   "source": [
    "embeddings1 = embeddings_model.embed_documents(\n",
    "    splits1\n",
    "    # normalize_embeddings=True,\n",
    "    # batch_size=256, \n",
    "    # show_progress_bar=True\n",
    ")"
   ]
  },
  {
   "cell_type": "code",
   "execution_count": 18,
   "id": "52ba09e7-f3a8-4fb1-ade6-1b989923226e",
   "metadata": {},
   "outputs": [],
   "source": [
    "ids1 = [str(uuid.uuid4()) for _ in range(len(splits1))]"
   ]
  },
  {
   "cell_type": "code",
   "execution_count": 19,
   "id": "6aeca1c1-f0bd-4d66-be97-2edc755bb259",
   "metadata": {},
   "outputs": [],
   "source": [
    "data.add(\n",
    "    documents=splits1,    \n",
    "    embeddings=embeddings1,  \n",
    "    ids=ids1\n",
    ")"
   ]
  },
  {
   "cell_type": "markdown",
   "id": "3fb4eaf6-2e63-4d64-bfba-486f15ab8c7a",
   "metadata": {},
   "source": [
    "# Document 1 : inscri Doctorat "
   ]
  },
  {
   "cell_type": "code",
   "execution_count": 21,
   "id": "6cdb4c93-37a5-4243-bb46-b002d1c124fe",
   "metadata": {},
   "outputs": [],
   "source": [
    "file_path =  \"circulaire 35-2010.pdf\"\n",
    "loader = PyPDFLoader(file_path)\n",
    "pages = []\n",
    "async for page in loader.alazy_load():\n",
    "    pages.append(page)"
   ]
  },
  {
   "cell_type": "code",
   "execution_count": 22,
   "id": "6a83937e-2e10-4569-bab6-7bfcb0abde90",
   "metadata": {},
   "outputs": [],
   "source": [
    "document1=[page.page_content for doc in pages]"
   ]
  },
  {
   "cell_type": "code",
   "execution_count": 23,
   "id": "d8173107-3e47-42aa-9b3e-c84cb96797ed",
   "metadata": {},
   "outputs": [
    {
     "data": {
      "text/plain": [
       "['ﻓﻲ  ﺗﻮﻧﺲ14  ﺳﺒﺘﻤﺒﺮ2010  \\n  \\n  \\nاﻟﻌﻠﻤﻲ  واﻟﺒﺤﺚ  اﻟﻌﺎﻟﻲ اﻟﺘﻌﻠﻴﻢ  وزﻳﺮ ﻣﻦ   \\nإﻟﻰ و اﻟﺴﻴﺪات اﻟﺴﺎدة  :\\n-اﻟﺠﺎﻣﻌﺎت  رؤﺳﺎء   \\n-واﻟﺒﺤﺚ  اﻟﻌﺎﻟﻲ اﻟﺘﻌﻠﻴﻢ  ﻣﺆﺳﺴﺎت  وﻣﺪﻳﺮي  ﻋﻤﺪاء   \\n  \\n اﻟﻤﻮﺿﻮع : ﺑﺣﻮل اﻟﺘﺴﺠﻴﻞ  اﻟﺪآﺘﻮراﻩﺪراﺳﺎت  \\n \\n  \\n إﻃﺎر ﻓﻲ  اﻟﻌﻤﻠﻴﺔ  اﻹﺟﺮاءات  ﻟﻠﻔﺼﻠﺿﺒﻂ  وﺗﻄﺒﻴﻘﺎ  اﻟﺪآﺘﻮراﻩ،  ﺑﺪراﺳﺎت  ﻴﻦﻟﻠﺘﺴﺠﻴﻞ  \\n16 و17  ﻋاﻷﻣﻦ ﻣﺮ  ﺪد1823  ﻟﺴﻨﺔ1993  ﻓﻲ اﻟﻤﺆرخ6  ﻧﻮﻓﻤﺒﺮ1993  واﻟﻤﺘﻌﻠﻖ\\n وﺟﻤﻴﻊ  اﻟﺪآﺘﻮراﻩ  ﻟﺪراﺳﺎت  اﻟﻮﻃﻨﻴﺔ  اﻟﺸﻬﺎدات  ﻋﻠﻰ اﻟﺤﺼﻮل  ﺷﺮوط  ﺑﺘﺤﺪﻳﺪ\\nﺗﻤﻤﺘﻪ أو ﻧﻘﺤﺘﻪ اﻟﺘﻲ اﻟﻨﺼﻮص  . \\nاﻟﺘﺎﻟﻴﺔ اﻹﺟﺮاءات  ﺗﻄﺒﻴﻖ  إﻟﻰ واﻟﺒﺤﺚ  اﻟﻌﺎﻟﻲ اﻟﺘﻌﻠﻴﻢ ﻣﺆﺳﺴﺎت  ﺟﻤﻴﻊ ﺗﺪﻋﻰ   : \\n-اﻟﺪآﺘﻮراﻩ  ﺑﺪراﺳﺎت  اﻟﺘﺴﺠﻴﻞ  ﻳﺘﻢ   ﺳﻨﻮﻳﺎ  .\\n-ﻓﻲ  اﻟﺪآﺘﻮراﻩ  ﺷﻬﺎدة ﻹﺳﻨﺎد  اﻟﻤﺆهﻠﺔ  واﻟﺒﺤﺚ  اﻟﻌﺎﻟﻲ اﻟﺘﻌﻠﻴﻢ ﻣﺆﺳﺴﺔ  ﺗﻀﺒﻂ   ﻣﺴﺘﻬﻞ\\n ﺟﺎﻣﻌﻴﺔ  ﺳﻨﺔ آﻞ  اﻟﺘﺴﺠﻴﻞ  رزﻧﺎﻣﺔ  اﻟﻮﺳﺎﺋﻞ  ﺑﺠﻤﻴﻊ اﻟﺮزﻧﺎﻣﺔ  ﺑﻬﺬﻩ اﻹﻋﻼم  وﻳﻘﻊ\\nاﻟﻤﺘﺎﺣﺔ   .\\n - ﻳﻮم ﻳﺤﺪد31 ﻃﻠﺒﺔ ﻟﺘﺴﺠﻴﻞ  أﺟﻞ آﺂﺧﺮ إدارﻳﺔ ﺳﻨﺔ آﻞ ﻣﻦ دﻳﺴﻤﺒﺮ  اﻟﺪآﺘﻮراﻩ  .\\n  \\nاﻟﺠﺎ رؤﺳﺎء  اﻟﺴﺎدة و اﻟﺴﻴﺪات  ﻣﻌﺎتﻳﺪﻋﻰ  وﻣﺪﻳﺮو  وﻋﻤﺪاء  اﻟﻌﺎﻟﻲ اﻟﺘﻌﻠﻴﻢ ﻣﺆﺳﺴﺎت\\nواﻟﺒﺤﺚ وﺣﺰم دﻗﺔ ﺑﻜﻞ اﻹﺟﺮاءات  هﺬﻩ ﺗﻄﺒﻴﻖ  إﻟﻰ  . \\n \\n  \\n اﻟﻌﻠﻤﻲ  واﻟﺒﺤﺚ  اﻟﻌﺎﻟﻲ اﻟﺘﻌﻠﻴﻢ  وزﻳﺮ   ﻋـ ـﻣﻨﺸﻮﺭ35/10ﺩﺩ']"
      ]
     },
     "execution_count": 23,
     "metadata": {},
     "output_type": "execute_result"
    }
   ],
   "source": [
    "document1"
   ]
  },
  {
   "cell_type": "code",
   "execution_count": 24,
   "id": "864abe33-dcb0-4b7b-a5f1-bac2e400c07d",
   "metadata": {},
   "outputs": [],
   "source": [
    "document1 = \"\\n\".join(document1)"
   ]
  },
  {
   "cell_type": "markdown",
   "id": "5d993437-020e-474b-b730-b6c380f9442f",
   "metadata": {},
   "source": [
    "# splitting DOC 1 into chunks "
   ]
  },
  {
   "cell_type": "code",
   "execution_count": 26,
   "id": "fe5c694d-334e-4848-8096-70c58e0a9881",
   "metadata": {},
   "outputs": [],
   "source": [
    "text_splitter = RecursiveCharacterTextSplitter(chunk_size=700, chunk_overlap=100, separators=[\"\\n\\n\", \"\\n\", \".\", \" \"])\n",
    "splits2 = text_splitter.split_text(document1)"
   ]
  },
  {
   "cell_type": "code",
   "execution_count": 27,
   "id": "53395081-1745-4016-a324-6dcfb8327519",
   "metadata": {},
   "outputs": [
    {
     "data": {
      "text/plain": [
       "['ﻓﻲ  ﺗﻮﻧﺲ14  ﺳﺒﺘﻤﺒﺮ2010  \\n  \\n  \\nاﻟﻌﻠﻤﻲ  واﻟﺒﺤﺚ  اﻟﻌﺎﻟﻲ اﻟﺘﻌﻠﻴﻢ  وزﻳﺮ ﻣﻦ   \\nإﻟﻰ و اﻟﺴﻴﺪات اﻟﺴﺎدة  :\\n-اﻟﺠﺎﻣﻌﺎت  رؤﺳﺎء   \\n-واﻟﺒﺤﺚ  اﻟﻌﺎﻟﻲ اﻟﺘﻌﻠﻴﻢ  ﻣﺆﺳﺴﺎت  وﻣﺪﻳﺮي  ﻋﻤﺪاء   \\n  \\n اﻟﻤﻮﺿﻮع : ﺑﺣﻮل اﻟﺘﺴﺠﻴﻞ  اﻟﺪآﺘﻮراﻩﺪراﺳﺎت  \\n \\n  \\n إﻃﺎر ﻓﻲ  اﻟﻌﻤﻠﻴﺔ  اﻹﺟﺮاءات  ﻟﻠﻔﺼﻠﺿﺒﻂ  وﺗﻄﺒﻴﻘﺎ  اﻟﺪآﺘﻮراﻩ،  ﺑﺪراﺳﺎت  ﻴﻦﻟﻠﺘﺴﺠﻴﻞ  \\n16 و17  ﻋاﻷﻣﻦ ﻣﺮ  ﺪد1823  ﻟﺴﻨﺔ1993  ﻓﻲ اﻟﻤﺆرخ6  ﻧﻮﻓﻤﺒﺮ1993  واﻟﻤﺘﻌﻠﻖ\\n وﺟﻤﻴﻊ  اﻟﺪآﺘﻮراﻩ  ﻟﺪراﺳﺎت  اﻟﻮﻃﻨﻴﺔ  اﻟﺸﻬﺎدات  ﻋﻠﻰ اﻟﺤﺼﻮل  ﺷﺮوط  ﺑﺘﺤﺪﻳﺪ\\nﺗﻤﻤﺘﻪ أو ﻧﻘﺤﺘﻪ اﻟﺘﻲ اﻟﻨﺼﻮص  . \\nاﻟﺘﺎﻟﻴﺔ اﻹﺟﺮاءات  ﺗﻄﺒﻴﻖ  إﻟﻰ واﻟﺒﺤﺚ  اﻟﻌﺎﻟﻲ اﻟﺘﻌﻠﻴﻢ ﻣﺆﺳﺴﺎت  ﺟﻤﻴﻊ ﺗﺪﻋﻰ   : \\n-اﻟﺪآﺘﻮراﻩ  ﺑﺪراﺳﺎت  اﻟﺘﺴﺠﻴﻞ  ﻳﺘﻢ   ﺳﻨﻮﻳﺎ  .\\n-ﻓﻲ  اﻟﺪآﺘﻮراﻩ  ﺷﻬﺎدة ﻹﺳﻨﺎد  اﻟﻤﺆهﻠﺔ  واﻟﺒﺤﺚ  اﻟﻌﺎﻟﻲ اﻟﺘﻌﻠﻴﻢ ﻣﺆﺳﺴﺔ  ﺗﻀﺒﻂ   ﻣﺴﺘﻬﻞ',\n",
       " '-ﻓﻲ  اﻟﺪآﺘﻮراﻩ  ﺷﻬﺎدة ﻹﺳﻨﺎد  اﻟﻤﺆهﻠﺔ  واﻟﺒﺤﺚ  اﻟﻌﺎﻟﻲ اﻟﺘﻌﻠﻴﻢ ﻣﺆﺳﺴﺔ  ﺗﻀﺒﻂ   ﻣﺴﺘﻬﻞ\\n ﺟﺎﻣﻌﻴﺔ  ﺳﻨﺔ آﻞ  اﻟﺘﺴﺠﻴﻞ  رزﻧﺎﻣﺔ  اﻟﻮﺳﺎﺋﻞ  ﺑﺠﻤﻴﻊ اﻟﺮزﻧﺎﻣﺔ  ﺑﻬﺬﻩ اﻹﻋﻼم  وﻳﻘﻊ\\nاﻟﻤﺘﺎﺣﺔ   .\\n - ﻳﻮم ﻳﺤﺪد31 ﻃﻠﺒﺔ ﻟﺘﺴﺠﻴﻞ  أﺟﻞ آﺂﺧﺮ إدارﻳﺔ ﺳﻨﺔ آﻞ ﻣﻦ دﻳﺴﻤﺒﺮ  اﻟﺪآﺘﻮراﻩ  .\\n  \\nاﻟﺠﺎ رؤﺳﺎء  اﻟﺴﺎدة و اﻟﺴﻴﺪات  ﻣﻌﺎتﻳﺪﻋﻰ  وﻣﺪﻳﺮو  وﻋﻤﺪاء  اﻟﻌﺎﻟﻲ اﻟﺘﻌﻠﻴﻢ ﻣﺆﺳﺴﺎت\\nواﻟﺒﺤﺚ وﺣﺰم دﻗﺔ ﺑﻜﻞ اﻹﺟﺮاءات  هﺬﻩ ﺗﻄﺒﻴﻖ  إﻟﻰ  . \\n \\n  \\n اﻟﻌﻠﻤﻲ  واﻟﺒﺤﺚ  اﻟﻌﺎﻟﻲ اﻟﺘﻌﻠﻴﻢ  وزﻳﺮ   ﻋـ ـﻣﻨﺸﻮﺭ35/10ﺩﺩ']"
      ]
     },
     "execution_count": 27,
     "metadata": {},
     "output_type": "execute_result"
    }
   ],
   "source": [
    "splits2"
   ]
  },
  {
   "cell_type": "code",
   "execution_count": 28,
   "id": "09b2121b-d69e-4664-a7e7-ed617256fa48",
   "metadata": {},
   "outputs": [],
   "source": [
    "embeddings2 = embeddings_model.embed_documents(\n",
    "    splits2,  \n",
    "    # normalize_embeddings=True,\n",
    "    # batch_size=256, \n",
    "    # show_progress_bar=True\n",
    ")"
   ]
  },
  {
   "cell_type": "code",
   "execution_count": 29,
   "id": "36fe1e8d-1a8d-472b-8f46-92a00d4c9ce0",
   "metadata": {},
   "outputs": [],
   "source": [
    "ids2 = [str(uuid.uuid4()) for _ in range(len(splits2))]"
   ]
  },
  {
   "cell_type": "code",
   "execution_count": 30,
   "id": "2bb4e37d-8e31-49cb-8e41-51d9584ddf10",
   "metadata": {},
   "outputs": [],
   "source": [
    "data.add(\n",
    "    documents=splits2,    \n",
    "    embeddings=embeddings2,  \n",
    "    ids=ids2             \n",
    ")"
   ]
  },
  {
   "cell_type": "markdown",
   "id": "bb94cedb-04a6-44ea-9f9e-7fc2f58587fb",
   "metadata": {},
   "source": [
    "# Document 2 Prolongation de stage "
   ]
  },
  {
   "cell_type": "code",
   "execution_count": 32,
   "id": "085c86fd-c9f8-4888-8458-6b33684006b7",
   "metadata": {},
   "outputs": [],
   "source": [
    "file_path =  \"Demande de prolongation de stage MP2 Physique.pdf\"\n",
    "loader = PyPDFLoader(file_path)\n",
    "pages = []\n",
    "async for page in loader.alazy_load():\n",
    "    pages.append(page)"
   ]
  },
  {
   "cell_type": "code",
   "execution_count": 33,
   "id": "194a1947-7841-463f-afa4-1870b2ec6d75",
   "metadata": {},
   "outputs": [],
   "source": [
    "document2 = [page.page_content for doc in pages]"
   ]
  },
  {
   "cell_type": "code",
   "execution_count": 34,
   "id": "495b9d0c-ffda-417a-a34b-cf5a6c43f623",
   "metadata": {},
   "outputs": [
    {
     "data": {
      "text/plain": [
       "['Université de Monastir\\nFaculté des Sciences \\nDépartement de Physique\\nFormulaire de demande de prolongation de stage de Mastère Professionnel\\nInstrumentation Avancée et Applications (I2A)1\\nNom et Prénom de l’étudiant \\xa0:…………………………………………………………..\\nEmail de l’étudiant \\xa0:…………………………………………………………\\nTitre du sujet de stage \\xa0:…………………………………………………\\n…………………………………………………\\nParcours\\xa0:…………………………………………………\\nMotif de la prolongation \\xa0:…………………………………………………\\nNom et Prénom de l’Encadrant \\xa0:…………………………………………………………\\nEmail de l’encadrant \\xa0:…………………………………………………………\\nAvis et signature\\xa0de l’encadrant :…………………………………………………\\nFait à monsatir….. le  .../06/2022\\nSignature de l’étudiant      \\n1Cette demande doit être déposée au service des mastères de la FSM avant le 15 juin 2022']"
      ]
     },
     "execution_count": 34,
     "metadata": {},
     "output_type": "execute_result"
    }
   ],
   "source": [
    "document2"
   ]
  },
  {
   "cell_type": "markdown",
   "id": "90d62fe0-f103-422a-8c76-68b9753f157d",
   "metadata": {},
   "source": [
    "# splitting DOC 2 into chunks "
   ]
  },
  {
   "cell_type": "code",
   "execution_count": 36,
   "id": "c5dab413-9d6f-4b55-ac23-47b9058b5d7a",
   "metadata": {},
   "outputs": [],
   "source": [
    "document2 = \"\\n\".join(document2)"
   ]
  },
  {
   "cell_type": "code",
   "execution_count": 37,
   "id": "9399fb28-5c52-4689-981a-522290ca4b22",
   "metadata": {},
   "outputs": [],
   "source": [
    "text_splitter = RecursiveCharacterTextSplitter(chunk_size=700, chunk_overlap=100, separators=[\"\\n\\n\", \"\\n\", \".\", \" \"])\n",
    "splits3 = text_splitter.split_text(document2)"
   ]
  },
  {
   "cell_type": "code",
   "execution_count": 38,
   "id": "c548a354-048e-46d2-b849-ac88c2118825",
   "metadata": {},
   "outputs": [
    {
     "data": {
      "text/plain": [
       "['Université de Monastir\\nFaculté des Sciences \\nDépartement de Physique\\nFormulaire de demande de prolongation de stage de Mastère Professionnel\\nInstrumentation Avancée et Applications (I2A)1\\nNom et Prénom de l’étudiant \\xa0:…………………………………………………………..\\nEmail de l’étudiant \\xa0:…………………………………………………………\\nTitre du sujet de stage \\xa0:…………………………………………………\\n…………………………………………………\\nParcours\\xa0:…………………………………………………\\nMotif de la prolongation \\xa0:…………………………………………………\\nNom et Prénom de l’Encadrant \\xa0:…………………………………………………………\\nEmail de l’encadrant \\xa0:…………………………………………………………\\nAvis et signature\\xa0de l’encadrant :…………………………………………………\\nFait à monsatir….. le  .../06/2022\\nSignature de l’étudiant',\n",
       " 'Fait à monsatir….. le  .../06/2022\\nSignature de l’étudiant      \\n1Cette demande doit être déposée au service des mastères de la FSM avant le 15 juin 2022']"
      ]
     },
     "execution_count": 38,
     "metadata": {},
     "output_type": "execute_result"
    }
   ],
   "source": [
    "splits3"
   ]
  },
  {
   "cell_type": "code",
   "execution_count": 39,
   "id": "136d76e6-79b5-4d99-b0be-631a9588f954",
   "metadata": {},
   "outputs": [],
   "source": [
    "embeddings3 = embeddings_model.embed_documents(\n",
    "    splits3,  \n",
    "    # normalize_embeddings=True,\n",
    "    # batch_size=256, \n",
    "    # show_progress_bar=True\n",
    ")"
   ]
  },
  {
   "cell_type": "code",
   "execution_count": 40,
   "id": "1cfdf583-4cb5-4d0c-8e9e-97851b82d31e",
   "metadata": {},
   "outputs": [],
   "source": [
    "ids3 = [str(uuid.uuid4()) for _ in range(len(splits3))]"
   ]
  },
  {
   "cell_type": "code",
   "execution_count": 41,
   "id": "0764dae9-05a8-4b83-a019-66d662d48a88",
   "metadata": {},
   "outputs": [],
   "source": [
    "data.add(\n",
    "    documents=splits3,    \n",
    "    embeddings=embeddings3,  \n",
    "    ids=ids3               \n",
    ")"
   ]
  },
  {
   "cell_type": "markdown",
   "id": "b31b1b72-02eb-4898-96cc-526339bc7a03",
   "metadata": {},
   "source": [
    "# Document 3 Derogation doctorat "
   ]
  },
  {
   "cell_type": "code",
   "execution_count": 43,
   "id": "70f30b6d-403d-4ea9-9559-589ca4789ad1",
   "metadata": {},
   "outputs": [],
   "source": [
    "file_path =  \"dérogation pdf.pdf\"\n",
    "loader = PyPDFLoader(file_path)\n",
    "pages = []\n",
    "async for page in loader.alazy_load():\n",
    "    pages.append(page)"
   ]
  },
  {
   "cell_type": "code",
   "execution_count": 44,
   "id": "794520e6-1432-40fa-81b9-41f1028890d1",
   "metadata": {},
   "outputs": [],
   "source": [
    "document3=[page.page_content for doc in pages]"
   ]
  },
  {
   "cell_type": "code",
   "execution_count": 45,
   "id": "18fc4c60-1db3-4e2a-b618-55a09003f424",
   "metadata": {},
   "outputs": [
    {
     "data": {
      "text/plain": [
       "['اﻟﺳﺎﺑﻘﺔ اﻟﺟﺎﻣﻌﻳﺔ  اﻟدراﺳﺎت  \\nاﻟدﻛﺗورا ﺑﺷﻬﺎدة اﻟﺗﺳﺟﻳﻝ  ﻣﻧذ ﺑﺳﻧﺔ ﺳﻧﺔ اﻟدراﺳﺔ ﺳﻳر ﺣوﻝ ﻩﺗﻔﺎﺻﻳﻝ  \\nاﻟﺟﺎﻣﻌﻳﺔ  اﻟﺳﻧﺔ  اﻟﻣؤﺳﺳﺔ  اﻟﺷﻌﺑﺔ /اﻟﺷﻬﺎدة اﻟدراﺳﺔ  ﻣﺳﺗوى  اﻟﻣﻼﺣظﺎت \\n \\n  \\n  اﻟدﻛﺗورا ﺷﻬﺎدة ﻩﻣوﺿوع     \\n………………………………………………...............................………………………………………………………………………  \\n………………………………………………...............................………………………………………………………………………  \\n………………………………………………...............................………………………………………………………………………  \\n \\n  \\n                                                    أﻋﻼﻩ اﻟﻣﺑﻳﻧﺔ اﻟﻣﻌﻠوﻣﺎت  ﺑﺻﺣﺔ أﺷﻬد أﺳﻔﻠﻪ اﻟﻣﻣﺿﻲ  إﻧﻲ   \\n …….....…….......……                                                            ﻓﻲ  …….................………… \\n                                                                              اﻟطﺎﻟب إﻣﺿﺎء) ة   (\\n  \\n  \\n  \\n  اﻟﻣطﻠوﺑﺔ  اﻟوﺛﺎﺋق     \\n * ﺷﻬﺎدة ﻓﻲ اﻟطﺎﻟب ﺑﻬﺎ ﻗﺎم اﻟﺗﻲ اﻟﺗﺳﺟﻳﻼت  اﻟدﻛﺗوراﻩﻣﺟﻣوع  \\n* ﺑﺎﻟدﻛﺗوراﻩ  ﺟﺎﻣﻌﻳﺔ ﺑﺳﻧﺔ ﺗﻣدﻳد ﻣﻘرر\\n \\n  \\n اﻟﻤﺸﺮفرأي  اﻷﺳﺘﺎذ   واﻟﺘﺄﻫﻴﻞ  اﻟﺪﻛﺘﻮراﻩ  ﻟﺠﻨﺔ رأي   اﻟﻤﺆﺳﺴﺔ  رﺋﻴﺲ رأي   \\n  \\nﰲاﳌﻨﺴﺘﲑ  .....................................  \\nاﻹﻣﻀــﺎء  \\n  \\n  \\n  \\n    \\nﰲاﳌﻨﺴﺘﲑ  .....................................  \\nاﻹﻣﻀــﺎء    \\nﰲاﳌﻨﺴﺘﲑ  .....................................  \\nاﻹﻣﻀــﺎء',\n",
       " 'اﻟﺳﺎﺑﻘﺔ اﻟﺟﺎﻣﻌﻳﺔ  اﻟدراﺳﺎت  \\nاﻟدﻛﺗورا ﺑﺷﻬﺎدة اﻟﺗﺳﺟﻳﻝ  ﻣﻧذ ﺑﺳﻧﺔ ﺳﻧﺔ اﻟدراﺳﺔ ﺳﻳر ﺣوﻝ ﻩﺗﻔﺎﺻﻳﻝ  \\nاﻟﺟﺎﻣﻌﻳﺔ  اﻟﺳﻧﺔ  اﻟﻣؤﺳﺳﺔ  اﻟﺷﻌﺑﺔ /اﻟﺷﻬﺎدة اﻟدراﺳﺔ  ﻣﺳﺗوى  اﻟﻣﻼﺣظﺎت \\n \\n  \\n  اﻟدﻛﺗورا ﺷﻬﺎدة ﻩﻣوﺿوع     \\n………………………………………………...............................………………………………………………………………………  \\n………………………………………………...............................………………………………………………………………………  \\n………………………………………………...............................………………………………………………………………………  \\n \\n  \\n                                                    أﻋﻼﻩ اﻟﻣﺑﻳﻧﺔ اﻟﻣﻌﻠوﻣﺎت  ﺑﺻﺣﺔ أﺷﻬد أﺳﻔﻠﻪ اﻟﻣﻣﺿﻲ  إﻧﻲ   \\n …….....…….......……                                                            ﻓﻲ  …….................………… \\n                                                                              اﻟطﺎﻟب إﻣﺿﺎء) ة   (\\n  \\n  \\n  \\n  اﻟﻣطﻠوﺑﺔ  اﻟوﺛﺎﺋق     \\n * ﺷﻬﺎدة ﻓﻲ اﻟطﺎﻟب ﺑﻬﺎ ﻗﺎم اﻟﺗﻲ اﻟﺗﺳﺟﻳﻼت  اﻟدﻛﺗوراﻩﻣﺟﻣوع  \\n* ﺑﺎﻟدﻛﺗوراﻩ  ﺟﺎﻣﻌﻳﺔ ﺑﺳﻧﺔ ﺗﻣدﻳد ﻣﻘرر\\n \\n  \\n اﻟﻤﺸﺮفرأي  اﻷﺳﺘﺎذ   واﻟﺘﺄﻫﻴﻞ  اﻟﺪﻛﺘﻮراﻩ  ﻟﺠﻨﺔ رأي   اﻟﻤﺆﺳﺴﺔ  رﺋﻴﺲ رأي   \\n  \\nﰲاﳌﻨﺴﺘﲑ  .....................................  \\nاﻹﻣﻀــﺎء  \\n  \\n  \\n  \\n    \\nﰲاﳌﻨﺴﺘﲑ  .....................................  \\nاﻹﻣﻀــﺎء    \\nﰲاﳌﻨﺴﺘﲑ  .....................................  \\nاﻹﻣﻀــﺎء']"
      ]
     },
     "execution_count": 45,
     "metadata": {},
     "output_type": "execute_result"
    }
   ],
   "source": [
    "document3"
   ]
  },
  {
   "cell_type": "markdown",
   "id": "e2d8ac73-a4d1-49d6-a0af-bad6a16c40be",
   "metadata": {},
   "source": [
    "# splitting DOC3 into chunks "
   ]
  },
  {
   "cell_type": "code",
   "execution_count": 47,
   "id": "bfb8a571-02c1-40cd-aa64-4ff325ea6c19",
   "metadata": {},
   "outputs": [],
   "source": [
    "document3 = \"\\n\".join(document3)"
   ]
  },
  {
   "cell_type": "code",
   "execution_count": 48,
   "id": "5c8bebaf-323c-4cef-aa96-230be3819d54",
   "metadata": {},
   "outputs": [],
   "source": [
    "text_splitter = RecursiveCharacterTextSplitter(chunk_size=700, chunk_overlap=100, separators=[\"\\n\\n\", \"\\n\", \".\", \" \"])\n",
    "splits4 = text_splitter.split_text(document3)"
   ]
  },
  {
   "cell_type": "code",
   "execution_count": 49,
   "id": "fcc79626-5202-47ab-aa38-e654b256fa60",
   "metadata": {
    "scrolled": true
   },
   "outputs": [
    {
     "data": {
      "text/plain": [
       "['اﻟﺳﺎﺑﻘﺔ اﻟﺟﺎﻣﻌﻳﺔ  اﻟدراﺳﺎت  \\nاﻟدﻛﺗورا ﺑﺷﻬﺎدة اﻟﺗﺳﺟﻳﻝ  ﻣﻧذ ﺑﺳﻧﺔ ﺳﻧﺔ اﻟدراﺳﺔ ﺳﻳر ﺣوﻝ ﻩﺗﻔﺎﺻﻳﻝ  \\nاﻟﺟﺎﻣﻌﻳﺔ  اﻟﺳﻧﺔ  اﻟﻣؤﺳﺳﺔ  اﻟﺷﻌﺑﺔ /اﻟﺷﻬﺎدة اﻟدراﺳﺔ  ﻣﺳﺗوى  اﻟﻣﻼﺣظﺎت \\n \\n  \\n  اﻟدﻛﺗورا ﺷﻬﺎدة ﻩﻣوﺿوع     \\n………………………………………………...............................………………………………………………………………………  \\n………………………………………………...............................………………………………………………………………………  \\n………………………………………………...............................………………………………………………………………………  \\n \\n  \\n                                                    أﻋﻼﻩ اﻟﻣﺑﻳﻧﺔ اﻟﻣﻌﻠوﻣﺎت  ﺑﺻﺣﺔ أﺷﻬد أﺳﻔﻠﻪ اﻟﻣﻣﺿﻲ  إﻧﻲ   \\n …….....…….......……                                                            ﻓﻲ  …….................…………',\n",
       " 'اﻟطﺎﻟب إﻣﺿﺎء) ة   (\\n  \\n  \\n  \\n  اﻟﻣطﻠوﺑﺔ  اﻟوﺛﺎﺋق     \\n * ﺷﻬﺎدة ﻓﻲ اﻟطﺎﻟب ﺑﻬﺎ ﻗﺎم اﻟﺗﻲ اﻟﺗﺳﺟﻳﻼت  اﻟدﻛﺗوراﻩﻣﺟﻣوع  \\n* ﺑﺎﻟدﻛﺗوراﻩ  ﺟﺎﻣﻌﻳﺔ ﺑﺳﻧﺔ ﺗﻣدﻳد ﻣﻘرر\\n \\n  \\n اﻟﻤﺸﺮفرأي  اﻷﺳﺘﺎذ   واﻟﺘﺄﻫﻴﻞ  اﻟﺪﻛﺘﻮراﻩ  ﻟﺠﻨﺔ رأي   اﻟﻤﺆﺳﺴﺔ  رﺋﻴﺲ رأي   \\n  \\nﰲاﳌﻨﺴﺘﲑ  .....................................  \\nاﻹﻣﻀــﺎء  \\n  \\n  \\n  \\n    \\nﰲاﳌﻨﺴﺘﲑ  .....................................  \\nاﻹﻣﻀــﺎء    \\nﰲاﳌﻨﺴﺘﲑ  .....................................  \\nاﻹﻣﻀــﺎء\\nاﻟﺳﺎﺑﻘﺔ اﻟﺟﺎﻣﻌﻳﺔ  اﻟدراﺳﺎت  \\nاﻟدﻛﺗورا ﺑﺷﻬﺎدة اﻟﺗﺳﺟﻳﻝ  ﻣﻧذ ﺑﺳﻧﺔ ﺳﻧﺔ اﻟدراﺳﺔ ﺳﻳر ﺣوﻝ ﻩﺗﻔﺎﺻﻳﻝ  \\nاﻟﺟﺎﻣﻌﻳﺔ  اﻟﺳﻧﺔ  اﻟﻣؤﺳﺳﺔ  اﻟﺷﻌﺑﺔ /اﻟﺷﻬﺎدة اﻟدراﺳﺔ  ﻣﺳﺗوى  اﻟﻣﻼﺣظﺎت \\n \\n  \\n  اﻟدﻛﺗورا ﺷﻬﺎدة ﻩﻣوﺿوع',\n",
       " 'اﻟدﻛﺗورا ﺷﻬﺎدة ﻩﻣوﺿوع     \\n………………………………………………...............................………………………………………………………………………  \\n………………………………………………...............................………………………………………………………………………  \\n………………………………………………...............................………………………………………………………………………  \\n \\n  \\n                                                    أﻋﻼﻩ اﻟﻣﺑﻳﻧﺔ اﻟﻣﻌﻠوﻣﺎت  ﺑﺻﺣﺔ أﺷﻬد أﺳﻔﻠﻪ اﻟﻣﻣﺿﻲ  إﻧﻲ   \\n …….....…….......……                                                            ﻓﻲ  …….................………… \\n                                                                              اﻟطﺎﻟب إﻣﺿﺎء) ة   (\\n  \\n  \\n  \\n  اﻟﻣطﻠوﺑﺔ  اﻟوﺛﺎﺋق     \\n * ﺷﻬﺎدة ﻓﻲ اﻟطﺎﻟب ﺑﻬﺎ ﻗﺎم اﻟﺗﻲ اﻟﺗﺳﺟﻳﻼت  اﻟدﻛﺗوراﻩﻣﺟﻣوع',\n",
       " 'اﻟﻣطﻠوﺑﺔ  اﻟوﺛﺎﺋق     \\n * ﺷﻬﺎدة ﻓﻲ اﻟطﺎﻟب ﺑﻬﺎ ﻗﺎم اﻟﺗﻲ اﻟﺗﺳﺟﻳﻼت  اﻟدﻛﺗوراﻩﻣﺟﻣوع  \\n* ﺑﺎﻟدﻛﺗوراﻩ  ﺟﺎﻣﻌﻳﺔ ﺑﺳﻧﺔ ﺗﻣدﻳد ﻣﻘرر\\n \\n  \\n اﻟﻤﺸﺮفرأي  اﻷﺳﺘﺎذ   واﻟﺘﺄﻫﻴﻞ  اﻟﺪﻛﺘﻮراﻩ  ﻟﺠﻨﺔ رأي   اﻟﻤﺆﺳﺴﺔ  رﺋﻴﺲ رأي   \\n  \\nﰲاﳌﻨﺴﺘﲑ  .....................................  \\nاﻹﻣﻀــﺎء  \\n  \\n  \\n  \\n    \\nﰲاﳌﻨﺴﺘﲑ  .....................................  \\nاﻹﻣﻀــﺎء    \\nﰲاﳌﻨﺴﺘﲑ  .....................................  \\nاﻹﻣﻀــﺎء']"
      ]
     },
     "execution_count": 49,
     "metadata": {},
     "output_type": "execute_result"
    }
   ],
   "source": [
    "splits4"
   ]
  },
  {
   "cell_type": "code",
   "execution_count": 50,
   "id": "bafef258-ab2c-465f-8e2f-2c276eb7aba6",
   "metadata": {},
   "outputs": [],
   "source": [
    "embeddings4 = embeddings_model.embed_documents(\n",
    "    splits4,  \n",
    "    # normalize_embeddings=True,\n",
    "    # batch_size=256, \n",
    "    # show_progress_bar=True\n",
    ")"
   ]
  },
  {
   "cell_type": "code",
   "execution_count": 51,
   "id": "b01e8062-0def-4da8-8b2f-98053bdd35fe",
   "metadata": {},
   "outputs": [],
   "source": [
    "ids4 = [str(uuid.uuid4()) for _ in range(len(splits4))]"
   ]
  },
  {
   "cell_type": "code",
   "execution_count": 52,
   "id": "20668d43-2aeb-4cdd-9774-ba0d96638d04",
   "metadata": {},
   "outputs": [],
   "source": [
    "data.add(\n",
    "    documents=splits4,    \n",
    "    embeddings=embeddings4,  \n",
    "    ids=ids4               \n",
    ")"
   ]
  },
  {
   "cell_type": "markdown",
   "id": "613326b1-ddae-45bf-be40-288a5d0c2242",
   "metadata": {},
   "source": [
    "# Document 4 fiche d'evaluation de stage "
   ]
  },
  {
   "cell_type": "code",
   "execution_count": 54,
   "id": "00004f54-57f6-4cd5-ab98-799ec0f5fa2f",
   "metadata": {},
   "outputs": [],
   "source": [
    "file_path =  \"Fiche d'évaluation de stage.pdf\"\n",
    "loader = PyPDFLoader(file_path)\n",
    "pages = []\n",
    "async for page in loader.alazy_load():\n",
    "    pages.append(page)"
   ]
  },
  {
   "cell_type": "code",
   "execution_count": 55,
   "id": "9e2c3182-d58f-4cf7-b037-195fe9c642b2",
   "metadata": {},
   "outputs": [],
   "source": [
    "document4=[page.page_content for doc in pages]"
   ]
  },
  {
   "cell_type": "code",
   "execution_count": 56,
   "id": "b9013467-f6a9-4be9-a647-212cabf0a505",
   "metadata": {},
   "outputs": [
    {
     "data": {
      "text/plain": [
       "[\"Jugement\\nDu bon sens, en général bon jugement\\nBon jugement dans les situations de routine\\nJugement peu sûr même dans les situations de routine\\n3- Evaluation de la personnalité\\nResponsabilité\\nOn peut se fier à lui dans la plupart des situations\\nOn peut se fier à lui dans les situations de routine\\nPeu fiable, nécessite un contrôle constant\\nIntégration dans l’entreprise\\nExcellent travail en équipe, bonne harmonie avec les autres\\nRelation correcte avec les autres\\nSuscite parfois le malaise, provoque des frictions\\n4- Evaluation de la formation\\nExcellente formation adaptée à nos exigences\\nFormation théorique incomplète avec des lacunes pratiques\\nFormation non adaptée au stage\\nAutres :\\na. Vos propositions pour améliorer la formation des étudiants\\n.................................................................................................................................................................................................\\n.................................................................................................................................................................................................\\n.................................................................................................................................................................................................\\n.................................................................................................................................................................................................\\n.................................................................................................................................................................................................\\nb. En utilisant comme seul critère le rendement du stagiaire, souhaiteriez-vous le recevoir de nouveau en stage :\\nOui Non\\nc. Recrutement à l'issu du stage:\\nOui Non Pas d'opportunité\\nDate et signature du responsable :\\nCachet de l’Etablissement d’accueil :\",\n",
       " \"Jugement\\nDu bon sens, en général bon jugement\\nBon jugement dans les situations de routine\\nJugement peu sûr même dans les situations de routine\\n3- Evaluation de la personnalité\\nResponsabilité\\nOn peut se fier à lui dans la plupart des situations\\nOn peut se fier à lui dans les situations de routine\\nPeu fiable, nécessite un contrôle constant\\nIntégration dans l’entreprise\\nExcellent travail en équipe, bonne harmonie avec les autres\\nRelation correcte avec les autres\\nSuscite parfois le malaise, provoque des frictions\\n4- Evaluation de la formation\\nExcellente formation adaptée à nos exigences\\nFormation théorique incomplète avec des lacunes pratiques\\nFormation non adaptée au stage\\nAutres :\\na. Vos propositions pour améliorer la formation des étudiants\\n.................................................................................................................................................................................................\\n.................................................................................................................................................................................................\\n.................................................................................................................................................................................................\\n.................................................................................................................................................................................................\\n.................................................................................................................................................................................................\\nb. En utilisant comme seul critère le rendement du stagiaire, souhaiteriez-vous le recevoir de nouveau en stage :\\nOui Non\\nc. Recrutement à l'issu du stage:\\nOui Non Pas d'opportunité\\nDate et signature du responsable :\\nCachet de l’Etablissement d’accueil :\"]"
      ]
     },
     "execution_count": 56,
     "metadata": {},
     "output_type": "execute_result"
    }
   ],
   "source": [
    "document4"
   ]
  },
  {
   "cell_type": "markdown",
   "id": "d7b8c852-58fd-4bfa-b71b-514b4d756c25",
   "metadata": {},
   "source": [
    "# Splitting DOC 4 into chunks "
   ]
  },
  {
   "cell_type": "code",
   "execution_count": 58,
   "id": "8739dac4-82f4-40e7-9fac-65a191e2cd43",
   "metadata": {},
   "outputs": [],
   "source": [
    "document4 = \"\\n\".join(document4)"
   ]
  },
  {
   "cell_type": "code",
   "execution_count": 59,
   "id": "8d2fd13b-1948-4b66-abd8-c05e3b8fc05a",
   "metadata": {},
   "outputs": [],
   "source": [
    "text_splitter = RecursiveCharacterTextSplitter(chunk_size=700, chunk_overlap=100, separators=[\"\\n\\n\", \"\\n\", \".\", \" \"])\n",
    "splits5 = text_splitter.split_text(document4)"
   ]
  },
  {
   "cell_type": "code",
   "execution_count": 60,
   "id": "26758f1d-d7ae-45d9-ad8e-272408f32d7b",
   "metadata": {
    "scrolled": true
   },
   "outputs": [
    {
     "data": {
      "text/plain": [
       "['Jugement\\nDu bon sens, en général bon jugement\\nBon jugement dans les situations de routine\\nJugement peu sûr même dans les situations de routine\\n3- Evaluation de la personnalité\\nResponsabilité\\nOn peut se fier à lui dans la plupart des situations\\nOn peut se fier à lui dans les situations de routine\\nPeu fiable, nécessite un contrôle constant\\nIntégration dans l’entreprise\\nExcellent travail en équipe, bonne harmonie avec les autres\\nRelation correcte avec les autres\\nSuscite parfois le malaise, provoque des frictions\\n4- Evaluation de la formation\\nExcellente formation adaptée à nos exigences\\nFormation théorique incomplète avec des lacunes pratiques\\nFormation non adaptée au stage\\nAutres :',\n",
       " 'Formation théorique incomplète avec des lacunes pratiques\\nFormation non adaptée au stage\\nAutres :\\na. Vos propositions pour améliorer la formation des étudiants\\n.................................................................................................................................................................................................\\n.................................................................................................................................................................................................',\n",
       " '.................................................................................................................................................................................................\\n.................................................................................................................................................................................................\\n.................................................................................................................................................................................................\\nb. En utilisant comme seul critère le rendement du stagiaire, souhaiteriez-vous le recevoir de nouveau en stage :',\n",
       " \"Oui Non\\nc. Recrutement à l'issu du stage:\\nOui Non Pas d'opportunité\\nDate et signature du responsable :\\nCachet de l’Etablissement d’accueil :\\nJugement\\nDu bon sens, en général bon jugement\\nBon jugement dans les situations de routine\\nJugement peu sûr même dans les situations de routine\\n3- Evaluation de la personnalité\\nResponsabilité\\nOn peut se fier à lui dans la plupart des situations\\nOn peut se fier à lui dans les situations de routine\\nPeu fiable, nécessite un contrôle constant\\nIntégration dans l’entreprise\\nExcellent travail en équipe, bonne harmonie avec les autres\\nRelation correcte avec les autres\\nSuscite parfois le malaise, provoque des frictions\\n4- Evaluation de la formation\",\n",
       " 'Suscite parfois le malaise, provoque des frictions\\n4- Evaluation de la formation\\nExcellente formation adaptée à nos exigences\\nFormation théorique incomplète avec des lacunes pratiques\\nFormation non adaptée au stage\\nAutres :\\na. Vos propositions pour améliorer la formation des étudiants\\n.................................................................................................................................................................................................\\n.................................................................................................................................................................................................',\n",
       " '.................................................................................................................................................................................................\\n.................................................................................................................................................................................................\\n.................................................................................................................................................................................................\\nb. En utilisant comme seul critère le rendement du stagiaire, souhaiteriez-vous le recevoir de nouveau en stage :',\n",
       " \"Oui Non\\nc. Recrutement à l'issu du stage:\\nOui Non Pas d'opportunité\\nDate et signature du responsable :\\nCachet de l’Etablissement d’accueil :\"]"
      ]
     },
     "execution_count": 60,
     "metadata": {},
     "output_type": "execute_result"
    }
   ],
   "source": [
    "splits5"
   ]
  },
  {
   "cell_type": "code",
   "execution_count": 61,
   "id": "89284c46-219f-43d3-b5b2-fc177b875b6c",
   "metadata": {},
   "outputs": [],
   "source": [
    "embeddings5 = embeddings_model.embed_documents(\n",
    "    splits5,  \n",
    "    # normalize_embeddings=True,\n",
    "    # batch_size=256, \n",
    "    # show_progress_bar=True\n",
    ")"
   ]
  },
  {
   "cell_type": "code",
   "execution_count": 62,
   "id": "412a144e-87c1-4a9b-88be-21dce61861cd",
   "metadata": {},
   "outputs": [],
   "source": [
    "ids5 = [str(uuid.uuid4()) for _ in range(len(splits5))]"
   ]
  },
  {
   "cell_type": "code",
   "execution_count": 63,
   "id": "ebe77200-ef2e-415d-ab28-a59747dca2d7",
   "metadata": {},
   "outputs": [],
   "source": [
    "data.add(\n",
    "    documents=splits5,    \n",
    "    embeddings=embeddings5,  \n",
    "    ids=ids5               \n",
    ")"
   ]
  },
  {
   "cell_type": "markdown",
   "id": "0abcc627-ba5b-426a-a35f-72a946c493c1",
   "metadata": {},
   "source": [
    "# Document 5 النظام الداخلي لكلية العلوم بالمنستير"
   ]
  },
  {
   "cell_type": "code",
   "execution_count": 65,
   "id": "ef4d85c8-8043-4e29-9682-0c966044aeba",
   "metadata": {},
   "outputs": [],
   "source": [
    "file_path =  \"النظام الداخلي لكلية العلوم بالمنستير.pdf\"\n",
    "loader = PyPDFLoader(file_path)\n",
    "pages = []\n",
    "async for page in loader.alazy_load():\n",
    "    pages.append(page)"
   ]
  },
  {
   "cell_type": "code",
   "execution_count": 66,
   "id": "be148458-8441-435b-8914-44cc8a9e67a5",
   "metadata": {},
   "outputs": [],
   "source": [
    "document5=[page.page_content for doc in pages]"
   ]
  },
  {
   "cell_type": "code",
   "execution_count": 67,
   "id": "2b694c23-f0d0-42b1-98cd-9b0c10168278",
   "metadata": {},
   "outputs": [
    {
     "data": {
      "text/plain": [
       "['الجمهورية التونسية\\nوزارة التعليم العالي والبحث العلمي\\nجامعة المنستير\\nكلية العلوم بالمنستير\\nالنظــــام الداخلي لكلية العلــــــوم بالمنستيـــــر\\nل تحت \\x06تي تعم \\x06تير ال \\x06تنظم هذه الوثيقة الحياة الطلابية داخل كلية العلوم بالمنسإ \\x06ع\\x06الي والبحث العلمي وترج \\x06 وزارة التعليم الع \\x06راف\\x06ش\\nبالنظر لجامعة المنستير.\\n1.  الكلية \\x06 والامتحانات عبر موقع \\x06لاع على نظام الدراسة ّيتعين على الطالب الاط ... www fsm rnu tn ل\\x06\\x06 كما يتعين عليه متابعة ك\\nتجدات \\x06ه بالمس \\x06دم إلمام \\x06الب بع \\x06ذر الط \\x06ق ولا يع \\x06ة للتعلي \\x06اكن المخصص \\x06 أو بالأم \\x06ع\\x06بر نفس الموق \\x06ة ع\\x06البلاغات الإدارية والبيداغوجي\\nالمعلنة.\\n2. ع\\x06بر الموق \\x06ا ع\\x06ط الأول منه \\x06دفع القس \\x06ة أو ب \\x06يم كامل \\x06اليم الترس \\x06دفع مع \\x06ة ب\\x06نة جامعي \\x06ل س\\x06ع ك\\x06يم في مطل \\x06ينطلق الترس تروني \\x06الإلك\\n.. www inscription tnيم\\x06\\x06  ويتم الترسالإداري  ولا\\x06ة\\x06\\x06 ة المطلوب \\x06\\x06 ائق الإداري \\x06\\x06 تكمال الوث \\x06\\x06 ية باس \\x06\\x06 رة وشخص \\x06\\x06 فة مباش \\x06\\x06 ة بص \\x06\\x06  بالكلي\\nتكتسب صفة طالب بالكلية إلا بعد إتمام الترسيم الإداري.\\n3. ناديق \\x06\\x06 دى الص \\x06\\x06 قرض من إح \\x06\\x06\\x06  أو ب\\x06ة\\x06\\x06 ة المتمتعين بمنح \\x06\\x06 تثناء الطلب \\x06\\x06 ا باس \\x06\\x06 يم إجباري \\x06\\x06 اليم الترس \\x06\\x06 اني من مع \\x06\\x06 ط الث \\x06\\x06 ع القس \\x06\\x06 بر دف \\x06\\x06 يعت (\\nاركة في \\x06\\x06 ان من المش \\x06\\x06 ه الحرم \\x06\\x06 دم دفع \\x06\\x06  عن ع ّر\\x06\\x06 اني، وينج \\x06\\x06 ي الث \\x06\\x06 ات السداس \\x06\\x06 ل انطلاق امتحان \\x06\\x06 ا قب\\x06\\x06 ك وجوب \\x06\\x06 ة، ويتم ذل \\x06\\x06 الاجتماعي)\\nامتحانات آخر السنة والحرمان من الحصول على الوثائق  الإدارية.\\n4. ول على \\x06ية الحص \\x06ات الخصوص \\x06ة من ذوي الاحتياج \\x06يمكن للطلب راءات \\x06إج ديم\\x06ريطة تق \\x06ة ش\\x06ات الكلي \\x06دود إمكاني \\x06تثنائية في ح \\x06 اس\\nم.ّمطلب مدع\\n5. اء\\x06ا ج\\x06الب بم \\x06ّد الط \\x06ة ويتقي \\x06نة جامعي \\x06ل س\\x06ة ك\\x06ة في بداي \\x06ل مجموع \\x06تضبط قوائم الأفواج والمجموعات وجداول أوقات الدراسة لك\\nفيها.\\n6. يتعرض الطالب المتغيب على ثلاث حصص أشغال تطبيقية أو أكثر لعقوبة تأديبية\\n7.  المسيرة أو التطبيقية إلى عقوبة تأديبية في حالة تسجيل أي غياب جماعي \\x06يتعرض الفوج أو مجموعة الدروس\\n8. كل طالب تسلط عليه عقوبة تأديبية يحرم آليا من التمتع بالإسعاف في الامتحان(Rachat.)\\n9.البّيتعين على الط :\\n◦  الكلية وحسن التعامل مع زملائه الطلبة \\x06احترام إطار التدريس وأعوان\\n◦ الحفاظ على ممتلكات المؤسسة والحرص على المحافظة على نظافة الكلية\\n◦ عدم تعليق أي وثائق أو منشورات دون التأشير المسبق منالإدارة.\\n10. يمثل الطلبة المنتخبون بالمجلس العلمي للكلية كافة زملائهم ويعتبرون همزة الوصل بينهم وبين إدارة الكلية\\nالبة \\x06\\x06\\x06\\x06\\x06إني الط () …………………………………………………………………………………………………\\nلعت على النظام الداخلي لكلية العلوم بالمنستير ّاط مع الموافقة والالتزام بما جاء فيه.\\nحرر بالمنستير في :     ………/………/ 2021 الإمضاء\\n2024']"
      ]
     },
     "execution_count": 67,
     "metadata": {},
     "output_type": "execute_result"
    }
   ],
   "source": [
    "document5"
   ]
  },
  {
   "cell_type": "markdown",
   "id": "42f59c21-bc09-452f-b786-462cfcac9932",
   "metadata": {},
   "source": [
    "# splitting DOC 5 into chunks "
   ]
  },
  {
   "cell_type": "code",
   "execution_count": 69,
   "id": "638c2014-eeb0-468a-8bb8-a19c40912265",
   "metadata": {},
   "outputs": [],
   "source": [
    "document5 = \"\\n\".join(document5)"
   ]
  },
  {
   "cell_type": "code",
   "execution_count": 70,
   "id": "e86804f1-803b-4a7a-aed8-17fd9452970b",
   "metadata": {},
   "outputs": [],
   "source": [
    "text_splitter = RecursiveCharacterTextSplitter(chunk_size=700, chunk_overlap=100, separators=[\"\\n\\n\", \"\\n\", \".\", \" \"])\n",
    "splits6 = text_splitter.split_text(document5)"
   ]
  },
  {
   "cell_type": "code",
   "execution_count": 71,
   "id": "3f013125-00fa-4a4f-9aaa-4a4dd92f8ddb",
   "metadata": {
    "scrolled": true
   },
   "outputs": [
    {
     "data": {
      "text/plain": [
       "['الجمهورية التونسية\\nوزارة التعليم العالي والبحث العلمي\\nجامعة المنستير\\nكلية العلوم بالمنستير\\nالنظــــام الداخلي لكلية العلــــــوم بالمنستيـــــر\\nل تحت \\x06تي تعم \\x06تير ال \\x06تنظم هذه الوثيقة الحياة الطلابية داخل كلية العلوم بالمنسإ \\x06ع\\x06الي والبحث العلمي وترج \\x06 وزارة التعليم الع \\x06راف\\x06ش\\nبالنظر لجامعة المنستير.\\n1.  الكلية \\x06 والامتحانات عبر موقع \\x06لاع على نظام الدراسة ّيتعين على الطالب الاط ... www fsm rnu tn ل\\x06\\x06 كما يتعين عليه متابعة ك\\nتجدات \\x06ه بالمس \\x06دم إلمام \\x06الب بع \\x06ذر الط \\x06ق ولا يع \\x06ة للتعلي \\x06اكن المخصص \\x06 أو بالأم \\x06ع\\x06بر نفس الموق \\x06ة ع\\x06البلاغات الإدارية والبيداغوجي\\nالمعلنة.',\n",
       " 'المعلنة.\\n2. ع\\x06بر الموق \\x06ا ع\\x06ط الأول منه \\x06دفع القس \\x06ة أو ب \\x06يم كامل \\x06اليم الترس \\x06دفع مع \\x06ة ب\\x06نة جامعي \\x06ل س\\x06ع ك\\x06يم في مطل \\x06ينطلق الترس تروني \\x06الإلك\\n.. www inscription tnيم\\x06\\x06  ويتم الترسالإداري  ولا\\x06ة\\x06\\x06 ة المطلوب \\x06\\x06 ائق الإداري \\x06\\x06 تكمال الوث \\x06\\x06 ية باس \\x06\\x06 رة وشخص \\x06\\x06 فة مباش \\x06\\x06 ة بص \\x06\\x06  بالكلي\\nتكتسب صفة طالب بالكلية إلا بعد إتمام الترسيم الإداري.\\n3. ناديق \\x06\\x06 دى الص \\x06\\x06 قرض من إح \\x06\\x06\\x06  أو ب\\x06ة\\x06\\x06 ة المتمتعين بمنح \\x06\\x06 تثناء الطلب \\x06\\x06 ا باس \\x06\\x06 يم إجباري \\x06\\x06 اليم الترس \\x06\\x06 اني من مع \\x06\\x06 ط الث \\x06\\x06 ع القس \\x06\\x06 بر دف \\x06\\x06 يعت (\\nاركة في \\x06\\x06 ان من المش \\x06\\x06 ه الحرم \\x06\\x06 دم دفع \\x06\\x06  عن ع ّر\\x06\\x06 اني، وينج \\x06\\x06 ي الث \\x06\\x06 ات السداس \\x06\\x06 ل انطلاق امتحان \\x06\\x06 ا قب\\x06\\x06 ك وجوب \\x06\\x06 ة، ويتم ذل \\x06\\x06 الاجتماعي)',\n",
       " 'امتحانات آخر السنة والحرمان من الحصول على الوثائق  الإدارية.\\n4. ول على \\x06ية الحص \\x06ات الخصوص \\x06ة من ذوي الاحتياج \\x06يمكن للطلب راءات \\x06إج ديم\\x06ريطة تق \\x06ة ش\\x06ات الكلي \\x06دود إمكاني \\x06تثنائية في ح \\x06 اس\\nم.ّمطلب مدع\\n5. اء\\x06ا ج\\x06الب بم \\x06ّد الط \\x06ة ويتقي \\x06نة جامعي \\x06ل س\\x06ة ك\\x06ة في بداي \\x06ل مجموع \\x06تضبط قوائم الأفواج والمجموعات وجداول أوقات الدراسة لك\\nفيها.\\n6. يتعرض الطالب المتغيب على ثلاث حصص أشغال تطبيقية أو أكثر لعقوبة تأديبية\\n7.  المسيرة أو التطبيقية إلى عقوبة تأديبية في حالة تسجيل أي غياب جماعي \\x06يتعرض الفوج أو مجموعة الدروس\\n8. كل طالب تسلط عليه عقوبة تأديبية يحرم آليا من التمتع بالإسعاف في الامتحان(Rachat.)\\n9.البّيتعين على الط :\\n◦  الكلية وحسن التعامل مع زملائه الطلبة \\x06احترام إطار التدريس وأعوان',\n",
       " '9.البّيتعين على الط :\\n◦  الكلية وحسن التعامل مع زملائه الطلبة \\x06احترام إطار التدريس وأعوان\\n◦ الحفاظ على ممتلكات المؤسسة والحرص على المحافظة على نظافة الكلية\\n◦ عدم تعليق أي وثائق أو منشورات دون التأشير المسبق منالإدارة.\\n10. يمثل الطلبة المنتخبون بالمجلس العلمي للكلية كافة زملائهم ويعتبرون همزة الوصل بينهم وبين إدارة الكلية\\nالبة \\x06\\x06\\x06\\x06\\x06إني الط () …………………………………………………………………………………………………\\nلعت على النظام الداخلي لكلية العلوم بالمنستير ّاط مع الموافقة والالتزام بما جاء فيه.\\nحرر بالمنستير في :     ………/………/ 2021 الإمضاء\\n2024']"
      ]
     },
     "execution_count": 71,
     "metadata": {},
     "output_type": "execute_result"
    }
   ],
   "source": [
    "splits6 "
   ]
  },
  {
   "cell_type": "code",
   "execution_count": 72,
   "id": "f0a69220-9bbb-4e9e-84bd-ec74395b7c5d",
   "metadata": {},
   "outputs": [],
   "source": [
    "embeddings6 = embeddings_model.embed_documents(\n",
    "    splits6,  \n",
    "    # normalize_embeddings=True,\n",
    "    # batch_size=256, \n",
    "    # show_progress_bar=True\n",
    ")"
   ]
  },
  {
   "cell_type": "code",
   "execution_count": 73,
   "id": "3bf947e5-5484-4395-b722-557e9cca167b",
   "metadata": {},
   "outputs": [],
   "source": [
    "ids6 = [str(uuid.uuid4()) for _ in range(len(splits6))]"
   ]
  },
  {
   "cell_type": "code",
   "execution_count": 74,
   "id": "d93f4bc5-e987-4c9d-a99d-7f51f0309ee3",
   "metadata": {},
   "outputs": [],
   "source": [
    "data.add(\n",
    "    documents=splits6,    \n",
    "    embeddings=embeddings6,  \n",
    "    ids=ids6               \n",
    ")"
   ]
  },
  {
   "cell_type": "markdown",
   "id": "4fd58490-ffe7-48a7-a680-e9a28a0939b7",
   "metadata": {},
   "source": [
    "# DOcument 6  Sante Mentale "
   ]
  },
  {
   "cell_type": "code",
   "execution_count": 76,
   "id": "3fcf0f0b-76a6-461d-98a2-49d08ea12e63",
   "metadata": {},
   "outputs": [],
   "source": [
    "file_path =  \"sante_mentale.pdf\"\n",
    "loader = PyPDFLoader(file_path)\n",
    "pages = []\n",
    "async for page in loader.alazy_load():\n",
    "    pages.append(page)"
   ]
  },
  {
   "cell_type": "code",
   "execution_count": 77,
   "id": "c4c04f29-dd04-454f-8eaa-6f75425a7561",
   "metadata": {},
   "outputs": [],
   "source": [
    "document6=[page.page_content for doc in pages]"
   ]
  },
  {
   "cell_type": "code",
   "execution_count": 78,
   "id": "3c8f8fea-cbd9-4047-b744-7058f0ba4c72",
   "metadata": {},
   "outputs": [
    {
     "data": {
      "text/plain": [
       "['Jours\\nLes psy chologues de la C ellule d’ écoute et d’ accompagnement psy chologique\\n                  sont à v otre disposition en t oute con/f_identialit é.\\n  Mme. Jamila B AHRI Mme. Besma JERBI\\nMardi - M ercredi :\\nFacult é des S cienc es E conomiques\\n et de G estion de M ahdia\\nJeudi :\\n Institut Supérieur des Sciences Appliquées \\net de Technologie de Mahdia\\nVendr edi :\\nInstitut Sup érieur d ’Informa tiques\\n et des M athéma tiques de M onastir                                                                                                    Mardi :\\nInstitut Sup érieur des L angues \\nAppliquées de M oknine\\nMercredi - Vendr edi :\\nFacult é de M édecine Den tair e \\nde M onastir \\nJeudi :\\nL’école sup érieur e des S cienc es \\net Techniques de la san té \\nde M onastir                                                                                                   Mardi - M ercredi - Jeudi :\\nCentre M édic al à la F acult é \\ndes S cienc es de M onastir\\nVendr edi :\\nInstitut de Mode de M onastir                                                                                                Mme. Wassila HABB ACHI\\nInstitut Supérieur des Arts et Métiers de Mahdia(Par Quinzaine)']"
      ]
     },
     "execution_count": 78,
     "metadata": {},
     "output_type": "execute_result"
    }
   ],
   "source": [
    "document6"
   ]
  },
  {
   "cell_type": "markdown",
   "id": "c29a29c4-99d8-4cbf-b8ec-6da5037f6b5e",
   "metadata": {},
   "source": [
    "# splitting DOC6 into chunks "
   ]
  },
  {
   "cell_type": "code",
   "execution_count": 80,
   "id": "d4f32885-949e-453a-865a-12c45147c781",
   "metadata": {},
   "outputs": [],
   "source": [
    "document6 = \"\\n\".join(document6)"
   ]
  },
  {
   "cell_type": "code",
   "execution_count": 81,
   "id": "924031f0-9036-4cbc-819a-356fa7721164",
   "metadata": {},
   "outputs": [],
   "source": [
    "text_splitter = RecursiveCharacterTextSplitter(chunk_size=700, chunk_overlap=100, separators=[\"\\n\\n\", \"\\n\", \".\", \" \"])\n",
    "splits7 = text_splitter.split_text(document6)"
   ]
  },
  {
   "cell_type": "code",
   "execution_count": 82,
   "id": "f1d561be-70ac-4424-bac2-e6243ee266a8",
   "metadata": {},
   "outputs": [
    {
     "data": {
      "text/plain": [
       "['Jours\\nLes psy chologues de la C ellule d’ écoute et d’ accompagnement psy chologique\\n                  sont à v otre disposition en t oute con/f_identialit é.\\n  Mme. Jamila B AHRI Mme. Besma JERBI\\nMardi - M ercredi :\\nFacult é des S cienc es E conomiques\\n et de G estion de M ahdia\\nJeudi :\\n Institut Supérieur des Sciences Appliquées \\net de Technologie de Mahdia\\nVendr edi :\\nInstitut Sup érieur d ’Informa tiques\\n et des M athéma tiques de M onastir                                                                                                    Mardi :\\nInstitut Sup érieur des L angues \\nAppliquées de M oknine\\nMercredi - Vendr edi :\\nFacult é de M édecine Den tair e \\nde M onastir \\nJeudi :',\n",
       " 'Mercredi - Vendr edi :\\nFacult é de M édecine Den tair e \\nde M onastir \\nJeudi :\\nL’école sup érieur e des S cienc es \\net Techniques de la san té \\nde M onastir                                                                                                   Mardi - M ercredi - Jeudi :\\nCentre M édic al à la F acult é \\ndes S cienc es de M onastir\\nVendr edi :\\nInstitut de Mode de M onastir                                                                                                Mme. Wassila HABB ACHI\\nInstitut Supérieur des Arts et Métiers de Mahdia(Par Quinzaine)']"
      ]
     },
     "execution_count": 82,
     "metadata": {},
     "output_type": "execute_result"
    }
   ],
   "source": [
    "splits7"
   ]
  },
  {
   "cell_type": "code",
   "execution_count": 83,
   "id": "5f654080-9b7a-4e94-8f3c-7d69856c57aa",
   "metadata": {},
   "outputs": [],
   "source": [
    "embeddings7 = embeddings_model.embed_documents(\n",
    "    splits7,  \n",
    "    # normalize_embeddings=True,\n",
    "    # batch_size=256, \n",
    "    # show_progress_bar=True\n",
    ")"
   ]
  },
  {
   "cell_type": "code",
   "execution_count": 84,
   "id": "47f586d3-be17-49dc-9faa-f26e96cbc417",
   "metadata": {},
   "outputs": [],
   "source": [
    "ids7 = [str(uuid.uuid4()) for _ in range(len(splits7))]"
   ]
  },
  {
   "cell_type": "code",
   "execution_count": 85,
   "id": "7e04dbf1-fd43-4fd7-8df4-444ff772ebb0",
   "metadata": {},
   "outputs": [],
   "source": [
    "data.add(\n",
    "    documents=splits7,    \n",
    "    embeddings=embeddings7,  \n",
    "    ids=ids7               \n",
    ")"
   ]
  },
  {
   "cell_type": "markdown",
   "id": "a07e2b82-05a2-45ef-8012-3ca71a6ac31f",
   "metadata": {},
   "source": [
    "# Documentt 7 Sante mentale 2"
   ]
  },
  {
   "cell_type": "code",
   "execution_count": 87,
   "id": "d2b5a99b-3d17-4864-909b-a31052e8a22c",
   "metadata": {},
   "outputs": [],
   "source": [
    "file_path =  \"sante_mentale2.pdf\"\n",
    "loader = PyPDFLoader(file_path)\n",
    "pages = []\n",
    "async for page in loader.alazy_load():\n",
    "    pages.append(page)"
   ]
  },
  {
   "cell_type": "code",
   "execution_count": 88,
   "id": "fcfb9e16-0c48-4fcf-9cbe-1445a0bc5c86",
   "metadata": {},
   "outputs": [],
   "source": [
    "document7=[page.page_content for doc in pages]"
   ]
  },
  {
   "cell_type": "code",
   "execution_count": 89,
   "id": "ba1263d0-36f1-493c-bc3c-5c6f8259633c",
   "metadata": {},
   "outputs": [
    {
     "data": {
      "text/plain": [
       "['الجمهورية التونسية   \\nوزارة التعليم العالي والبحث العلمي   \\n        جامعة المنستير    \\n \\n   \\n جدول تواجد الأخصائيات  النفسانيات  بالمؤسسات الجامعية الراجعة بالنظر لجامعة المنس تير بالنس بة   للس نة الجامعية  \\n 2021-2022   \\n \\n المكتب اليوم    المؤسسة  الأخصائية النفسانية  \\n \\n \\nمركز الطب الجامعي  \\n \\n الثلاثاء  \\nوالأربعاء  \\nوالخميس  \\n -  كلية العلوم  بالمنس تير  \\n-  المدرسة الوطنية للمهندسين بالمنس تير  \\n-  المعهد التحضيري للدراسات الهندس ية  \\nبالمنس تير  الس يدة  جميلة البحري  \\nقاعة التمريض بالمعهد العالي للموضة بالمنس تير  الجمعة  المعهد العا لي   للموضة بالمنس تير  \\nقاعة التمريض بالمعهد العالي للغات المطبقة  بالمكنين  الثلاثاء  المعهد العالي للغات المطبقة بالمكنين    \\nالس يدة بسمة  الجرب   \\nمكتب الأخصائية النفسانية بكلية طب الأس نان  \\nبالمنس تير  الأربعاء  \\nوالجمعة  \\n \\n -كلية الصيدلة بالمنس تير  \\n-كلية طب الاس نان بالمنس تير   \\n-المعهد العالي للبيو تكنولوجي ا   بالمنس تير  \\nقاعة  التمريض   با لمدرسة العليا لعلوم وتقنيات الصحة  \\nبالمنس تير  الخميس  -كلية الطب  بالمنس تير  \\n-المدرسة العليا لعلوم وتقنيات الصحة بالمنس تير  \\n \\nمكتب الأخصائية النفسانية بكلية العلوم   الاقتصادية  \\nوالتصرف بالمهدية  الثلاثاء     \\nو الأربعاء  -كلية العلوم الاقتصادية  و التصرف بالمهدية  \\n-المعهد  العالي للاإعلامية بالمهدية  \\n \\nالس يدة وس يلة الهباش  قاعة التمريض   با لمعهد العالي  للعلوم التطبيقية  \\nو ا لتكنولوجيا  بالمهدية  \\n \\n \\n الخميس  -المعهد العالي للدراسات التطبيقية في   \\nالإنسانيات بالمهدية  \\n-المعهد العالي للعلوم التطبيقية و ا لتكنولوجيا  \\nبالمهدية  \\n \\n                المعهد العالي للاإعلامية والرياضيات بالمنس تير  \\n \\nالمعهد العالي للفنون و الحرف بالمهدية  الجمعة  -المعهد العالي  للاإعلامية  و الرياضيات بالمنس تير  \\n-  المعهد العالي للفنون و الحرف بالمهدية']"
      ]
     },
     "execution_count": 89,
     "metadata": {},
     "output_type": "execute_result"
    }
   ],
   "source": [
    "document7"
   ]
  },
  {
   "cell_type": "markdown",
   "id": "e3a0c132-42d3-4c94-92f8-cae803a367dc",
   "metadata": {},
   "source": [
    "# splitting DOC 7 into chunks "
   ]
  },
  {
   "cell_type": "code",
   "execution_count": 91,
   "id": "54d47fed-b7b6-47d0-8f06-077f802683bf",
   "metadata": {},
   "outputs": [],
   "source": [
    "document7 = \"\\n\".join(document7)"
   ]
  },
  {
   "cell_type": "code",
   "execution_count": 92,
   "id": "9f3ee8f5-00a4-433b-98bf-944cc097f44f",
   "metadata": {},
   "outputs": [],
   "source": [
    "text_splitter = RecursiveCharacterTextSplitter(chunk_size=700, chunk_overlap=100, separators=[\"\\n\\n\", \"\\n\", \".\", \" \"])\n",
    "splits8 = text_splitter.split_text(document7)"
   ]
  },
  {
   "cell_type": "code",
   "execution_count": 93,
   "id": "b09a7d9e-1936-41d2-9ebc-9402efba822a",
   "metadata": {
    "scrolled": true
   },
   "outputs": [
    {
     "data": {
      "text/plain": [
       "['الجمهورية التونسية   \\nوزارة التعليم العالي والبحث العلمي   \\n        جامعة المنستير    \\n \\n   \\n جدول تواجد الأخصائيات  النفسانيات  بالمؤسسات الجامعية الراجعة بالنظر لجامعة المنس تير بالنس بة   للس نة الجامعية  \\n 2021-2022   \\n \\n المكتب اليوم    المؤسسة  الأخصائية النفسانية  \\n \\n \\nمركز الطب الجامعي  \\n \\n الثلاثاء  \\nوالأربعاء  \\nوالخميس  \\n -  كلية العلوم  بالمنس تير  \\n-  المدرسة الوطنية للمهندسين بالمنس تير  \\n-  المعهد التحضيري للدراسات الهندس ية  \\nبالمنس تير  الس يدة  جميلة البحري  \\nقاعة التمريض بالمعهد العالي للموضة بالمنس تير  الجمعة  المعهد العا لي   للموضة بالمنس تير  \\nقاعة التمريض بالمعهد العالي للغات المطبقة  بالمكنين  الثلاثاء  المعهد العالي للغات المطبقة بالمكنين    \\nالس يدة بسمة  الجرب',\n",
       " 'الس يدة بسمة  الجرب   \\nمكتب الأخصائية النفسانية بكلية طب الأس نان  \\nبالمنس تير  الأربعاء  \\nوالجمعة  \\n \\n -كلية الصيدلة بالمنس تير  \\n-كلية طب الاس نان بالمنس تير   \\n-المعهد العالي للبيو تكنولوجي ا   بالمنس تير  \\nقاعة  التمريض   با لمدرسة العليا لعلوم وتقنيات الصحة  \\nبالمنس تير  الخميس  -كلية الطب  بالمنس تير  \\n-المدرسة العليا لعلوم وتقنيات الصحة بالمنس تير  \\n \\nمكتب الأخصائية النفسانية بكلية العلوم   الاقتصادية  \\nوالتصرف بالمهدية  الثلاثاء     \\nو الأربعاء  -كلية العلوم الاقتصادية  و التصرف بالمهدية  \\n-المعهد  العالي للاإعلامية بالمهدية  \\n \\nالس يدة وس يلة الهباش  قاعة التمريض   با لمعهد العالي  للعلوم التطبيقية  \\nو ا لتكنولوجيا  بالمهدية  \\n \\n \\n الخميس  -المعهد العالي للدراسات التطبيقية في',\n",
       " 'و ا لتكنولوجيا  بالمهدية  \\n \\n \\n الخميس  -المعهد العالي للدراسات التطبيقية في   \\nالإنسانيات بالمهدية  \\n-المعهد العالي للعلوم التطبيقية و ا لتكنولوجيا  \\nبالمهدية  \\n \\n                المعهد العالي للاإعلامية والرياضيات بالمنس تير  \\n \\nالمعهد العالي للفنون و الحرف بالمهدية  الجمعة  -المعهد العالي  للاإعلامية  و الرياضيات بالمنس تير  \\n-  المعهد العالي للفنون و الحرف بالمهدية']"
      ]
     },
     "execution_count": 93,
     "metadata": {},
     "output_type": "execute_result"
    }
   ],
   "source": [
    "splits8"
   ]
  },
  {
   "cell_type": "code",
   "execution_count": 94,
   "id": "f892bf0e-e79e-4871-8788-575a06dc7cb6",
   "metadata": {},
   "outputs": [],
   "source": [
    "embeddings8 = embeddings_model.embed_documents(\n",
    "    splits8,  \n",
    "    # normalize_embeddings=True,\n",
    "    # batch_size=256, \n",
    "    # show_progress_bar=True\n",
    ")"
   ]
  },
  {
   "cell_type": "code",
   "execution_count": 95,
   "id": "8d5197c5-4f00-492d-bbd1-68aeba31bbad",
   "metadata": {},
   "outputs": [],
   "source": [
    "ids8 = [str(uuid.uuid4()) for _ in range(len(splits8))]"
   ]
  },
  {
   "cell_type": "code",
   "execution_count": 96,
   "id": "56cecaa8-aa09-4a85-a121-3ba5f15f0776",
   "metadata": {},
   "outputs": [],
   "source": [
    "data.add(\n",
    "    documents=splits8,    \n",
    "    embeddings=embeddings8,  \n",
    "    ids=ids8               \n",
    ")"
   ]
  },
  {
   "cell_type": "markdown",
   "id": "d5e805ba-5b98-490e-abad-4cadec88dcf9",
   "metadata": {},
   "source": [
    "# Document 8 calcule score pour mastere "
   ]
  },
  {
   "cell_type": "code",
   "execution_count": 98,
   "id": "327c833f-c2c4-4aa2-90f0-afe7787853d6",
   "metadata": {},
   "outputs": [],
   "source": [
    "file_path =  \"score_pour_mastere.pdf\"\n",
    "loader = PyPDFLoader(file_path)\n",
    "pages = []\n",
    "async for page in loader.alazy_load():\n",
    "    pages.append(page)"
   ]
  },
  {
   "cell_type": "code",
   "execution_count": 99,
   "id": "e61815c7-6d69-4f95-90c4-2c3826199cc5",
   "metadata": {},
   "outputs": [],
   "source": [
    "document8=[page.page_content for doc in pages]"
   ]
  },
  {
   "cell_type": "code",
   "execution_count": 100,
   "id": "53c54c57-09ab-4b66-9ca9-be3670c3bc05",
   "metadata": {},
   "outputs": [
    {
     "data": {
      "text/plain": [
       "['5. Les papiers demandés  : \\n \\n• Seuls les candidats admis ou sur les listes d’attente (listes publiées sur le site comme indiqué \\nsur le calendrier) sont tenus de fournir un dossier papier just ifiant les informations données \\nlors de leur candidature  \\n• Il est à rappeler que dans toute correspondance (dossier papier, réclamation…) une copie du \\nformulaire de candidature doit être fournie et vu que le site sera fermé aux candidatures le \\n14 Juillet 2017  et que de ce fait les candidats n’auront plus accès à leur compte ; chaque \\ncandidat doit imprimer son formulaire après dépôt , avant la date de clôture du 1 4 \\njuillet 201 7. \\n• Le candidat admis ou inscrit sur la liste d’attente de plus d’un mastère, doit obligatoirement \\nfournir un dossier complet pour chacun. Le dossier doit comporter les pièces suivantes  : \\n- une copie de la CIN  \\n- une copie du formulaire de candidature à imprimer sur le site après le dépôt  \\n- une copie certifiée conforme à l’original du relevé des no tes du Baccalauréat  \\n- une copie certifiée conforme à l’original du relevé des notes de chaque année de réussite  \\n- une attestation de retrait d’inscription (s’il y a lieu)  \\n \\n• Le dossier complet des candidats admissibles et de ceux inscrits sur les listes d’attente  \\ndoit être déposé ou envoyé par voie postale rapide au plus tard le 0 5/08/2017  (le tampon \\nde la poste faisant foi) à l’adresse suivante : \\n \\nMASTERE  : … ( Préciser ici l’intitulé du Mastère )…… \\nFaculté des Sciences de Monastir  \\nBvd de l’Environnement 5019 Mona stir \\n \\nRemarques très importantes : \\n \\n1. Le candidat fournissant de fausse(s) donnée(s) lors de l’enregistrement de sa candidature sur le site sera automatiquement éliminé.  Aucune réclamation à ce propos ne sera étudié e, \\nquel qu’en  soient les raisons . \\n2. Le candi dat ne respectant pas scrupuleusement l e calendrier, perd définitivement son droit à \\nl’inscription en mastère.  \\n3. Celui qui ne peut plus accéder à son compte à cause de l’oubli du mot de passe est \\nautomatiquement éliminé de la liste. Il n’y  a aucune possibilité de vous fournir le mot \\nde passe. Veuillez SVP imprimer  votre formulaire rempli juste après l’avoir \"Envoyer\".  \\n \\n \\n3',\n",
       " '5. Les papiers demandés  : \\n \\n• Seuls les candidats admis ou sur les listes d’attente (listes publiées sur le site comme indiqué \\nsur le calendrier) sont tenus de fournir un dossier papier just ifiant les informations données \\nlors de leur candidature  \\n• Il est à rappeler que dans toute correspondance (dossier papier, réclamation…) une copie du \\nformulaire de candidature doit être fournie et vu que le site sera fermé aux candidatures le \\n14 Juillet 2017  et que de ce fait les candidats n’auront plus accès à leur compte ; chaque \\ncandidat doit imprimer son formulaire après dépôt , avant la date de clôture du 1 4 \\njuillet 201 7. \\n• Le candidat admis ou inscrit sur la liste d’attente de plus d’un mastère, doit obligatoirement \\nfournir un dossier complet pour chacun. Le dossier doit comporter les pièces suivantes  : \\n- une copie de la CIN  \\n- une copie du formulaire de candidature à imprimer sur le site après le dépôt  \\n- une copie certifiée conforme à l’original du relevé des no tes du Baccalauréat  \\n- une copie certifiée conforme à l’original du relevé des notes de chaque année de réussite  \\n- une attestation de retrait d’inscription (s’il y a lieu)  \\n \\n• Le dossier complet des candidats admissibles et de ceux inscrits sur les listes d’attente  \\ndoit être déposé ou envoyé par voie postale rapide au plus tard le 0 5/08/2017  (le tampon \\nde la poste faisant foi) à l’adresse suivante : \\n \\nMASTERE  : … ( Préciser ici l’intitulé du Mastère )…… \\nFaculté des Sciences de Monastir  \\nBvd de l’Environnement 5019 Mona stir \\n \\nRemarques très importantes : \\n \\n1. Le candidat fournissant de fausse(s) donnée(s) lors de l’enregistrement de sa candidature sur le site sera automatiquement éliminé.  Aucune réclamation à ce propos ne sera étudié e, \\nquel qu’en  soient les raisons . \\n2. Le candi dat ne respectant pas scrupuleusement l e calendrier, perd définitivement son droit à \\nl’inscription en mastère.  \\n3. Celui qui ne peut plus accéder à son compte à cause de l’oubli du mot de passe est \\nautomatiquement éliminé de la liste. Il n’y  a aucune possibilité de vous fournir le mot \\nde passe. Veuillez SVP imprimer  votre formulaire rempli juste après l’avoir \"Envoyer\".  \\n \\n \\n3',\n",
       " '5. Les papiers demandés  : \\n \\n• Seuls les candidats admis ou sur les listes d’attente (listes publiées sur le site comme indiqué \\nsur le calendrier) sont tenus de fournir un dossier papier just ifiant les informations données \\nlors de leur candidature  \\n• Il est à rappeler que dans toute correspondance (dossier papier, réclamation…) une copie du \\nformulaire de candidature doit être fournie et vu que le site sera fermé aux candidatures le \\n14 Juillet 2017  et que de ce fait les candidats n’auront plus accès à leur compte ; chaque \\ncandidat doit imprimer son formulaire après dépôt , avant la date de clôture du 1 4 \\njuillet 201 7. \\n• Le candidat admis ou inscrit sur la liste d’attente de plus d’un mastère, doit obligatoirement \\nfournir un dossier complet pour chacun. Le dossier doit comporter les pièces suivantes  : \\n- une copie de la CIN  \\n- une copie du formulaire de candidature à imprimer sur le site après le dépôt  \\n- une copie certifiée conforme à l’original du relevé des no tes du Baccalauréat  \\n- une copie certifiée conforme à l’original du relevé des notes de chaque année de réussite  \\n- une attestation de retrait d’inscription (s’il y a lieu)  \\n \\n• Le dossier complet des candidats admissibles et de ceux inscrits sur les listes d’attente  \\ndoit être déposé ou envoyé par voie postale rapide au plus tard le 0 5/08/2017  (le tampon \\nde la poste faisant foi) à l’adresse suivante : \\n \\nMASTERE  : … ( Préciser ici l’intitulé du Mastère )…… \\nFaculté des Sciences de Monastir  \\nBvd de l’Environnement 5019 Mona stir \\n \\nRemarques très importantes : \\n \\n1. Le candidat fournissant de fausse(s) donnée(s) lors de l’enregistrement de sa candidature sur le site sera automatiquement éliminé.  Aucune réclamation à ce propos ne sera étudié e, \\nquel qu’en  soient les raisons . \\n2. Le candi dat ne respectant pas scrupuleusement l e calendrier, perd définitivement son droit à \\nl’inscription en mastère.  \\n3. Celui qui ne peut plus accéder à son compte à cause de l’oubli du mot de passe est \\nautomatiquement éliminé de la liste. Il n’y  a aucune possibilité de vous fournir le mot \\nde passe. Veuillez SVP imprimer  votre formulaire rempli juste après l’avoir \"Envoyer\".  \\n \\n \\n3']"
      ]
     },
     "execution_count": 100,
     "metadata": {},
     "output_type": "execute_result"
    }
   ],
   "source": [
    "document8"
   ]
  },
  {
   "cell_type": "markdown",
   "id": "a024d037-76b3-43bb-9398-0d8418ce3ffb",
   "metadata": {},
   "source": [
    "# splitting DOC8 into chunks "
   ]
  },
  {
   "cell_type": "code",
   "execution_count": 102,
   "id": "cbb64369-dd5a-4fc0-bc6b-3f7254ed5fb1",
   "metadata": {},
   "outputs": [],
   "source": [
    "document8 = \"\\n\".join(document8)"
   ]
  },
  {
   "cell_type": "code",
   "execution_count": 103,
   "id": "17d4df1c-63dc-4285-99e1-a0d3e7a5c0f3",
   "metadata": {},
   "outputs": [],
   "source": [
    "text_splitter = RecursiveCharacterTextSplitter(chunk_size=700, chunk_overlap=100, separators=[\"\\n\\n\", \"\\n\", \".\", \" \"])\n",
    "splits9 = text_splitter.split_text(document8)"
   ]
  },
  {
   "cell_type": "code",
   "execution_count": 104,
   "id": "14f440f8-8408-44f3-b2f9-71c0b5cc2b14",
   "metadata": {
    "scrolled": true
   },
   "outputs": [
    {
     "data": {
      "text/plain": [
       "['5. Les papiers demandés  : \\n \\n• Seuls les candidats admis ou sur les listes d’attente (listes publiées sur le site comme indiqué \\nsur le calendrier) sont tenus de fournir un dossier papier just ifiant les informations données \\nlors de leur candidature  \\n• Il est à rappeler que dans toute correspondance (dossier papier, réclamation…) une copie du \\nformulaire de candidature doit être fournie et vu que le site sera fermé aux candidatures le \\n14 Juillet 2017  et que de ce fait les candidats n’auront plus accès à leur compte ; chaque \\ncandidat doit imprimer son formulaire après dépôt , avant la date de clôture du 1 4 \\njuillet 201 7.',\n",
       " 'juillet 201 7. \\n• Le candidat admis ou inscrit sur la liste d’attente de plus d’un mastère, doit obligatoirement \\nfournir un dossier complet pour chacun. Le dossier doit comporter les pièces suivantes  : \\n- une copie de la CIN  \\n- une copie du formulaire de candidature à imprimer sur le site après le dépôt  \\n- une copie certifiée conforme à l’original du relevé des no tes du Baccalauréat  \\n- une copie certifiée conforme à l’original du relevé des notes de chaque année de réussite  \\n- une attestation de retrait d’inscription (s’il y a lieu)  \\n \\n• Le dossier complet des candidats admissibles et de ceux inscrits sur les listes d’attente',\n",
       " '• Le dossier complet des candidats admissibles et de ceux inscrits sur les listes d’attente  \\ndoit être déposé ou envoyé par voie postale rapide au plus tard le 0 5/08/2017  (le tampon \\nde la poste faisant foi) à l’adresse suivante : \\n \\nMASTERE  : … ( Préciser ici l’intitulé du Mastère )…… \\nFaculté des Sciences de Monastir  \\nBvd de l’Environnement 5019 Mona stir \\n \\nRemarques très importantes : \\n \\n1. Le candidat fournissant de fausse(s) donnée(s) lors de l’enregistrement de sa candidature sur le site sera automatiquement éliminé.  Aucune réclamation à ce propos ne sera étudié e, \\nquel qu’en  soient les raisons .',\n",
       " 'quel qu’en  soient les raisons . \\n2. Le candi dat ne respectant pas scrupuleusement l e calendrier, perd définitivement son droit à \\nl’inscription en mastère.  \\n3. Celui qui ne peut plus accéder à son compte à cause de l’oubli du mot de passe est \\nautomatiquement éliminé de la liste. Il n’y  a aucune possibilité de vous fournir le mot \\nde passe. Veuillez SVP imprimer  votre formulaire rempli juste après l’avoir \"Envoyer\".  \\n \\n \\n3\\n5. Les papiers demandés  : \\n \\n• Seuls les candidats admis ou sur les listes d’attente (listes publiées sur le site comme indiqué \\nsur le calendrier) sont tenus de fournir un dossier papier just ifiant les informations données \\nlors de leur candidature',\n",
       " 'lors de leur candidature  \\n• Il est à rappeler que dans toute correspondance (dossier papier, réclamation…) une copie du \\nformulaire de candidature doit être fournie et vu que le site sera fermé aux candidatures le \\n14 Juillet 2017  et que de ce fait les candidats n’auront plus accès à leur compte ; chaque \\ncandidat doit imprimer son formulaire après dépôt , avant la date de clôture du 1 4 \\njuillet 201 7. \\n• Le candidat admis ou inscrit sur la liste d’attente de plus d’un mastère, doit obligatoirement \\nfournir un dossier complet pour chacun. Le dossier doit comporter les pièces suivantes  : \\n- une copie de la CIN',\n",
       " '- une copie de la CIN  \\n- une copie du formulaire de candidature à imprimer sur le site après le dépôt  \\n- une copie certifiée conforme à l’original du relevé des no tes du Baccalauréat  \\n- une copie certifiée conforme à l’original du relevé des notes de chaque année de réussite  \\n- une attestation de retrait d’inscription (s’il y a lieu)  \\n \\n• Le dossier complet des candidats admissibles et de ceux inscrits sur les listes d’attente  \\ndoit être déposé ou envoyé par voie postale rapide au plus tard le 0 5/08/2017  (le tampon \\nde la poste faisant foi) à l’adresse suivante : \\n \\nMASTERE  : … ( Préciser ici l’intitulé du Mastère )…… \\nFaculté des Sciences de Monastir',\n",
       " 'MASTERE  : … ( Préciser ici l’intitulé du Mastère )…… \\nFaculté des Sciences de Monastir  \\nBvd de l’Environnement 5019 Mona stir \\n \\nRemarques très importantes : \\n \\n1. Le candidat fournissant de fausse(s) donnée(s) lors de l’enregistrement de sa candidature sur le site sera automatiquement éliminé.  Aucune réclamation à ce propos ne sera étudié e, \\nquel qu’en  soient les raisons . \\n2. Le candi dat ne respectant pas scrupuleusement l e calendrier, perd définitivement son droit à \\nl’inscription en mastère.  \\n3. Celui qui ne peut plus accéder à son compte à cause de l’oubli du mot de passe est \\nautomatiquement éliminé de la liste. Il n’y  a aucune possibilité de vous fournir le mot',\n",
       " 'automatiquement éliminé de la liste. Il n’y  a aucune possibilité de vous fournir le mot \\nde passe. Veuillez SVP imprimer  votre formulaire rempli juste après l’avoir \"Envoyer\".  \\n \\n \\n3\\n5. Les papiers demandés  : \\n \\n• Seuls les candidats admis ou sur les listes d’attente (listes publiées sur le site comme indiqué \\nsur le calendrier) sont tenus de fournir un dossier papier just ifiant les informations données \\nlors de leur candidature  \\n• Il est à rappeler que dans toute correspondance (dossier papier, réclamation…) une copie du \\nformulaire de candidature doit être fournie et vu que le site sera fermé aux candidatures le',\n",
       " 'formulaire de candidature doit être fournie et vu que le site sera fermé aux candidatures le \\n14 Juillet 2017  et que de ce fait les candidats n’auront plus accès à leur compte ; chaque \\ncandidat doit imprimer son formulaire après dépôt , avant la date de clôture du 1 4 \\njuillet 201 7. \\n• Le candidat admis ou inscrit sur la liste d’attente de plus d’un mastère, doit obligatoirement \\nfournir un dossier complet pour chacun. Le dossier doit comporter les pièces suivantes  : \\n- une copie de la CIN  \\n- une copie du formulaire de candidature à imprimer sur le site après le dépôt  \\n- une copie certifiée conforme à l’original du relevé des no tes du Baccalauréat',\n",
       " '- une copie certifiée conforme à l’original du relevé des no tes du Baccalauréat  \\n- une copie certifiée conforme à l’original du relevé des notes de chaque année de réussite  \\n- une attestation de retrait d’inscription (s’il y a lieu)  \\n \\n• Le dossier complet des candidats admissibles et de ceux inscrits sur les listes d’attente  \\ndoit être déposé ou envoyé par voie postale rapide au plus tard le 0 5/08/2017  (le tampon \\nde la poste faisant foi) à l’adresse suivante : \\n \\nMASTERE  : … ( Préciser ici l’intitulé du Mastère )…… \\nFaculté des Sciences de Monastir  \\nBvd de l’Environnement 5019 Mona stir \\n \\nRemarques très importantes :',\n",
       " 'Bvd de l’Environnement 5019 Mona stir \\n \\nRemarques très importantes : \\n \\n1. Le candidat fournissant de fausse(s) donnée(s) lors de l’enregistrement de sa candidature sur le site sera automatiquement éliminé.  Aucune réclamation à ce propos ne sera étudié e, \\nquel qu’en  soient les raisons . \\n2. Le candi dat ne respectant pas scrupuleusement l e calendrier, perd définitivement son droit à \\nl’inscription en mastère.  \\n3. Celui qui ne peut plus accéder à son compte à cause de l’oubli du mot de passe est \\nautomatiquement éliminé de la liste. Il n’y  a aucune possibilité de vous fournir le mot \\nde passe. Veuillez SVP imprimer  votre formulaire rempli juste après l’avoir \"Envoyer\".  \\n \\n \\n3']"
      ]
     },
     "execution_count": 104,
     "metadata": {},
     "output_type": "execute_result"
    }
   ],
   "source": [
    "splits9"
   ]
  },
  {
   "cell_type": "code",
   "execution_count": 105,
   "id": "94bbeb52-e8c1-4e18-b664-065b39a34703",
   "metadata": {},
   "outputs": [],
   "source": [
    "embeddings9 = embeddings_model.embed_documents(\n",
    "    splits9,  \n",
    "    # normalize_embeddings=True,\n",
    "    # batch_size=256, \n",
    "    # show_progress_bar=True\n",
    ")"
   ]
  },
  {
   "cell_type": "code",
   "execution_count": 106,
   "id": "f16f0212-408a-4797-96a2-3830e215bb88",
   "metadata": {},
   "outputs": [],
   "source": [
    "ids9 = [str(uuid.uuid4()) for _ in range(len(splits9))]"
   ]
  },
  {
   "cell_type": "code",
   "execution_count": 107,
   "id": "12d73339-4537-416f-b278-f8cacdb996e7",
   "metadata": {},
   "outputs": [],
   "source": [
    "data.add(\n",
    "    documents=splits9,    \n",
    "    embeddings=embeddings9,  \n",
    "    ids=ids9               \n",
    ")"
   ]
  },
  {
   "cell_type": "markdown",
   "id": "838c9b84-c30e-408c-96c5-a06e2d02c104",
   "metadata": {},
   "source": [
    "# Master RECHERCHE "
   ]
  },
  {
   "cell_type": "markdown",
   "id": "b914d373-67df-4722-908d-a3dc69ae5682",
   "metadata": {},
   "source": [
    "# Document 9 Recherche chimie "
   ]
  },
  {
   "cell_type": "code",
   "execution_count": 110,
   "id": "b21525ad-2a25-4eaf-a909-979ebacbbf75",
   "metadata": {},
   "outputs": [],
   "source": [
    "file_path =  \"recherche_chimie.pdf\"\n",
    "loader = PyPDFLoader(file_path)\n",
    "pages = []\n",
    "async for page in loader.alazy_load():\n",
    "    pages.append(page)"
   ]
  },
  {
   "cell_type": "code",
   "execution_count": 111,
   "id": "d0d4d115-1e49-4a25-8b27-4cd79d60ec82",
   "metadata": {},
   "outputs": [],
   "source": [
    "document9=[page.page_content for doc in pages]"
   ]
  },
  {
   "cell_type": "code",
   "execution_count": 112,
   "id": "12932069-69c3-486a-abd4-1bc44699b354",
   "metadata": {},
   "outputs": [
    {
     "data": {
      "text/plain": [
       "[\"MASTERE CHIMIE  \\n               Parcours: Synt hèse et Réactivité en Chimie Organique  M2 (S3)             2014/15  \\nVolume Horaire Semestriel Crédits Coefficients Régime d'Examen \\nN° Unité \\nd'Enseignement \\n(UE) Nature \\nde l'UE Elément constitutif d'UE (ECUE) \\nCours TD TP UE ECUE ECUE  UE Contrôle \\nContinu Régime \\nMixte \\nSynthèse et réactivité des composés \\nhétérocyliques 21 - - 3 1,5   \\n    \\n X \\n1 Chimie \\nhétérocyclique, Stéréochimie et Synthèse asymétrique  \\nUEF \\nStéréochimie et synthèse asymétrique  21 - -  \\n6 \\n 3 1,5 3 \\n  X \\nSynthèse organique et rétrosynthèse  21 - - 3 1,5   \\n   X \\n2 Rétrosynthèse et \\nchimie des produits naturels UEF Chimie des produits naturels et \\nsynthèse totale  21 - - 6 \\n3 1,5 3 \\n  X \\nRéactivité en Chimie Organique 21 - - 3 1,5   \\n    X  \\n3 Réactivité et \\nRéactions \\npéricycliques UEF \\nRéactions péricycliques et Glycochimie 21 - - 6 \\n3 1,5 3 \\n  X \\nAnglais scientifique  - 21 - 3 1 X   \\n4 Anglais et IR2C UEF \\nInitiation à la recherche, à la rédaction \\net à la communication - 21 - 6 \\n3 1 2 \\nX   \\nElucidation structurale de composés \\norganiques 21 - - 3 1,5   X  \\n5 Spectroscopie \\nappliquée et électrochimie organique UEO \\nElectrochimie organique: Synthèse et \\nmécanisme 21 - - 6 \\n3 1,5 3 \\n  X \\nTOTAL : 210 168 42  30     14     \\n\\xa0\\nDeux\\xa0options\\xa0à\\xa0choisir\\xa0par\\xa0l’étudiant \\xa0parmi\\xa0celles\\xa0proposées \\xa0chaque\\xa0année\\xa0par\\xa0la\\xa0FSM\",\n",
       " \"MASTERE CHIMIE  \\n               Parcours: Synt hèse et Réactivité en Chimie Organique  M2 (S3)             2014/15  \\nVolume Horaire Semestriel Crédits Coefficients Régime d'Examen \\nN° Unité \\nd'Enseignement \\n(UE) Nature \\nde l'UE Elément constitutif d'UE (ECUE) \\nCours TD TP UE ECUE ECUE  UE Contrôle \\nContinu Régime \\nMixte \\nSynthèse et réactivité des composés \\nhétérocyliques 21 - - 3 1,5   \\n    \\n X \\n1 Chimie \\nhétérocyclique, Stéréochimie et Synthèse asymétrique  \\nUEF \\nStéréochimie et synthèse asymétrique  21 - -  \\n6 \\n 3 1,5 3 \\n  X \\nSynthèse organique et rétrosynthèse  21 - - 3 1,5   \\n   X \\n2 Rétrosynthèse et \\nchimie des produits naturels UEF Chimie des produits naturels et \\nsynthèse totale  21 - - 6 \\n3 1,5 3 \\n  X \\nRéactivité en Chimie Organique 21 - - 3 1,5   \\n    X  \\n3 Réactivité et \\nRéactions \\npéricycliques UEF \\nRéactions péricycliques et Glycochimie 21 - - 6 \\n3 1,5 3 \\n  X \\nAnglais scientifique  - 21 - 3 1 X   \\n4 Anglais et IR2C UEF \\nInitiation à la recherche, à la rédaction \\net à la communication - 21 - 6 \\n3 1 2 \\nX   \\nElucidation structurale de composés \\norganiques 21 - - 3 1,5   X  \\n5 Spectroscopie \\nappliquée et électrochimie organique UEO \\nElectrochimie organique: Synthèse et \\nmécanisme 21 - - 6 \\n3 1,5 3 \\n  X \\nTOTAL : 210 168 42  30     14     \\n\\xa0\\nDeux\\xa0options\\xa0à\\xa0choisir\\xa0par\\xa0l’étudiant \\xa0parmi\\xa0celles\\xa0proposées \\xa0chaque\\xa0année\\xa0par\\xa0la\\xa0FSM\",\n",
       " \"MASTERE CHIMIE  \\n               Parcours: Synt hèse et Réactivité en Chimie Organique  M2 (S3)             2014/15  \\nVolume Horaire Semestriel Crédits Coefficients Régime d'Examen \\nN° Unité \\nd'Enseignement \\n(UE) Nature \\nde l'UE Elément constitutif d'UE (ECUE) \\nCours TD TP UE ECUE ECUE  UE Contrôle \\nContinu Régime \\nMixte \\nSynthèse et réactivité des composés \\nhétérocyliques 21 - - 3 1,5   \\n    \\n X \\n1 Chimie \\nhétérocyclique, Stéréochimie et Synthèse asymétrique  \\nUEF \\nStéréochimie et synthèse asymétrique  21 - -  \\n6 \\n 3 1,5 3 \\n  X \\nSynthèse organique et rétrosynthèse  21 - - 3 1,5   \\n   X \\n2 Rétrosynthèse et \\nchimie des produits naturels UEF Chimie des produits naturels et \\nsynthèse totale  21 - - 6 \\n3 1,5 3 \\n  X \\nRéactivité en Chimie Organique 21 - - 3 1,5   \\n    X  \\n3 Réactivité et \\nRéactions \\npéricycliques UEF \\nRéactions péricycliques et Glycochimie 21 - - 6 \\n3 1,5 3 \\n  X \\nAnglais scientifique  - 21 - 3 1 X   \\n4 Anglais et IR2C UEF \\nInitiation à la recherche, à la rédaction \\net à la communication - 21 - 6 \\n3 1 2 \\nX   \\nElucidation structurale de composés \\norganiques 21 - - 3 1,5   X  \\n5 Spectroscopie \\nappliquée et électrochimie organique UEO \\nElectrochimie organique: Synthèse et \\nmécanisme 21 - - 6 \\n3 1,5 3 \\n  X \\nTOTAL : 210 168 42  30     14     \\n\\xa0\\nDeux\\xa0options\\xa0à\\xa0choisir\\xa0par\\xa0l’étudiant \\xa0parmi\\xa0celles\\xa0proposées \\xa0chaque\\xa0année\\xa0par\\xa0la\\xa0FSM\",\n",
       " \"MASTERE CHIMIE  \\n               Parcours: Synt hèse et Réactivité en Chimie Organique  M2 (S3)             2014/15  \\nVolume Horaire Semestriel Crédits Coefficients Régime d'Examen \\nN° Unité \\nd'Enseignement \\n(UE) Nature \\nde l'UE Elément constitutif d'UE (ECUE) \\nCours TD TP UE ECUE ECUE  UE Contrôle \\nContinu Régime \\nMixte \\nSynthèse et réactivité des composés \\nhétérocyliques 21 - - 3 1,5   \\n    \\n X \\n1 Chimie \\nhétérocyclique, Stéréochimie et Synthèse asymétrique  \\nUEF \\nStéréochimie et synthèse asymétrique  21 - -  \\n6 \\n 3 1,5 3 \\n  X \\nSynthèse organique et rétrosynthèse  21 - - 3 1,5   \\n   X \\n2 Rétrosynthèse et \\nchimie des produits naturels UEF Chimie des produits naturels et \\nsynthèse totale  21 - - 6 \\n3 1,5 3 \\n  X \\nRéactivité en Chimie Organique 21 - - 3 1,5   \\n    X  \\n3 Réactivité et \\nRéactions \\npéricycliques UEF \\nRéactions péricycliques et Glycochimie 21 - - 6 \\n3 1,5 3 \\n  X \\nAnglais scientifique  - 21 - 3 1 X   \\n4 Anglais et IR2C UEF \\nInitiation à la recherche, à la rédaction \\net à la communication - 21 - 6 \\n3 1 2 \\nX   \\nElucidation structurale de composés \\norganiques 21 - - 3 1,5   X  \\n5 Spectroscopie \\nappliquée et électrochimie organique UEO \\nElectrochimie organique: Synthèse et \\nmécanisme 21 - - 6 \\n3 1,5 3 \\n  X \\nTOTAL : 210 168 42  30     14     \\n\\xa0\\nDeux\\xa0options\\xa0à\\xa0choisir\\xa0par\\xa0l’étudiant \\xa0parmi\\xa0celles\\xa0proposées \\xa0chaque\\xa0année\\xa0par\\xa0la\\xa0FSM\",\n",
       " \"MASTERE CHIMIE  \\n               Parcours: Synt hèse et Réactivité en Chimie Organique  M2 (S3)             2014/15  \\nVolume Horaire Semestriel Crédits Coefficients Régime d'Examen \\nN° Unité \\nd'Enseignement \\n(UE) Nature \\nde l'UE Elément constitutif d'UE (ECUE) \\nCours TD TP UE ECUE ECUE  UE Contrôle \\nContinu Régime \\nMixte \\nSynthèse et réactivité des composés \\nhétérocyliques 21 - - 3 1,5   \\n    \\n X \\n1 Chimie \\nhétérocyclique, Stéréochimie et Synthèse asymétrique  \\nUEF \\nStéréochimie et synthèse asymétrique  21 - -  \\n6 \\n 3 1,5 3 \\n  X \\nSynthèse organique et rétrosynthèse  21 - - 3 1,5   \\n   X \\n2 Rétrosynthèse et \\nchimie des produits naturels UEF Chimie des produits naturels et \\nsynthèse totale  21 - - 6 \\n3 1,5 3 \\n  X \\nRéactivité en Chimie Organique 21 - - 3 1,5   \\n    X  \\n3 Réactivité et \\nRéactions \\npéricycliques UEF \\nRéactions péricycliques et Glycochimie 21 - - 6 \\n3 1,5 3 \\n  X \\nAnglais scientifique  - 21 - 3 1 X   \\n4 Anglais et IR2C UEF \\nInitiation à la recherche, à la rédaction \\net à la communication - 21 - 6 \\n3 1 2 \\nX   \\nElucidation structurale de composés \\norganiques 21 - - 3 1,5   X  \\n5 Spectroscopie \\nappliquée et électrochimie organique UEO \\nElectrochimie organique: Synthèse et \\nmécanisme 21 - - 6 \\n3 1,5 3 \\n  X \\nTOTAL : 210 168 42  30     14     \\n\\xa0\\nDeux\\xa0options\\xa0à\\xa0choisir\\xa0par\\xa0l’étudiant \\xa0parmi\\xa0celles\\xa0proposées \\xa0chaque\\xa0année\\xa0par\\xa0la\\xa0FSM\"]"
      ]
     },
     "execution_count": 112,
     "metadata": {},
     "output_type": "execute_result"
    }
   ],
   "source": [
    "document9"
   ]
  },
  {
   "cell_type": "markdown",
   "id": "2a486b2b-c65b-472e-9cc2-c05ecaa9889c",
   "metadata": {},
   "source": [
    "# splitting DOC9 into chunks "
   ]
  },
  {
   "cell_type": "code",
   "execution_count": 114,
   "id": "cf059d1b-2e4c-4aa3-bf94-08b7c1930682",
   "metadata": {},
   "outputs": [],
   "source": [
    "document9= \"\\n\".join(document9)"
   ]
  },
  {
   "cell_type": "code",
   "execution_count": 115,
   "id": "88f77bd2-9bd8-4561-bb55-bb8d7e6695d5",
   "metadata": {},
   "outputs": [],
   "source": [
    "text_splitter = RecursiveCharacterTextSplitter(chunk_size=700, chunk_overlap=100, separators=[\"\\n\\n\", \"\\n\", \".\", \" \"])\n",
    "splits10 = text_splitter.split_text(document9)"
   ]
  },
  {
   "cell_type": "code",
   "execution_count": 116,
   "id": "a81de419-26a6-4bda-a471-aa06ad6b761e",
   "metadata": {
    "scrolled": true
   },
   "outputs": [
    {
     "data": {
      "text/plain": [
       "[\"MASTERE CHIMIE  \\n               Parcours: Synt hèse et Réactivité en Chimie Organique  M2 (S3)             2014/15  \\nVolume Horaire Semestriel Crédits Coefficients Régime d'Examen \\nN° Unité \\nd'Enseignement \\n(UE) Nature \\nde l'UE Elément constitutif d'UE (ECUE) \\nCours TD TP UE ECUE ECUE  UE Contrôle \\nContinu Régime \\nMixte \\nSynthèse et réactivité des composés \\nhétérocyliques 21 - - 3 1,5   \\n    \\n X \\n1 Chimie \\nhétérocyclique, Stéréochimie et Synthèse asymétrique  \\nUEF \\nStéréochimie et synthèse asymétrique  21 - -  \\n6 \\n 3 1,5 3 \\n  X \\nSynthèse organique et rétrosynthèse  21 - - 3 1,5   \\n   X \\n2 Rétrosynthèse et \\nchimie des produits naturels UEF Chimie des produits naturels et\",\n",
       " 'X \\n2 Rétrosynthèse et \\nchimie des produits naturels UEF Chimie des produits naturels et \\nsynthèse totale  21 - - 6 \\n3 1,5 3 \\n  X \\nRéactivité en Chimie Organique 21 - - 3 1,5   \\n    X  \\n3 Réactivité et \\nRéactions \\npéricycliques UEF \\nRéactions péricycliques et Glycochimie 21 - - 6 \\n3 1,5 3 \\n  X \\nAnglais scientifique  - 21 - 3 1 X   \\n4 Anglais et IR2C UEF \\nInitiation à la recherche, à la rédaction \\net à la communication - 21 - 6 \\n3 1 2 \\nX   \\nElucidation structurale de composés \\norganiques 21 - - 3 1,5   X  \\n5 Spectroscopie \\nappliquée et électrochimie organique UEO \\nElectrochimie organique: Synthèse et \\nmécanisme 21 - - 6 \\n3 1,5 3 \\n  X \\nTOTAL : 210 168 42  30     14',\n",
       " \"mécanisme 21 - - 6 \\n3 1,5 3 \\n  X \\nTOTAL : 210 168 42  30     14     \\n\\xa0\\nDeux\\xa0options\\xa0à\\xa0choisir\\xa0par\\xa0l’étudiant \\xa0parmi\\xa0celles\\xa0proposées \\xa0chaque\\xa0année\\xa0par\\xa0la\\xa0FSM\\nMASTERE CHIMIE  \\n               Parcours: Synt hèse et Réactivité en Chimie Organique  M2 (S3)             2014/15  \\nVolume Horaire Semestriel Crédits Coefficients Régime d'Examen \\nN° Unité \\nd'Enseignement \\n(UE) Nature \\nde l'UE Elément constitutif d'UE (ECUE) \\nCours TD TP UE ECUE ECUE  UE Contrôle \\nContinu Régime \\nMixte \\nSynthèse et réactivité des composés \\nhétérocyliques 21 - - 3 1,5   \\n    \\n X \\n1 Chimie \\nhétérocyclique, Stéréochimie et Synthèse asymétrique  \\nUEF \\nStéréochimie et synthèse asymétrique  21 - -  \\n6 \\n 3 1,5 3 \\n  X\",\n",
       " 'UEF \\nStéréochimie et synthèse asymétrique  21 - -  \\n6 \\n 3 1,5 3 \\n  X \\nSynthèse organique et rétrosynthèse  21 - - 3 1,5   \\n   X \\n2 Rétrosynthèse et \\nchimie des produits naturels UEF Chimie des produits naturels et \\nsynthèse totale  21 - - 6 \\n3 1,5 3 \\n  X \\nRéactivité en Chimie Organique 21 - - 3 1,5   \\n    X  \\n3 Réactivité et \\nRéactions \\npéricycliques UEF \\nRéactions péricycliques et Glycochimie 21 - - 6 \\n3 1,5 3 \\n  X \\nAnglais scientifique  - 21 - 3 1 X   \\n4 Anglais et IR2C UEF \\nInitiation à la recherche, à la rédaction \\net à la communication - 21 - 6 \\n3 1 2 \\nX   \\nElucidation structurale de composés \\norganiques 21 - - 3 1,5   X  \\n5 Spectroscopie \\nappliquée et électrochimie organique UEO',\n",
       " \"organiques 21 - - 3 1,5   X  \\n5 Spectroscopie \\nappliquée et électrochimie organique UEO \\nElectrochimie organique: Synthèse et \\nmécanisme 21 - - 6 \\n3 1,5 3 \\n  X \\nTOTAL : 210 168 42  30     14     \\n\\xa0\\nDeux\\xa0options\\xa0à\\xa0choisir\\xa0par\\xa0l’étudiant \\xa0parmi\\xa0celles\\xa0proposées \\xa0chaque\\xa0année\\xa0par\\xa0la\\xa0FSM\\nMASTERE CHIMIE  \\n               Parcours: Synt hèse et Réactivité en Chimie Organique  M2 (S3)             2014/15  \\nVolume Horaire Semestriel Crédits Coefficients Régime d'Examen \\nN° Unité \\nd'Enseignement \\n(UE) Nature \\nde l'UE Elément constitutif d'UE (ECUE) \\nCours TD TP UE ECUE ECUE  UE Contrôle \\nContinu Régime \\nMixte \\nSynthèse et réactivité des composés \\nhétérocyliques 21 - - 3 1,5   \\n    \\n X \\n1 Chimie\",\n",
       " 'Mixte \\nSynthèse et réactivité des composés \\nhétérocyliques 21 - - 3 1,5   \\n    \\n X \\n1 Chimie \\nhétérocyclique, Stéréochimie et Synthèse asymétrique  \\nUEF \\nStéréochimie et synthèse asymétrique  21 - -  \\n6 \\n 3 1,5 3 \\n  X \\nSynthèse organique et rétrosynthèse  21 - - 3 1,5   \\n   X \\n2 Rétrosynthèse et \\nchimie des produits naturels UEF Chimie des produits naturels et \\nsynthèse totale  21 - - 6 \\n3 1,5 3 \\n  X \\nRéactivité en Chimie Organique 21 - - 3 1,5   \\n    X  \\n3 Réactivité et \\nRéactions \\npéricycliques UEF \\nRéactions péricycliques et Glycochimie 21 - - 6 \\n3 1,5 3 \\n  X \\nAnglais scientifique  - 21 - 3 1 X   \\n4 Anglais et IR2C UEF \\nInitiation à la recherche, à la rédaction',\n",
       " \"4 Anglais et IR2C UEF \\nInitiation à la recherche, à la rédaction \\net à la communication - 21 - 6 \\n3 1 2 \\nX   \\nElucidation structurale de composés \\norganiques 21 - - 3 1,5   X  \\n5 Spectroscopie \\nappliquée et électrochimie organique UEO \\nElectrochimie organique: Synthèse et \\nmécanisme 21 - - 6 \\n3 1,5 3 \\n  X \\nTOTAL : 210 168 42  30     14     \\n\\xa0\\nDeux\\xa0options\\xa0à\\xa0choisir\\xa0par\\xa0l’étudiant \\xa0parmi\\xa0celles\\xa0proposées \\xa0chaque\\xa0année\\xa0par\\xa0la\\xa0FSM\\nMASTERE CHIMIE  \\n               Parcours: Synt hèse et Réactivité en Chimie Organique  M2 (S3)             2014/15  \\nVolume Horaire Semestriel Crédits Coefficients Régime d'Examen \\nN° Unité \\nd'Enseignement \\n(UE) Nature \\nde l'UE Elément constitutif d'UE (ECUE)\",\n",
       " \"N° Unité \\nd'Enseignement \\n(UE) Nature \\nde l'UE Elément constitutif d'UE (ECUE) \\nCours TD TP UE ECUE ECUE  UE Contrôle \\nContinu Régime \\nMixte \\nSynthèse et réactivité des composés \\nhétérocyliques 21 - - 3 1,5   \\n    \\n X \\n1 Chimie \\nhétérocyclique, Stéréochimie et Synthèse asymétrique  \\nUEF \\nStéréochimie et synthèse asymétrique  21 - -  \\n6 \\n 3 1,5 3 \\n  X \\nSynthèse organique et rétrosynthèse  21 - - 3 1,5   \\n   X \\n2 Rétrosynthèse et \\nchimie des produits naturels UEF Chimie des produits naturels et \\nsynthèse totale  21 - - 6 \\n3 1,5 3 \\n  X \\nRéactivité en Chimie Organique 21 - - 3 1,5   \\n    X  \\n3 Réactivité et \\nRéactions \\npéricycliques UEF \\nRéactions péricycliques et Glycochimie 21 - - 6 \\n3 1,5 3\",\n",
       " 'Réactions \\npéricycliques UEF \\nRéactions péricycliques et Glycochimie 21 - - 6 \\n3 1,5 3 \\n  X \\nAnglais scientifique  - 21 - 3 1 X   \\n4 Anglais et IR2C UEF \\nInitiation à la recherche, à la rédaction \\net à la communication - 21 - 6 \\n3 1 2 \\nX   \\nElucidation structurale de composés \\norganiques 21 - - 3 1,5   X  \\n5 Spectroscopie \\nappliquée et électrochimie organique UEO \\nElectrochimie organique: Synthèse et \\nmécanisme 21 - - 6 \\n3 1,5 3 \\n  X \\nTOTAL : 210 168 42  30     14     \\n\\xa0\\nDeux\\xa0options\\xa0à\\xa0choisir\\xa0par\\xa0l’étudiant \\xa0parmi\\xa0celles\\xa0proposées \\xa0chaque\\xa0année\\xa0par\\xa0la\\xa0FSM\\nMASTERE CHIMIE  \\n               Parcours: Synt hèse et Réactivité en Chimie Organique  M2 (S3)             2014/15',\n",
       " \"Parcours: Synt hèse et Réactivité en Chimie Organique  M2 (S3)             2014/15  \\nVolume Horaire Semestriel Crédits Coefficients Régime d'Examen \\nN° Unité \\nd'Enseignement \\n(UE) Nature \\nde l'UE Elément constitutif d'UE (ECUE) \\nCours TD TP UE ECUE ECUE  UE Contrôle \\nContinu Régime \\nMixte \\nSynthèse et réactivité des composés \\nhétérocyliques 21 - - 3 1,5   \\n    \\n X \\n1 Chimie \\nhétérocyclique, Stéréochimie et Synthèse asymétrique  \\nUEF \\nStéréochimie et synthèse asymétrique  21 - -  \\n6 \\n 3 1,5 3 \\n  X \\nSynthèse organique et rétrosynthèse  21 - - 3 1,5   \\n   X \\n2 Rétrosynthèse et \\nchimie des produits naturels UEF Chimie des produits naturels et \\nsynthèse totale  21 - - 6 \\n3 1,5 3\",\n",
       " 'synthèse totale  21 - - 6 \\n3 1,5 3 \\n  X \\nRéactivité en Chimie Organique 21 - - 3 1,5   \\n    X  \\n3 Réactivité et \\nRéactions \\npéricycliques UEF \\nRéactions péricycliques et Glycochimie 21 - - 6 \\n3 1,5 3 \\n  X \\nAnglais scientifique  - 21 - 3 1 X   \\n4 Anglais et IR2C UEF \\nInitiation à la recherche, à la rédaction \\net à la communication - 21 - 6 \\n3 1 2 \\nX   \\nElucidation structurale de composés \\norganiques 21 - - 3 1,5   X  \\n5 Spectroscopie \\nappliquée et électrochimie organique UEO \\nElectrochimie organique: Synthèse et \\nmécanisme 21 - - 6 \\n3 1,5 3 \\n  X \\nTOTAL : 210 168 42  30     14     \\n\\xa0\\nDeux\\xa0options\\xa0à\\xa0choisir\\xa0par\\xa0l’étudiant \\xa0parmi\\xa0celles\\xa0proposées \\xa0chaque\\xa0année\\xa0par\\xa0la\\xa0FSM']"
      ]
     },
     "execution_count": 116,
     "metadata": {},
     "output_type": "execute_result"
    }
   ],
   "source": [
    "splits10"
   ]
  },
  {
   "cell_type": "code",
   "execution_count": 117,
   "id": "b8f36419-704c-4726-baad-e76510db739b",
   "metadata": {},
   "outputs": [],
   "source": [
    "embeddings10 = embeddings_model.embed_documents(\n",
    "    splits10,  \n",
    "    # normalize_embeddings=True,\n",
    "    # batch_size=256, \n",
    "    # show_progress_bar=True\n",
    ")"
   ]
  },
  {
   "cell_type": "code",
   "execution_count": 118,
   "id": "0eb9f18f-b01f-45e6-87b4-4749976d063d",
   "metadata": {},
   "outputs": [],
   "source": [
    "ids10 = [str(uuid.uuid4()) for _ in range(len(splits10))]"
   ]
  },
  {
   "cell_type": "code",
   "execution_count": 119,
   "id": "04da8ad4-8133-4393-aedb-eb628ca2c98f",
   "metadata": {},
   "outputs": [],
   "source": [
    "data.add(\n",
    "    documents=splits10,    \n",
    "    embeddings=embeddings10,  \n",
    "    ids=ids10               \n",
    ")"
   ]
  },
  {
   "cell_type": "markdown",
   "id": "c235359f-90c0-4c6d-be48-6eb33b253223",
   "metadata": {},
   "source": [
    "# Document 10 Recherche info "
   ]
  },
  {
   "cell_type": "code",
   "execution_count": 121,
   "id": "a1c195a6-f18e-489b-b5a8-8d8b2459829d",
   "metadata": {},
   "outputs": [],
   "source": [
    "file_path =  \"recherche_info.pdf\"\n",
    "loader = PyPDFLoader(file_path)\n",
    "pages = []\n",
    "async for page in loader.alazy_load():\n",
    "    pages.append(page)"
   ]
  },
  {
   "cell_type": "code",
   "execution_count": 122,
   "id": "10c8dba8-1958-4b8a-bba1-90a088b6fb28",
   "metadata": {},
   "outputs": [],
   "source": [
    "document10=[page.page_content for doc in pages]"
   ]
  },
  {
   "cell_type": "code",
   "execution_count": 123,
   "id": "35b17105-2587-4b6a-aafb-e5d2e7a941ac",
   "metadata": {},
   "outputs": [
    {
     "data": {
      "text/plain": [
       "['Une étoile (*) indique les matières du programme national.  \\n  \\n \\nS4 : MR en Informatique  \\n  \\nN°  \\nUnité  \\nd’enseignement   \\nNature de  \\nL’UE \\n(fondamentale  \\n/optionnelle)   \\nElément \\nconstitutif  \\nd’UE (ECUE)  Volume horaire semestriel \\n(14 semaines)  Crédits  Coefficients  Régime D’examen  \\n \\nCours   \\nTD  \\nTP  \\nAutres  ECUE  \\n(Le cas  \\nEchéant)   \\nUE ECUE  \\n(Le cas  \\nEchéant)   \\nUE  \\nContrôle  \\ncontenu   \\nRégime  \\nmixte  \\n \\n1 Stage  de \\nrecherche  fondamentale  Mémoire    30   30 15',\n",
       " 'Une étoile (*) indique les matières du programme national.  \\n  \\n \\nS4 : MR en Informatique  \\n  \\nN°  \\nUnité  \\nd’enseignement   \\nNature de  \\nL’UE \\n(fondamentale  \\n/optionnelle)   \\nElément \\nconstitutif  \\nd’UE (ECUE)  Volume horaire semestriel \\n(14 semaines)  Crédits  Coefficients  Régime D’examen  \\n \\nCours   \\nTD  \\nTP  \\nAutres  ECUE  \\n(Le cas  \\nEchéant)   \\nUE ECUE  \\n(Le cas  \\nEchéant)   \\nUE  \\nContrôle  \\ncontenu   \\nRégime  \\nmixte  \\n \\n1 Stage  de \\nrecherche  fondamentale  Mémoire    30   30 15',\n",
       " 'Une étoile (*) indique les matières du programme national.  \\n  \\n \\nS4 : MR en Informatique  \\n  \\nN°  \\nUnité  \\nd’enseignement   \\nNature de  \\nL’UE \\n(fondamentale  \\n/optionnelle)   \\nElément \\nconstitutif  \\nd’UE (ECUE)  Volume horaire semestriel \\n(14 semaines)  Crédits  Coefficients  Régime D’examen  \\n \\nCours   \\nTD  \\nTP  \\nAutres  ECUE  \\n(Le cas  \\nEchéant)   \\nUE ECUE  \\n(Le cas  \\nEchéant)   \\nUE  \\nContrôle  \\ncontenu   \\nRégime  \\nmixte  \\n \\n1 Stage  de \\nrecherche  fondamentale  Mémoire    30   30 15',\n",
       " 'Une étoile (*) indique les matières du programme national.  \\n  \\n \\nS4 : MR en Informatique  \\n  \\nN°  \\nUnité  \\nd’enseignement   \\nNature de  \\nL’UE \\n(fondamentale  \\n/optionnelle)   \\nElément \\nconstitutif  \\nd’UE (ECUE)  Volume horaire semestriel \\n(14 semaines)  Crédits  Coefficients  Régime D’examen  \\n \\nCours   \\nTD  \\nTP  \\nAutres  ECUE  \\n(Le cas  \\nEchéant)   \\nUE ECUE  \\n(Le cas  \\nEchéant)   \\nUE  \\nContrôle  \\ncontenu   \\nRégime  \\nmixte  \\n \\n1 Stage  de \\nrecherche  fondamentale  Mémoire    30   30 15']"
      ]
     },
     "execution_count": 123,
     "metadata": {},
     "output_type": "execute_result"
    }
   ],
   "source": [
    "document10"
   ]
  },
  {
   "cell_type": "markdown",
   "id": "4405b8af-8f48-436d-bc18-89c78f5d1996",
   "metadata": {},
   "source": [
    "# splitting DOC10 into chunks "
   ]
  },
  {
   "cell_type": "code",
   "execution_count": 125,
   "id": "75c9dfba-387b-4327-bffe-4183325ec9b0",
   "metadata": {},
   "outputs": [],
   "source": [
    "document10= \"\\n\".join(document10)"
   ]
  },
  {
   "cell_type": "code",
   "execution_count": 126,
   "id": "89ce1ab6-bcca-4221-a518-9ded674b280e",
   "metadata": {},
   "outputs": [],
   "source": [
    "text_splitter = RecursiveCharacterTextSplitter(chunk_size=700, chunk_overlap=100, separators=[\"\\n\\n\", \"\\n\", \".\", \" \"])\n",
    "splits11 = text_splitter.split_text(document10)"
   ]
  },
  {
   "cell_type": "code",
   "execution_count": 127,
   "id": "dc8a2b09-9b38-449a-a3db-02aab040135c",
   "metadata": {
    "scrolled": true
   },
   "outputs": [
    {
     "data": {
      "text/plain": [
       "['Une étoile (*) indique les matières du programme national.  \\n  \\n \\nS4 : MR en Informatique  \\n  \\nN°  \\nUnité  \\nd’enseignement   \\nNature de  \\nL’UE \\n(fondamentale  \\n/optionnelle)   \\nElément \\nconstitutif  \\nd’UE (ECUE)  Volume horaire semestriel \\n(14 semaines)  Crédits  Coefficients  Régime D’examen  \\n \\nCours   \\nTD  \\nTP  \\nAutres  ECUE  \\n(Le cas  \\nEchéant)   \\nUE ECUE  \\n(Le cas  \\nEchéant)   \\nUE  \\nContrôle  \\ncontenu   \\nRégime  \\nmixte  \\n \\n1 Stage  de \\nrecherche  fondamentale  Mémoire    30   30 15\\nUne étoile (*) indique les matières du programme national.  \\n  \\n \\nS4 : MR en Informatique  \\n  \\nN°  \\nUnité  \\nd’enseignement   \\nNature de  \\nL’UE \\n(fondamentale  \\n/optionnelle)   \\nElément \\nconstitutif',\n",
       " 'Unité  \\nd’enseignement   \\nNature de  \\nL’UE \\n(fondamentale  \\n/optionnelle)   \\nElément \\nconstitutif  \\nd’UE (ECUE)  Volume horaire semestriel \\n(14 semaines)  Crédits  Coefficients  Régime D’examen  \\n \\nCours   \\nTD  \\nTP  \\nAutres  ECUE  \\n(Le cas  \\nEchéant)   \\nUE ECUE  \\n(Le cas  \\nEchéant)   \\nUE  \\nContrôle  \\ncontenu   \\nRégime  \\nmixte  \\n \\n1 Stage  de \\nrecherche  fondamentale  Mémoire    30   30 15\\nUne étoile (*) indique les matières du programme national.  \\n  \\n \\nS4 : MR en Informatique  \\n  \\nN°  \\nUnité  \\nd’enseignement   \\nNature de  \\nL’UE \\n(fondamentale  \\n/optionnelle)   \\nElément \\nconstitutif  \\nd’UE (ECUE)  Volume horaire semestriel \\n(14 semaines)  Crédits  Coefficients  Régime D’examen  \\n \\nCours',\n",
       " '(14 semaines)  Crédits  Coefficients  Régime D’examen  \\n \\nCours   \\nTD  \\nTP  \\nAutres  ECUE  \\n(Le cas  \\nEchéant)   \\nUE ECUE  \\n(Le cas  \\nEchéant)   \\nUE  \\nContrôle  \\ncontenu   \\nRégime  \\nmixte  \\n \\n1 Stage  de \\nrecherche  fondamentale  Mémoire    30   30 15\\nUne étoile (*) indique les matières du programme national.  \\n  \\n \\nS4 : MR en Informatique  \\n  \\nN°  \\nUnité  \\nd’enseignement   \\nNature de  \\nL’UE \\n(fondamentale  \\n/optionnelle)   \\nElément \\nconstitutif  \\nd’UE (ECUE)  Volume horaire semestriel \\n(14 semaines)  Crédits  Coefficients  Régime D’examen  \\n \\nCours   \\nTD  \\nTP  \\nAutres  ECUE  \\n(Le cas  \\nEchéant)   \\nUE ECUE  \\n(Le cas  \\nEchéant)   \\nUE  \\nContrôle  \\ncontenu   \\nRégime  \\nmixte  \\n \\n1 Stage  de',\n",
       " 'UE ECUE  \\n(Le cas  \\nEchéant)   \\nUE  \\nContrôle  \\ncontenu   \\nRégime  \\nmixte  \\n \\n1 Stage  de \\nrecherche  fondamentale  Mémoire    30   30 15']"
      ]
     },
     "execution_count": 127,
     "metadata": {},
     "output_type": "execute_result"
    }
   ],
   "source": [
    "splits11"
   ]
  },
  {
   "cell_type": "code",
   "execution_count": 128,
   "id": "be9f71b1-acc3-4f78-a416-e4b0d381ea07",
   "metadata": {},
   "outputs": [],
   "source": [
    "embeddings11 = embeddings_model.embed_documents(\n",
    "    splits11,  \n",
    "    # normalize_embeddings=True,\n",
    "    # batch_size=256, \n",
    "    # show_progress_bar=True\n",
    ")"
   ]
  },
  {
   "cell_type": "code",
   "execution_count": 129,
   "id": "d7aaa497-c1a8-43f8-8938-12423cf3ca86",
   "metadata": {},
   "outputs": [],
   "source": [
    "ids11 = [str(uuid.uuid4()) for _ in range(len(splits11))]"
   ]
  },
  {
   "cell_type": "code",
   "execution_count": 130,
   "id": "fc4dff0a-517d-4701-80dd-9c19b754a76a",
   "metadata": {},
   "outputs": [],
   "source": [
    "data.add(\n",
    "    documents=splits11,    \n",
    "    embeddings=embeddings11,  \n",
    "    ids=ids11               \n",
    ")"
   ]
  },
  {
   "cell_type": "markdown",
   "id": "bed361c0-faf1-4c37-830b-7bc7f093e4a0",
   "metadata": {},
   "source": [
    "# Document 11 Recherche physique"
   ]
  },
  {
   "cell_type": "code",
   "execution_count": 132,
   "id": "cd8c9460-fda5-4da2-b520-d171f09ad090",
   "metadata": {},
   "outputs": [],
   "source": [
    "file_path =  \"recherche_phy.pdf\"\n",
    "loader = PyPDFLoader(file_path)\n",
    "pages = []\n",
    "async for page in loader.alazy_load():\n",
    "    pages.append(page)"
   ]
  },
  {
   "cell_type": "code",
   "execution_count": 133,
   "id": "d98a5b70-c05d-4a72-939e-19fc11b3c808",
   "metadata": {},
   "outputs": [],
   "source": [
    "document11=[page.page_content for doc in pages]"
   ]
  },
  {
   "cell_type": "code",
   "execution_count": 134,
   "id": "25de4223-171d-4c1c-b9c8-aa704617e61c",
   "metadata": {
    "scrolled": true
   },
   "outputs": [
    {
     "data": {
      "text/plain": [
       "['Semestre 3 : Spécialité 3 : PQ                         20103/2014 \\nVolume Horaire \\nen         (14 \\nsemaines) Crédits \\naccordés Coefficients \\xa0Modalité \\nd’évaluation \\xa0\\nN° UE Type ECUE \\nC TD TP ECUE UE ECUE UE Contrôle \\nContinu Régime \\nMixte \\n1  Interaction Rayonnement \\n-Matière UEF Interaction Rayonnement -\\nMatière 42h 0 0 6 6 2 2  X \\n2 Physique des Solides 2 \\xa0 UEF Physique des Solides 2  42h 0 0 6 6 2 2  X \\nNanostructures Semi-\\nconductrices 21h 0 0 3 1  X \\n3 Phénomènes Quantiques \\ndans les Nanostructures UEF \\nNanostructures Magnétiques \\net Diélectriques 21h 0 0 3 6 \\n1 2 \\n X \\nAnalyse Numérique 2 21h 0 21h 3 1  X \\n4 Méthodes Numériques et \\nd’Approximation \\xa0UEF \\nMéthodes d’Approximation 21h 0 0 3 6 \\n1 2 \\n X \\nPQO3-1 21h 0 0 2 1  X \\n5 PQO3\\xa0 UEO \\nPQO3-2 21h 0 0 2 4 \\n1 2 \\n X \\n Anglais\\xa0 UET Anglais  21h   2 2 1 1 X  \\n   Total 231 0 21h 30 30 11 11   \\nPQO3-1 : Physique des Agrégats \\nPQO3-2 : Physique Subatomique',\n",
       " 'Semestre 3 : Spécialité 3 : PQ                         20103/2014 \\nVolume Horaire \\nen         (14 \\nsemaines) Crédits \\naccordés Coefficients \\xa0Modalité \\nd’évaluation \\xa0\\nN° UE Type ECUE \\nC TD TP ECUE UE ECUE UE Contrôle \\nContinu Régime \\nMixte \\n1  Interaction Rayonnement \\n-Matière UEF Interaction Rayonnement -\\nMatière 42h 0 0 6 6 2 2  X \\n2 Physique des Solides 2 \\xa0 UEF Physique des Solides 2  42h 0 0 6 6 2 2  X \\nNanostructures Semi-\\nconductrices 21h 0 0 3 1  X \\n3 Phénomènes Quantiques \\ndans les Nanostructures UEF \\nNanostructures Magnétiques \\net Diélectriques 21h 0 0 3 6 \\n1 2 \\n X \\nAnalyse Numérique 2 21h 0 21h 3 1  X \\n4 Méthodes Numériques et \\nd’Approximation \\xa0UEF \\nMéthodes d’Approximation 21h 0 0 3 6 \\n1 2 \\n X \\nPQO3-1 21h 0 0 2 1  X \\n5 PQO3\\xa0 UEO \\nPQO3-2 21h 0 0 2 4 \\n1 2 \\n X \\n Anglais\\xa0 UET Anglais  21h   2 2 1 1 X  \\n   Total 231 0 21h 30 30 11 11   \\nPQO3-1 : Physique des Agrégats \\nPQO3-2 : Physique Subatomique',\n",
       " 'Semestre 3 : Spécialité 3 : PQ                         20103/2014 \\nVolume Horaire \\nen         (14 \\nsemaines) Crédits \\naccordés Coefficients \\xa0Modalité \\nd’évaluation \\xa0\\nN° UE Type ECUE \\nC TD TP ECUE UE ECUE UE Contrôle \\nContinu Régime \\nMixte \\n1  Interaction Rayonnement \\n-Matière UEF Interaction Rayonnement -\\nMatière 42h 0 0 6 6 2 2  X \\n2 Physique des Solides 2 \\xa0 UEF Physique des Solides 2  42h 0 0 6 6 2 2  X \\nNanostructures Semi-\\nconductrices 21h 0 0 3 1  X \\n3 Phénomènes Quantiques \\ndans les Nanostructures UEF \\nNanostructures Magnétiques \\net Diélectriques 21h 0 0 3 6 \\n1 2 \\n X \\nAnalyse Numérique 2 21h 0 21h 3 1  X \\n4 Méthodes Numériques et \\nd’Approximation \\xa0UEF \\nMéthodes d’Approximation 21h 0 0 3 6 \\n1 2 \\n X \\nPQO3-1 21h 0 0 2 1  X \\n5 PQO3\\xa0 UEO \\nPQO3-2 21h 0 0 2 4 \\n1 2 \\n X \\n Anglais\\xa0 UET Anglais  21h   2 2 1 1 X  \\n   Total 231 0 21h 30 30 11 11   \\nPQO3-1 : Physique des Agrégats \\nPQO3-2 : Physique Subatomique',\n",
       " 'Semestre 3 : Spécialité 3 : PQ                         20103/2014 \\nVolume Horaire \\nen         (14 \\nsemaines) Crédits \\naccordés Coefficients \\xa0Modalité \\nd’évaluation \\xa0\\nN° UE Type ECUE \\nC TD TP ECUE UE ECUE UE Contrôle \\nContinu Régime \\nMixte \\n1  Interaction Rayonnement \\n-Matière UEF Interaction Rayonnement -\\nMatière 42h 0 0 6 6 2 2  X \\n2 Physique des Solides 2 \\xa0 UEF Physique des Solides 2  42h 0 0 6 6 2 2  X \\nNanostructures Semi-\\nconductrices 21h 0 0 3 1  X \\n3 Phénomènes Quantiques \\ndans les Nanostructures UEF \\nNanostructures Magnétiques \\net Diélectriques 21h 0 0 3 6 \\n1 2 \\n X \\nAnalyse Numérique 2 21h 0 21h 3 1  X \\n4 Méthodes Numériques et \\nd’Approximation \\xa0UEF \\nMéthodes d’Approximation 21h 0 0 3 6 \\n1 2 \\n X \\nPQO3-1 21h 0 0 2 1  X \\n5 PQO3\\xa0 UEO \\nPQO3-2 21h 0 0 2 4 \\n1 2 \\n X \\n Anglais\\xa0 UET Anglais  21h   2 2 1 1 X  \\n   Total 231 0 21h 30 30 11 11   \\nPQO3-1 : Physique des Agrégats \\nPQO3-2 : Physique Subatomique',\n",
       " 'Semestre 3 : Spécialité 3 : PQ                         20103/2014 \\nVolume Horaire \\nen         (14 \\nsemaines) Crédits \\naccordés Coefficients \\xa0Modalité \\nd’évaluation \\xa0\\nN° UE Type ECUE \\nC TD TP ECUE UE ECUE UE Contrôle \\nContinu Régime \\nMixte \\n1  Interaction Rayonnement \\n-Matière UEF Interaction Rayonnement -\\nMatière 42h 0 0 6 6 2 2  X \\n2 Physique des Solides 2 \\xa0 UEF Physique des Solides 2  42h 0 0 6 6 2 2  X \\nNanostructures Semi-\\nconductrices 21h 0 0 3 1  X \\n3 Phénomènes Quantiques \\ndans les Nanostructures UEF \\nNanostructures Magnétiques \\net Diélectriques 21h 0 0 3 6 \\n1 2 \\n X \\nAnalyse Numérique 2 21h 0 21h 3 1  X \\n4 Méthodes Numériques et \\nd’Approximation \\xa0UEF \\nMéthodes d’Approximation 21h 0 0 3 6 \\n1 2 \\n X \\nPQO3-1 21h 0 0 2 1  X \\n5 PQO3\\xa0 UEO \\nPQO3-2 21h 0 0 2 4 \\n1 2 \\n X \\n Anglais\\xa0 UET Anglais  21h   2 2 1 1 X  \\n   Total 231 0 21h 30 30 11 11   \\nPQO3-1 : Physique des Agrégats \\nPQO3-2 : Physique Subatomique',\n",
       " 'Semestre 3 : Spécialité 3 : PQ                         20103/2014 \\nVolume Horaire \\nen         (14 \\nsemaines) Crédits \\naccordés Coefficients \\xa0Modalité \\nd’évaluation \\xa0\\nN° UE Type ECUE \\nC TD TP ECUE UE ECUE UE Contrôle \\nContinu Régime \\nMixte \\n1  Interaction Rayonnement \\n-Matière UEF Interaction Rayonnement -\\nMatière 42h 0 0 6 6 2 2  X \\n2 Physique des Solides 2 \\xa0 UEF Physique des Solides 2  42h 0 0 6 6 2 2  X \\nNanostructures Semi-\\nconductrices 21h 0 0 3 1  X \\n3 Phénomènes Quantiques \\ndans les Nanostructures UEF \\nNanostructures Magnétiques \\net Diélectriques 21h 0 0 3 6 \\n1 2 \\n X \\nAnalyse Numérique 2 21h 0 21h 3 1  X \\n4 Méthodes Numériques et \\nd’Approximation \\xa0UEF \\nMéthodes d’Approximation 21h 0 0 3 6 \\n1 2 \\n X \\nPQO3-1 21h 0 0 2 1  X \\n5 PQO3\\xa0 UEO \\nPQO3-2 21h 0 0 2 4 \\n1 2 \\n X \\n Anglais\\xa0 UET Anglais  21h   2 2 1 1 X  \\n   Total 231 0 21h 30 30 11 11   \\nPQO3-1 : Physique des Agrégats \\nPQO3-2 : Physique Subatomique',\n",
       " 'Semestre 3 : Spécialité 3 : PQ                         20103/2014 \\nVolume Horaire \\nen         (14 \\nsemaines) Crédits \\naccordés Coefficients \\xa0Modalité \\nd’évaluation \\xa0\\nN° UE Type ECUE \\nC TD TP ECUE UE ECUE UE Contrôle \\nContinu Régime \\nMixte \\n1  Interaction Rayonnement \\n-Matière UEF Interaction Rayonnement -\\nMatière 42h 0 0 6 6 2 2  X \\n2 Physique des Solides 2 \\xa0 UEF Physique des Solides 2  42h 0 0 6 6 2 2  X \\nNanostructures Semi-\\nconductrices 21h 0 0 3 1  X \\n3 Phénomènes Quantiques \\ndans les Nanostructures UEF \\nNanostructures Magnétiques \\net Diélectriques 21h 0 0 3 6 \\n1 2 \\n X \\nAnalyse Numérique 2 21h 0 21h 3 1  X \\n4 Méthodes Numériques et \\nd’Approximation \\xa0UEF \\nMéthodes d’Approximation 21h 0 0 3 6 \\n1 2 \\n X \\nPQO3-1 21h 0 0 2 1  X \\n5 PQO3\\xa0 UEO \\nPQO3-2 21h 0 0 2 4 \\n1 2 \\n X \\n Anglais\\xa0 UET Anglais  21h   2 2 1 1 X  \\n   Total 231 0 21h 30 30 11 11   \\nPQO3-1 : Physique des Agrégats \\nPQO3-2 : Physique Subatomique',\n",
       " 'Semestre 3 : Spécialité 3 : PQ                         20103/2014 \\nVolume Horaire \\nen         (14 \\nsemaines) Crédits \\naccordés Coefficients \\xa0Modalité \\nd’évaluation \\xa0\\nN° UE Type ECUE \\nC TD TP ECUE UE ECUE UE Contrôle \\nContinu Régime \\nMixte \\n1  Interaction Rayonnement \\n-Matière UEF Interaction Rayonnement -\\nMatière 42h 0 0 6 6 2 2  X \\n2 Physique des Solides 2 \\xa0 UEF Physique des Solides 2  42h 0 0 6 6 2 2  X \\nNanostructures Semi-\\nconductrices 21h 0 0 3 1  X \\n3 Phénomènes Quantiques \\ndans les Nanostructures UEF \\nNanostructures Magnétiques \\net Diélectriques 21h 0 0 3 6 \\n1 2 \\n X \\nAnalyse Numérique 2 21h 0 21h 3 1  X \\n4 Méthodes Numériques et \\nd’Approximation \\xa0UEF \\nMéthodes d’Approximation 21h 0 0 3 6 \\n1 2 \\n X \\nPQO3-1 21h 0 0 2 1  X \\n5 PQO3\\xa0 UEO \\nPQO3-2 21h 0 0 2 4 \\n1 2 \\n X \\n Anglais\\xa0 UET Anglais  21h   2 2 1 1 X  \\n   Total 231 0 21h 30 30 11 11   \\nPQO3-1 : Physique des Agrégats \\nPQO3-2 : Physique Subatomique']"
      ]
     },
     "execution_count": 134,
     "metadata": {},
     "output_type": "execute_result"
    }
   ],
   "source": [
    "document11"
   ]
  },
  {
   "cell_type": "markdown",
   "id": "0d9f8f21-9796-4b2d-8a04-47f650b59a80",
   "metadata": {},
   "source": [
    "# splitting DOC11 into chunks "
   ]
  },
  {
   "cell_type": "code",
   "execution_count": 136,
   "id": "e051a036-bab0-4158-9f22-579c79b61591",
   "metadata": {},
   "outputs": [],
   "source": [
    "document11= \"\\n\".join(document11)"
   ]
  },
  {
   "cell_type": "code",
   "execution_count": 137,
   "id": "9f39d335-93eb-458d-98dc-2f704b2358be",
   "metadata": {},
   "outputs": [],
   "source": [
    "text_splitter = RecursiveCharacterTextSplitter(chunk_size=700, chunk_overlap=100, separators=[\"\\n\\n\", \"\\n\", \".\", \" \"])\n",
    "splits12 = text_splitter.split_text(document11)"
   ]
  },
  {
   "cell_type": "code",
   "execution_count": 138,
   "id": "80f628a8-17c0-41d0-85c2-e0ce424d9ed1",
   "metadata": {
    "scrolled": true
   },
   "outputs": [
    {
     "data": {
      "text/plain": [
       "['Semestre 3 : Spécialité 3 : PQ                         20103/2014 \\nVolume Horaire \\nen         (14 \\nsemaines) Crédits \\naccordés Coefficients \\xa0Modalité \\nd’évaluation \\xa0\\nN° UE Type ECUE \\nC TD TP ECUE UE ECUE UE Contrôle \\nContinu Régime \\nMixte \\n1  Interaction Rayonnement \\n-Matière UEF Interaction Rayonnement -\\nMatière 42h 0 0 6 6 2 2  X \\n2 Physique des Solides 2 \\xa0 UEF Physique des Solides 2  42h 0 0 6 6 2 2  X \\nNanostructures Semi-\\nconductrices 21h 0 0 3 1  X \\n3 Phénomènes Quantiques \\ndans les Nanostructures UEF \\nNanostructures Magnétiques \\net Diélectriques 21h 0 0 3 6 \\n1 2 \\n X \\nAnalyse Numérique 2 21h 0 21h 3 1  X \\n4 Méthodes Numériques et \\nd’Approximation \\xa0UEF',\n",
       " '1 2 \\n X \\nAnalyse Numérique 2 21h 0 21h 3 1  X \\n4 Méthodes Numériques et \\nd’Approximation \\xa0UEF \\nMéthodes d’Approximation 21h 0 0 3 6 \\n1 2 \\n X \\nPQO3-1 21h 0 0 2 1  X \\n5 PQO3\\xa0 UEO \\nPQO3-2 21h 0 0 2 4 \\n1 2 \\n X \\n Anglais\\xa0 UET Anglais  21h   2 2 1 1 X  \\n   Total 231 0 21h 30 30 11 11   \\nPQO3-1 : Physique des Agrégats \\nPQO3-2 : Physique Subatomique\\nSemestre 3 : Spécialité 3 : PQ                         20103/2014 \\nVolume Horaire \\nen         (14 \\nsemaines) Crédits \\naccordés Coefficients \\xa0Modalité \\nd’évaluation \\xa0\\nN° UE Type ECUE \\nC TD TP ECUE UE ECUE UE Contrôle \\nContinu Régime \\nMixte \\n1  Interaction Rayonnement \\n-Matière UEF Interaction Rayonnement -\\nMatière 42h 0 0 6 6 2 2  X',\n",
       " '1  Interaction Rayonnement \\n-Matière UEF Interaction Rayonnement -\\nMatière 42h 0 0 6 6 2 2  X \\n2 Physique des Solides 2 \\xa0 UEF Physique des Solides 2  42h 0 0 6 6 2 2  X \\nNanostructures Semi-\\nconductrices 21h 0 0 3 1  X \\n3 Phénomènes Quantiques \\ndans les Nanostructures UEF \\nNanostructures Magnétiques \\net Diélectriques 21h 0 0 3 6 \\n1 2 \\n X \\nAnalyse Numérique 2 21h 0 21h 3 1  X \\n4 Méthodes Numériques et \\nd’Approximation \\xa0UEF \\nMéthodes d’Approximation 21h 0 0 3 6 \\n1 2 \\n X \\nPQO3-1 21h 0 0 2 1  X \\n5 PQO3\\xa0 UEO \\nPQO3-2 21h 0 0 2 4 \\n1 2 \\n X \\n Anglais\\xa0 UET Anglais  21h   2 2 1 1 X  \\n   Total 231 0 21h 30 30 11 11   \\nPQO3-1 : Physique des Agrégats \\nPQO3-2 : Physique Subatomique',\n",
       " 'Total 231 0 21h 30 30 11 11   \\nPQO3-1 : Physique des Agrégats \\nPQO3-2 : Physique Subatomique\\nSemestre 3 : Spécialité 3 : PQ                         20103/2014 \\nVolume Horaire \\nen         (14 \\nsemaines) Crédits \\naccordés Coefficients \\xa0Modalité \\nd’évaluation \\xa0\\nN° UE Type ECUE \\nC TD TP ECUE UE ECUE UE Contrôle \\nContinu Régime \\nMixte \\n1  Interaction Rayonnement \\n-Matière UEF Interaction Rayonnement -\\nMatière 42h 0 0 6 6 2 2  X \\n2 Physique des Solides 2 \\xa0 UEF Physique des Solides 2  42h 0 0 6 6 2 2  X \\nNanostructures Semi-\\nconductrices 21h 0 0 3 1  X \\n3 Phénomènes Quantiques \\ndans les Nanostructures UEF \\nNanostructures Magnétiques \\net Diélectriques 21h 0 0 3 6 \\n1 2 \\n X',\n",
       " 'dans les Nanostructures UEF \\nNanostructures Magnétiques \\net Diélectriques 21h 0 0 3 6 \\n1 2 \\n X \\nAnalyse Numérique 2 21h 0 21h 3 1  X \\n4 Méthodes Numériques et \\nd’Approximation \\xa0UEF \\nMéthodes d’Approximation 21h 0 0 3 6 \\n1 2 \\n X \\nPQO3-1 21h 0 0 2 1  X \\n5 PQO3\\xa0 UEO \\nPQO3-2 21h 0 0 2 4 \\n1 2 \\n X \\n Anglais\\xa0 UET Anglais  21h   2 2 1 1 X  \\n   Total 231 0 21h 30 30 11 11   \\nPQO3-1 : Physique des Agrégats \\nPQO3-2 : Physique Subatomique\\nSemestre 3 : Spécialité 3 : PQ                         20103/2014 \\nVolume Horaire \\nen         (14 \\nsemaines) Crédits \\naccordés Coefficients \\xa0Modalité \\nd’évaluation \\xa0\\nN° UE Type ECUE \\nC TD TP ECUE UE ECUE UE Contrôle \\nContinu Régime \\nMixte \\n1  Interaction Rayonnement',\n",
       " 'C TD TP ECUE UE ECUE UE Contrôle \\nContinu Régime \\nMixte \\n1  Interaction Rayonnement \\n-Matière UEF Interaction Rayonnement -\\nMatière 42h 0 0 6 6 2 2  X \\n2 Physique des Solides 2 \\xa0 UEF Physique des Solides 2  42h 0 0 6 6 2 2  X \\nNanostructures Semi-\\nconductrices 21h 0 0 3 1  X \\n3 Phénomènes Quantiques \\ndans les Nanostructures UEF \\nNanostructures Magnétiques \\net Diélectriques 21h 0 0 3 6 \\n1 2 \\n X \\nAnalyse Numérique 2 21h 0 21h 3 1  X \\n4 Méthodes Numériques et \\nd’Approximation \\xa0UEF \\nMéthodes d’Approximation 21h 0 0 3 6 \\n1 2 \\n X \\nPQO3-1 21h 0 0 2 1  X \\n5 PQO3\\xa0 UEO \\nPQO3-2 21h 0 0 2 4 \\n1 2 \\n X \\n Anglais\\xa0 UET Anglais  21h   2 2 1 1 X  \\n   Total 231 0 21h 30 30 11 11',\n",
       " '1 2 \\n X \\n Anglais\\xa0 UET Anglais  21h   2 2 1 1 X  \\n   Total 231 0 21h 30 30 11 11   \\nPQO3-1 : Physique des Agrégats \\nPQO3-2 : Physique Subatomique\\nSemestre 3 : Spécialité 3 : PQ                         20103/2014 \\nVolume Horaire \\nen         (14 \\nsemaines) Crédits \\naccordés Coefficients \\xa0Modalité \\nd’évaluation \\xa0\\nN° UE Type ECUE \\nC TD TP ECUE UE ECUE UE Contrôle \\nContinu Régime \\nMixte \\n1  Interaction Rayonnement \\n-Matière UEF Interaction Rayonnement -\\nMatière 42h 0 0 6 6 2 2  X \\n2 Physique des Solides 2 \\xa0 UEF Physique des Solides 2  42h 0 0 6 6 2 2  X \\nNanostructures Semi-\\nconductrices 21h 0 0 3 1  X \\n3 Phénomènes Quantiques \\ndans les Nanostructures UEF \\nNanostructures Magnétiques',\n",
       " '3 Phénomènes Quantiques \\ndans les Nanostructures UEF \\nNanostructures Magnétiques \\net Diélectriques 21h 0 0 3 6 \\n1 2 \\n X \\nAnalyse Numérique 2 21h 0 21h 3 1  X \\n4 Méthodes Numériques et \\nd’Approximation \\xa0UEF \\nMéthodes d’Approximation 21h 0 0 3 6 \\n1 2 \\n X \\nPQO3-1 21h 0 0 2 1  X \\n5 PQO3\\xa0 UEO \\nPQO3-2 21h 0 0 2 4 \\n1 2 \\n X \\n Anglais\\xa0 UET Anglais  21h   2 2 1 1 X  \\n   Total 231 0 21h 30 30 11 11   \\nPQO3-1 : Physique des Agrégats \\nPQO3-2 : Physique Subatomique\\nSemestre 3 : Spécialité 3 : PQ                         20103/2014 \\nVolume Horaire \\nen         (14 \\nsemaines) Crédits \\naccordés Coefficients \\xa0Modalité \\nd’évaluation \\xa0\\nN° UE Type ECUE \\nC TD TP ECUE UE ECUE UE Contrôle \\nContinu Régime \\nMixte',\n",
       " 'd’évaluation \\xa0\\nN° UE Type ECUE \\nC TD TP ECUE UE ECUE UE Contrôle \\nContinu Régime \\nMixte \\n1  Interaction Rayonnement \\n-Matière UEF Interaction Rayonnement -\\nMatière 42h 0 0 6 6 2 2  X \\n2 Physique des Solides 2 \\xa0 UEF Physique des Solides 2  42h 0 0 6 6 2 2  X \\nNanostructures Semi-\\nconductrices 21h 0 0 3 1  X \\n3 Phénomènes Quantiques \\ndans les Nanostructures UEF \\nNanostructures Magnétiques \\net Diélectriques 21h 0 0 3 6 \\n1 2 \\n X \\nAnalyse Numérique 2 21h 0 21h 3 1  X \\n4 Méthodes Numériques et \\nd’Approximation \\xa0UEF \\nMéthodes d’Approximation 21h 0 0 3 6 \\n1 2 \\n X \\nPQO3-1 21h 0 0 2 1  X \\n5 PQO3\\xa0 UEO \\nPQO3-2 21h 0 0 2 4 \\n1 2 \\n X \\n Anglais\\xa0 UET Anglais  21h   2 2 1 1 X',\n",
       " '5 PQO3\\xa0 UEO \\nPQO3-2 21h 0 0 2 4 \\n1 2 \\n X \\n Anglais\\xa0 UET Anglais  21h   2 2 1 1 X  \\n   Total 231 0 21h 30 30 11 11   \\nPQO3-1 : Physique des Agrégats \\nPQO3-2 : Physique Subatomique\\nSemestre 3 : Spécialité 3 : PQ                         20103/2014 \\nVolume Horaire \\nen         (14 \\nsemaines) Crédits \\naccordés Coefficients \\xa0Modalité \\nd’évaluation \\xa0\\nN° UE Type ECUE \\nC TD TP ECUE UE ECUE UE Contrôle \\nContinu Régime \\nMixte \\n1  Interaction Rayonnement \\n-Matière UEF Interaction Rayonnement -\\nMatière 42h 0 0 6 6 2 2  X \\n2 Physique des Solides 2 \\xa0 UEF Physique des Solides 2  42h 0 0 6 6 2 2  X \\nNanostructures Semi-\\nconductrices 21h 0 0 3 1  X \\n3 Phénomènes Quantiques \\ndans les Nanostructures UEF',\n",
       " 'conductrices 21h 0 0 3 1  X \\n3 Phénomènes Quantiques \\ndans les Nanostructures UEF \\nNanostructures Magnétiques \\net Diélectriques 21h 0 0 3 6 \\n1 2 \\n X \\nAnalyse Numérique 2 21h 0 21h 3 1  X \\n4 Méthodes Numériques et \\nd’Approximation \\xa0UEF \\nMéthodes d’Approximation 21h 0 0 3 6 \\n1 2 \\n X \\nPQO3-1 21h 0 0 2 1  X \\n5 PQO3\\xa0 UEO \\nPQO3-2 21h 0 0 2 4 \\n1 2 \\n X \\n Anglais\\xa0 UET Anglais  21h   2 2 1 1 X  \\n   Total 231 0 21h 30 30 11 11   \\nPQO3-1 : Physique des Agrégats \\nPQO3-2 : Physique Subatomique\\nSemestre 3 : Spécialité 3 : PQ                         20103/2014 \\nVolume Horaire \\nen         (14 \\nsemaines) Crédits \\naccordés Coefficients \\xa0Modalité \\nd’évaluation \\xa0\\nN° UE Type ECUE',\n",
       " 'en         (14 \\nsemaines) Crédits \\naccordés Coefficients \\xa0Modalité \\nd’évaluation \\xa0\\nN° UE Type ECUE \\nC TD TP ECUE UE ECUE UE Contrôle \\nContinu Régime \\nMixte \\n1  Interaction Rayonnement \\n-Matière UEF Interaction Rayonnement -\\nMatière 42h 0 0 6 6 2 2  X \\n2 Physique des Solides 2 \\xa0 UEF Physique des Solides 2  42h 0 0 6 6 2 2  X \\nNanostructures Semi-\\nconductrices 21h 0 0 3 1  X \\n3 Phénomènes Quantiques \\ndans les Nanostructures UEF \\nNanostructures Magnétiques \\net Diélectriques 21h 0 0 3 6 \\n1 2 \\n X \\nAnalyse Numérique 2 21h 0 21h 3 1  X \\n4 Méthodes Numériques et \\nd’Approximation \\xa0UEF \\nMéthodes d’Approximation 21h 0 0 3 6 \\n1 2 \\n X \\nPQO3-1 21h 0 0 2 1  X \\n5 PQO3\\xa0 UEO \\nPQO3-2 21h 0 0 2 4 \\n1 2 \\n X',\n",
       " '1 2 \\n X \\nPQO3-1 21h 0 0 2 1  X \\n5 PQO3\\xa0 UEO \\nPQO3-2 21h 0 0 2 4 \\n1 2 \\n X \\n Anglais\\xa0 UET Anglais  21h   2 2 1 1 X  \\n   Total 231 0 21h 30 30 11 11   \\nPQO3-1 : Physique des Agrégats \\nPQO3-2 : Physique Subatomique']"
      ]
     },
     "execution_count": 138,
     "metadata": {},
     "output_type": "execute_result"
    }
   ],
   "source": [
    "splits12"
   ]
  },
  {
   "cell_type": "code",
   "execution_count": 139,
   "id": "24de8a4d-20e4-4033-9aba-d911a7c234ae",
   "metadata": {},
   "outputs": [],
   "source": [
    "embeddings12 = embeddings_model.embed_documents(\n",
    "    splits12,  \n",
    "    # normalize_embeddings=True,\n",
    "    # batch_size=256, \n",
    "    # show_progress_bar=True\n",
    ")"
   ]
  },
  {
   "cell_type": "code",
   "execution_count": 140,
   "id": "c66239c7-e7af-471a-b260-de83045c7d63",
   "metadata": {},
   "outputs": [],
   "source": [
    "ids12 = [str(uuid.uuid4()) for _ in range(len(splits12))]"
   ]
  },
  {
   "cell_type": "code",
   "execution_count": 141,
   "id": "39e25758-4fa2-4d17-b34e-26733ce34294",
   "metadata": {},
   "outputs": [],
   "source": [
    "data.add(\n",
    "    documents=splits12,    \n",
    "    embeddings=embeddings12,  \n",
    "    ids=ids12               \n",
    ")"
   ]
  },
  {
   "cell_type": "markdown",
   "id": "da52d5e9-b6d0-4b14-878c-4f7917dedbfd",
   "metadata": {},
   "source": [
    "# Mastere Pro"
   ]
  },
  {
   "cell_type": "markdown",
   "id": "2295992c-7beb-4e26-a06a-e1a4adac7d37",
   "metadata": {},
   "source": [
    "# Document 12 PRO chimie "
   ]
  },
  {
   "cell_type": "code",
   "execution_count": 144,
   "id": "47c9a68f-bcaf-4e44-b3b4-74758d246fb8",
   "metadata": {},
   "outputs": [],
   "source": [
    "file_path =  \"pro_chimie.pdf\"\n",
    "loader = PyPDFLoader(file_path)\n",
    "pages = []\n",
    "async for page in loader.alazy_load():\n",
    "    pages.append(page)"
   ]
  },
  {
   "cell_type": "code",
   "execution_count": 145,
   "id": "e41faa41-f651-45c9-bd8f-e55c09681278",
   "metadata": {},
   "outputs": [],
   "source": [
    "document12=[page.page_content for doc in pages]"
   ]
  },
  {
   "cell_type": "code",
   "execution_count": 146,
   "id": "d986a378-b7e4-4227-b185-bd759bde53c0",
   "metadata": {},
   "outputs": [
    {
     "data": {
      "text/plain": [
       "['Mastère Professionnel \\nEnvironnement et analyses Physico-Chimiques Industriel \\nDescriptif détaillé des programmes de formation S3, 2014/2015 \\nVolume Horaire Semestriel Crédits  Coefficients  Régime d’Examen  \\nN° Unité d’enseignement \\n(UE) Nature \\nde l’UE Elément constitutif \\nd’UE (ECUE) \\nCours TD  TP  ECUE  UE  ECUE  UE  Contrôle \\nContinu Régime \\nMixte \\n1 \\n Analyse physico-\\nchimique des médicaments  \\nUEF Analyse physico-\\nchimique des médicaments 21h -  14h  6   \\n6 \\n  \\n 2  ×  \\n2 analyses agro-\\nalimentaire  \\nUEF Analyse agro-\\nalimentaire 21h -  14h  6   \\n6  \\n  \\n2  ×  \\nTraitements des eaux \\nnaturelles et usées 21h  \\n- 14h 3  1   ×  \\n3 Traitements des eaux \\net des déchets solides  \\nUEF \\n Traitement et \\nvalorisation des \\ndéchets solides 21h -   \\n14h  \\n3  \\n \\n6  \\n1  \\n \\n2   \\n× \\n \\nCaractérisation des polymères 21h -   \\n14h  \\n3  \\n1  \\n  \\n× \\n4 Analyse des matériaux   \\nUEF \\nVerres et Céramiques 21h  -  -   \\n3  \\n \\n6  \\n1  \\n \\n2  ×  \\nTechnologie propre : \\nétude de cas (tannerie, \\nimprimerie, traitement de surface, textile et \\nagro-alimentaire 21h  \\n- \\n \\n  \\n- \\n  \\n \\n3  \\n \\n1 \\n  \\n \\n \\n× \\n  \\n \\n \\n5  \\n \\nTechnologie propre et analyse statistique  \\nUEO \\nAnalyse statistique des \\ndonnées et plan d’expérience 14h -  -   \\n3  \\n \\n  \\n \\n6  \\n1  \\n \\n  \\n \\n2 \\n  \\n× \\n  \\nTOTAL :  231 Heures 161h   70h   30   10',\n",
       " 'Mastère Professionnel \\nEnvironnement et analyses Physico-Chimiques Industriel \\nDescriptif détaillé des programmes de formation S3, 2014/2015 \\nVolume Horaire Semestriel Crédits  Coefficients  Régime d’Examen  \\nN° Unité d’enseignement \\n(UE) Nature \\nde l’UE Elément constitutif \\nd’UE (ECUE) \\nCours TD  TP  ECUE  UE  ECUE  UE  Contrôle \\nContinu Régime \\nMixte \\n1 \\n Analyse physico-\\nchimique des médicaments  \\nUEF Analyse physico-\\nchimique des médicaments 21h -  14h  6   \\n6 \\n  \\n 2  ×  \\n2 analyses agro-\\nalimentaire  \\nUEF Analyse agro-\\nalimentaire 21h -  14h  6   \\n6  \\n  \\n2  ×  \\nTraitements des eaux \\nnaturelles et usées 21h  \\n- 14h 3  1   ×  \\n3 Traitements des eaux \\net des déchets solides  \\nUEF \\n Traitement et \\nvalorisation des \\ndéchets solides 21h -   \\n14h  \\n3  \\n \\n6  \\n1  \\n \\n2   \\n× \\n \\nCaractérisation des polymères 21h -   \\n14h  \\n3  \\n1  \\n  \\n× \\n4 Analyse des matériaux   \\nUEF \\nVerres et Céramiques 21h  -  -   \\n3  \\n \\n6  \\n1  \\n \\n2  ×  \\nTechnologie propre : \\nétude de cas (tannerie, \\nimprimerie, traitement de surface, textile et \\nagro-alimentaire 21h  \\n- \\n \\n  \\n- \\n  \\n \\n3  \\n \\n1 \\n  \\n \\n \\n× \\n  \\n \\n \\n5  \\n \\nTechnologie propre et analyse statistique  \\nUEO \\nAnalyse statistique des \\ndonnées et plan d’expérience 14h -  -   \\n3  \\n \\n  \\n \\n6  \\n1  \\n \\n  \\n \\n2 \\n  \\n× \\n  \\nTOTAL :  231 Heures 161h   70h   30   10',\n",
       " 'Mastère Professionnel \\nEnvironnement et analyses Physico-Chimiques Industriel \\nDescriptif détaillé des programmes de formation S3, 2014/2015 \\nVolume Horaire Semestriel Crédits  Coefficients  Régime d’Examen  \\nN° Unité d’enseignement \\n(UE) Nature \\nde l’UE Elément constitutif \\nd’UE (ECUE) \\nCours TD  TP  ECUE  UE  ECUE  UE  Contrôle \\nContinu Régime \\nMixte \\n1 \\n Analyse physico-\\nchimique des médicaments  \\nUEF Analyse physico-\\nchimique des médicaments 21h -  14h  6   \\n6 \\n  \\n 2  ×  \\n2 analyses agro-\\nalimentaire  \\nUEF Analyse agro-\\nalimentaire 21h -  14h  6   \\n6  \\n  \\n2  ×  \\nTraitements des eaux \\nnaturelles et usées 21h  \\n- 14h 3  1   ×  \\n3 Traitements des eaux \\net des déchets solides  \\nUEF \\n Traitement et \\nvalorisation des \\ndéchets solides 21h -   \\n14h  \\n3  \\n \\n6  \\n1  \\n \\n2   \\n× \\n \\nCaractérisation des polymères 21h -   \\n14h  \\n3  \\n1  \\n  \\n× \\n4 Analyse des matériaux   \\nUEF \\nVerres et Céramiques 21h  -  -   \\n3  \\n \\n6  \\n1  \\n \\n2  ×  \\nTechnologie propre : \\nétude de cas (tannerie, \\nimprimerie, traitement de surface, textile et \\nagro-alimentaire 21h  \\n- \\n \\n  \\n- \\n  \\n \\n3  \\n \\n1 \\n  \\n \\n \\n× \\n  \\n \\n \\n5  \\n \\nTechnologie propre et analyse statistique  \\nUEO \\nAnalyse statistique des \\ndonnées et plan d’expérience 14h -  -   \\n3  \\n \\n  \\n \\n6  \\n1  \\n \\n  \\n \\n2 \\n  \\n× \\n  \\nTOTAL :  231 Heures 161h   70h   30   10']"
      ]
     },
     "execution_count": 146,
     "metadata": {},
     "output_type": "execute_result"
    }
   ],
   "source": [
    "document12"
   ]
  },
  {
   "cell_type": "markdown",
   "id": "3e204bd9-8402-4398-ade0-9996fc73673d",
   "metadata": {},
   "source": [
    "# splitting DOC 12 into chunks "
   ]
  },
  {
   "cell_type": "code",
   "execution_count": 148,
   "id": "efe4e920-7daf-4395-8001-73a09811c52e",
   "metadata": {},
   "outputs": [],
   "source": [
    "document12= \"\\n\".join(document12)"
   ]
  },
  {
   "cell_type": "code",
   "execution_count": 149,
   "id": "423fe787-b2dc-4e6a-89a5-5c732e1becf1",
   "metadata": {},
   "outputs": [],
   "source": [
    "text_splitter = RecursiveCharacterTextSplitter(chunk_size=700, chunk_overlap=100, separators=[\"\\n\\n\", \"\\n\", \".\", \" \"])\n",
    "splits13= text_splitter.split_text(document12)"
   ]
  },
  {
   "cell_type": "code",
   "execution_count": 150,
   "id": "9934f9bd-dd94-4005-8577-bd0c02abe169",
   "metadata": {
    "scrolled": true
   },
   "outputs": [
    {
     "data": {
      "text/plain": [
       "['Mastère Professionnel \\nEnvironnement et analyses Physico-Chimiques Industriel \\nDescriptif détaillé des programmes de formation S3, 2014/2015 \\nVolume Horaire Semestriel Crédits  Coefficients  Régime d’Examen  \\nN° Unité d’enseignement \\n(UE) Nature \\nde l’UE Elément constitutif \\nd’UE (ECUE) \\nCours TD  TP  ECUE  UE  ECUE  UE  Contrôle \\nContinu Régime \\nMixte \\n1 \\n Analyse physico-\\nchimique des médicaments  \\nUEF Analyse physico-\\nchimique des médicaments 21h -  14h  6   \\n6 \\n  \\n 2  ×  \\n2 analyses agro-\\nalimentaire  \\nUEF Analyse agro-\\nalimentaire 21h -  14h  6   \\n6  \\n  \\n2  ×  \\nTraitements des eaux \\nnaturelles et usées 21h  \\n- 14h 3  1   ×  \\n3 Traitements des eaux \\net des déchets solides  \\nUEF',\n",
       " 'naturelles et usées 21h  \\n- 14h 3  1   ×  \\n3 Traitements des eaux \\net des déchets solides  \\nUEF \\n Traitement et \\nvalorisation des \\ndéchets solides 21h -   \\n14h  \\n3  \\n \\n6  \\n1  \\n \\n2   \\n× \\n \\nCaractérisation des polymères 21h -   \\n14h  \\n3  \\n1  \\n  \\n× \\n4 Analyse des matériaux   \\nUEF \\nVerres et Céramiques 21h  -  -   \\n3  \\n \\n6  \\n1  \\n \\n2  ×  \\nTechnologie propre : \\nétude de cas (tannerie, \\nimprimerie, traitement de surface, textile et \\nagro-alimentaire 21h  \\n- \\n \\n  \\n- \\n  \\n \\n3  \\n \\n1 \\n  \\n \\n \\n× \\n  \\n \\n \\n5  \\n \\nTechnologie propre et analyse statistique  \\nUEO \\nAnalyse statistique des \\ndonnées et plan d’expérience 14h -  -   \\n3  \\n \\n  \\n \\n6  \\n1  \\n \\n  \\n \\n2 \\n  \\n× \\n  \\nTOTAL :  231 Heures 161h   70h   30   10',\n",
       " '3  \\n \\n  \\n \\n6  \\n1  \\n \\n  \\n \\n2 \\n  \\n× \\n  \\nTOTAL :  231 Heures 161h   70h   30   10\\nMastère Professionnel \\nEnvironnement et analyses Physico-Chimiques Industriel \\nDescriptif détaillé des programmes de formation S3, 2014/2015 \\nVolume Horaire Semestriel Crédits  Coefficients  Régime d’Examen  \\nN° Unité d’enseignement \\n(UE) Nature \\nde l’UE Elément constitutif \\nd’UE (ECUE) \\nCours TD  TP  ECUE  UE  ECUE  UE  Contrôle \\nContinu Régime \\nMixte \\n1 \\n Analyse physico-\\nchimique des médicaments  \\nUEF Analyse physico-\\nchimique des médicaments 21h -  14h  6   \\n6 \\n  \\n 2  ×  \\n2 analyses agro-\\nalimentaire  \\nUEF Analyse agro-\\nalimentaire 21h -  14h  6   \\n6  \\n  \\n2  ×  \\nTraitements des eaux \\nnaturelles et usées 21h',\n",
       " 'alimentaire 21h -  14h  6   \\n6  \\n  \\n2  ×  \\nTraitements des eaux \\nnaturelles et usées 21h  \\n- 14h 3  1   ×  \\n3 Traitements des eaux \\net des déchets solides  \\nUEF \\n Traitement et \\nvalorisation des \\ndéchets solides 21h -   \\n14h  \\n3  \\n \\n6  \\n1  \\n \\n2   \\n× \\n \\nCaractérisation des polymères 21h -   \\n14h  \\n3  \\n1  \\n  \\n× \\n4 Analyse des matériaux   \\nUEF \\nVerres et Céramiques 21h  -  -   \\n3  \\n \\n6  \\n1  \\n \\n2  ×  \\nTechnologie propre : \\nétude de cas (tannerie, \\nimprimerie, traitement de surface, textile et \\nagro-alimentaire 21h  \\n- \\n \\n  \\n- \\n  \\n \\n3  \\n \\n1 \\n  \\n \\n \\n× \\n  \\n \\n \\n5  \\n \\nTechnologie propre et analyse statistique  \\nUEO \\nAnalyse statistique des \\ndonnées et plan d’expérience 14h -  -   \\n3  \\n \\n  \\n \\n6  \\n1',\n",
       " 'UEO \\nAnalyse statistique des \\ndonnées et plan d’expérience 14h -  -   \\n3  \\n \\n  \\n \\n6  \\n1  \\n \\n  \\n \\n2 \\n  \\n× \\n  \\nTOTAL :  231 Heures 161h   70h   30   10\\nMastère Professionnel \\nEnvironnement et analyses Physico-Chimiques Industriel \\nDescriptif détaillé des programmes de formation S3, 2014/2015 \\nVolume Horaire Semestriel Crédits  Coefficients  Régime d’Examen  \\nN° Unité d’enseignement \\n(UE) Nature \\nde l’UE Elément constitutif \\nd’UE (ECUE) \\nCours TD  TP  ECUE  UE  ECUE  UE  Contrôle \\nContinu Régime \\nMixte \\n1 \\n Analyse physico-\\nchimique des médicaments  \\nUEF Analyse physico-\\nchimique des médicaments 21h -  14h  6   \\n6 \\n  \\n 2  ×  \\n2 analyses agro-\\nalimentaire  \\nUEF Analyse agro-',\n",
       " '6 \\n  \\n 2  ×  \\n2 analyses agro-\\nalimentaire  \\nUEF Analyse agro-\\nalimentaire 21h -  14h  6   \\n6  \\n  \\n2  ×  \\nTraitements des eaux \\nnaturelles et usées 21h  \\n- 14h 3  1   ×  \\n3 Traitements des eaux \\net des déchets solides  \\nUEF \\n Traitement et \\nvalorisation des \\ndéchets solides 21h -   \\n14h  \\n3  \\n \\n6  \\n1  \\n \\n2   \\n× \\n \\nCaractérisation des polymères 21h -   \\n14h  \\n3  \\n1  \\n  \\n× \\n4 Analyse des matériaux   \\nUEF \\nVerres et Céramiques 21h  -  -   \\n3  \\n \\n6  \\n1  \\n \\n2  ×  \\nTechnologie propre : \\nétude de cas (tannerie, \\nimprimerie, traitement de surface, textile et \\nagro-alimentaire 21h  \\n- \\n \\n  \\n- \\n  \\n \\n3  \\n \\n1 \\n  \\n \\n \\n× \\n  \\n \\n \\n5  \\n \\nTechnologie propre et analyse statistique  \\nUEO',\n",
       " '- \\n \\n  \\n- \\n  \\n \\n3  \\n \\n1 \\n  \\n \\n \\n× \\n  \\n \\n \\n5  \\n \\nTechnologie propre et analyse statistique  \\nUEO \\nAnalyse statistique des \\ndonnées et plan d’expérience 14h -  -   \\n3  \\n \\n  \\n \\n6  \\n1  \\n \\n  \\n \\n2 \\n  \\n× \\n  \\nTOTAL :  231 Heures 161h   70h   30   10']"
      ]
     },
     "execution_count": 150,
     "metadata": {},
     "output_type": "execute_result"
    }
   ],
   "source": [
    "splits13"
   ]
  },
  {
   "cell_type": "code",
   "execution_count": 151,
   "id": "703f8e16-0a1b-4200-8872-fed6c5325989",
   "metadata": {},
   "outputs": [],
   "source": [
    "embeddings13 = embeddings_model.embed_documents(\n",
    "    splits13,  \n",
    "    # normalize_embeddings=True,\n",
    "    # batch_size=256, \n",
    "    # show_progress_bar=True\n",
    ")"
   ]
  },
  {
   "cell_type": "code",
   "execution_count": 152,
   "id": "831879d2-be8b-402c-b030-36027f22861d",
   "metadata": {},
   "outputs": [],
   "source": [
    "ids13 = [str(uuid.uuid4()) for _ in range(len(splits13))]"
   ]
  },
  {
   "cell_type": "code",
   "execution_count": 153,
   "id": "fa68c916-b608-4f44-a8fb-a9bf785996b6",
   "metadata": {},
   "outputs": [],
   "source": [
    "data.add(\n",
    "    documents=splits13,    \n",
    "    embeddings=embeddings13,  \n",
    "    ids=ids13               \n",
    ")"
   ]
  },
  {
   "cell_type": "markdown",
   "id": "c2ca2104-39e4-421e-85d2-f5d834a5f127",
   "metadata": {},
   "source": [
    "# Document 13 PRO info "
   ]
  },
  {
   "cell_type": "code",
   "execution_count": 155,
   "id": "276174d0-b316-46cf-9fed-d26167055f42",
   "metadata": {},
   "outputs": [],
   "source": [
    "file_path =  \"pro_info.pdf\"\n",
    "loader = PyPDFLoader(file_path)\n",
    "pages = []\n",
    "async for page in loader.alazy_load():\n",
    "    pages.append(page)"
   ]
  },
  {
   "cell_type": "code",
   "execution_count": 156,
   "id": "78316293-c8f5-41cc-a083-1a05747dcfc9",
   "metadata": {},
   "outputs": [],
   "source": [
    "document13=[page.page_content for doc in pages]"
   ]
  },
  {
   "cell_type": "code",
   "execution_count": 157,
   "id": "5917259a-e9f7-4544-8b8b-287271df4c61",
   "metadata": {},
   "outputs": [
    {
     "data": {
      "text/plain": [
       "['Semestre 4  du parcours  \\n \\nCe semestre est consacré au stage du Master',\n",
       " 'Semestre 4  du parcours  \\n \\nCe semestre est consacré au stage du Master',\n",
       " 'Semestre 4  du parcours  \\n \\nCe semestre est consacré au stage du Master',\n",
       " 'Semestre 4  du parcours  \\n \\nCe semestre est consacré au stage du Master']"
      ]
     },
     "execution_count": 157,
     "metadata": {},
     "output_type": "execute_result"
    }
   ],
   "source": [
    "document13"
   ]
  },
  {
   "cell_type": "markdown",
   "id": "f0113f66-55eb-425f-984d-2fb9641f1304",
   "metadata": {},
   "source": [
    "# splitting DOC 13 into chunks "
   ]
  },
  {
   "cell_type": "code",
   "execution_count": 159,
   "id": "767eb7e2-84eb-4c82-84a6-cf1f066717db",
   "metadata": {},
   "outputs": [],
   "source": [
    "document13= \"\\n\".join(document13)"
   ]
  },
  {
   "cell_type": "code",
   "execution_count": 160,
   "id": "fb842ef0-586f-4d30-af9b-528247e0c75f",
   "metadata": {},
   "outputs": [],
   "source": [
    "text_splitter = RecursiveCharacterTextSplitter(chunk_size=700, chunk_overlap=100, separators=[\"\\n\\n\", \"\\n\", \".\", \" \"])\n",
    "splits14= text_splitter.split_text(document13)"
   ]
  },
  {
   "cell_type": "code",
   "execution_count": 161,
   "id": "c3882df0-3659-4dfb-813b-615480611994",
   "metadata": {},
   "outputs": [
    {
     "data": {
      "text/plain": [
       "['Semestre 4  du parcours  \\n \\nCe semestre est consacré au stage du Master\\nSemestre 4  du parcours  \\n \\nCe semestre est consacré au stage du Master\\nSemestre 4  du parcours  \\n \\nCe semestre est consacré au stage du Master\\nSemestre 4  du parcours  \\n \\nCe semestre est consacré au stage du Master']"
      ]
     },
     "execution_count": 161,
     "metadata": {},
     "output_type": "execute_result"
    }
   ],
   "source": [
    "splits14"
   ]
  },
  {
   "cell_type": "code",
   "execution_count": 162,
   "id": "cd2942e8-4092-43ec-abe9-73305e0b0d60",
   "metadata": {},
   "outputs": [],
   "source": [
    "embeddings14 = embeddings_model.embed_documents(\n",
    "    splits14,  \n",
    "    # normalize_embeddings=True,\n",
    "    # batch_size=256, \n",
    "    # show_progress_bar=True\n",
    ")"
   ]
  },
  {
   "cell_type": "code",
   "execution_count": 163,
   "id": "e7d4248e-7552-4006-9891-ca34913faff2",
   "metadata": {},
   "outputs": [],
   "source": [
    "ids14 = [str(uuid.uuid4()) for _ in range(len(splits14))]"
   ]
  },
  {
   "cell_type": "code",
   "execution_count": 164,
   "id": "786039d0-1346-4900-8527-98351a6614dd",
   "metadata": {},
   "outputs": [],
   "source": [
    "data.add(\n",
    "    documents=splits14,    \n",
    "    embeddings=embeddings14,  \n",
    "    ids=ids14               \n",
    ")"
   ]
  },
  {
   "cell_type": "markdown",
   "id": "63be1386-c1f0-4f48-aa98-0ecbdd2c7922",
   "metadata": {},
   "source": [
    "# Document 14 on peut effectuer deux stages en meme temps "
   ]
  },
  {
   "cell_type": "code",
   "execution_count": 166,
   "id": "6d3ce3d5-362d-4d2b-b6b5-0c9b411e16bd",
   "metadata": {},
   "outputs": [],
   "source": [
    "file_path =  \"deux_stage_.pdf\"\n",
    "loader = PyPDFLoader(file_path)\n",
    "pages = []\n",
    "async for page in loader.alazy_load():\n",
    "    pages.append(page)"
   ]
  },
  {
   "cell_type": "code",
   "execution_count": 167,
   "id": "d7d613a6-e23b-49bb-8e36-635d3219731d",
   "metadata": {},
   "outputs": [],
   "source": [
    "document14=[page.page_content for doc in pages]"
   ]
  },
  {
   "cell_type": "code",
   "execution_count": 168,
   "id": "8ab875cf-cde4-4a53-98ae-a89581a4186c",
   "metadata": {},
   "outputs": [
    {
     "data": {
      "text/plain": [
       "['Question : Peut -on effectuer deux stages en même temps ?  \\nRéponse :  \\n• Pour le stage obligatoire :  \\nNon, il est impossible d’effectuer deux stages en même temps dans le cadre du \\nstage obligatoire.  \\n• Pour le stage facultatif :  \\nOui, cela est possible sous certaines conditions. Vous pouvez effectuer un premier \\nstage durant le mois de juillet, puis préparer les documents administratifs \\nnécessaires pour un nouveau stage et réaliser ce deuxième stage durant le mois \\nd’août.']"
      ]
     },
     "execution_count": 168,
     "metadata": {},
     "output_type": "execute_result"
    }
   ],
   "source": [
    "document14"
   ]
  },
  {
   "cell_type": "markdown",
   "id": "ebc86c00-fdfd-45dc-bbd7-f8e8747b4282",
   "metadata": {},
   "source": [
    "# splitting DOC14 INTO chunks "
   ]
  },
  {
   "cell_type": "code",
   "execution_count": 170,
   "id": "a291b115-6095-443b-bb78-77cfc9c844d7",
   "metadata": {},
   "outputs": [],
   "source": [
    "document14= \"\\n\".join(document14)"
   ]
  },
  {
   "cell_type": "code",
   "execution_count": 171,
   "id": "a96e57d6-7d44-4a23-a267-88efa332d4ef",
   "metadata": {},
   "outputs": [],
   "source": [
    "text_splitter = RecursiveCharacterTextSplitter(chunk_size=700, chunk_overlap=100, separators=[\"\\n\\n\", \"\\n\", \".\", \" \"])\n",
    "splits15= text_splitter.split_text(document14)"
   ]
  },
  {
   "cell_type": "code",
   "execution_count": 172,
   "id": "6556f685-76e8-4fc9-8a9d-7cc723df2f83",
   "metadata": {},
   "outputs": [
    {
     "data": {
      "text/plain": [
       "['Question : Peut -on effectuer deux stages en même temps ?  \\nRéponse :  \\n• Pour le stage obligatoire :  \\nNon, il est impossible d’effectuer deux stages en même temps dans le cadre du \\nstage obligatoire.  \\n• Pour le stage facultatif :  \\nOui, cela est possible sous certaines conditions. Vous pouvez effectuer un premier \\nstage durant le mois de juillet, puis préparer les documents administratifs \\nnécessaires pour un nouveau stage et réaliser ce deuxième stage durant le mois \\nd’août.']"
      ]
     },
     "execution_count": 172,
     "metadata": {},
     "output_type": "execute_result"
    }
   ],
   "source": [
    "splits15"
   ]
  },
  {
   "cell_type": "code",
   "execution_count": 173,
   "id": "74bccd05-b940-427c-9e98-73b108171a33",
   "metadata": {},
   "outputs": [],
   "source": [
    "embeddings15= embeddings_model.embed_documents(\n",
    "    splits15,  \n",
    "    # normalize_embeddings=True,\n",
    "    # batch_size=256, \n",
    "    # show_progress_bar=True\n",
    ")"
   ]
  },
  {
   "cell_type": "code",
   "execution_count": 174,
   "id": "6ad40138-bf29-42e3-a36e-54e18785cbe0",
   "metadata": {},
   "outputs": [],
   "source": [
    "ids15 = [str(uuid.uuid4()) for _ in range(len(splits15))]"
   ]
  },
  {
   "cell_type": "code",
   "execution_count": 175,
   "id": "cb11b2fc-6830-4af6-9ca4-9ab589a32b20",
   "metadata": {},
   "outputs": [],
   "source": [
    "data.add(\n",
    "    documents=splits15,    \n",
    "    embeddings=embeddings15,  \n",
    "    ids=ids15               \n",
    ")"
   ]
  },
  {
   "cell_type": "markdown",
   "id": "bec6821c-1b19-4b65-834d-787066dc85be",
   "metadata": {},
   "source": [
    "# Document 15 des question avec reponse "
   ]
  },
  {
   "cell_type": "code",
   "execution_count": 177,
   "id": "d7a863d0-afa2-4804-bd61-742a15d99010",
   "metadata": {},
   "outputs": [],
   "source": [
    "file_path =  \"Les avantages de la carte étudiante.pdf\"\n",
    "loader = PyPDFLoader(file_path)\n",
    "pages = []\n",
    "async for page in loader.alazy_load():\n",
    "    pages.append(page)"
   ]
  },
  {
   "cell_type": "code",
   "execution_count": 178,
   "id": "21bb01ef-febb-4568-b1fd-bbd72f01dcfe",
   "metadata": {},
   "outputs": [],
   "source": [
    "document15=[page.page_content for doc in pages]"
   ]
  },
  {
   "cell_type": "code",
   "execution_count": 179,
   "id": "807e1e52-205b-4f32-ac5c-a9e294d9508d",
   "metadata": {},
   "outputs": [
    {
     "data": {
      "text/plain": [
       "[\"Les avantages de la carte étudiante  \\n• Accès aux services hospitaliers sans frais.  \\n• Réductions partielles sur certains événements (montant variable selon \\nl'événement).  \\n• Accès à tous les foyers universitaires.  \\nLe droit à une reprise des examens ou des DS en cas d’absence justifiée  \\n• Pour les DS (Devoirs Surveillés) :  Il est possible de faire une demande auprès du \\ndoyen de la Faculté des Sciences afin d’obtenir une autorisation pour repasser \\nle DS. La décision dépend de l'acceptation de la demande.  \\n• Pour les examens :  La reprise n'est pas autorisée, quelle que soit la \\njustification.  \\nInterprétation des crédits et impact sur les moyennes  \\n• Lorsqu’un étudiant cumule plus de 30 crédits , il entre dans la zone de rachat . \\n• Avec 45 crédits , l’étudiant est admis par rachat , même si ses résultats initiaux \\nindiquaient un redoublement.  \\n• Le rachat est un élément essentiel pour permettre à l’étudiant d’accéder à un \\nmaster malgré des résultats insuffisants dans certaines matières.\"]"
      ]
     },
     "execution_count": 179,
     "metadata": {},
     "output_type": "execute_result"
    }
   ],
   "source": [
    "document15"
   ]
  },
  {
   "cell_type": "markdown",
   "id": "52f5e9a4-29f2-47a0-a19d-e55d3e2afae5",
   "metadata": {},
   "source": [
    "# Splitting DOC15 into chunks "
   ]
  },
  {
   "cell_type": "code",
   "execution_count": 181,
   "id": "b30c5a5f-3e6e-4b2a-9fe6-5664c44944a1",
   "metadata": {},
   "outputs": [],
   "source": [
    "document15= \"\\n\".join(document15)"
   ]
  },
  {
   "cell_type": "code",
   "execution_count": 182,
   "id": "e2fc3357-275c-46de-99c5-8e75f41030eb",
   "metadata": {},
   "outputs": [],
   "source": [
    "text_splitter = RecursiveCharacterTextSplitter(chunk_size=300, chunk_overlap=50, separators=[\"\\n\\n\", \"\\n\", \".\", \" \", \"\\n•\"])\n",
    "splits16= text_splitter.split_text(document15)"
   ]
  },
  {
   "cell_type": "code",
   "execution_count": 183,
   "id": "ab140e18-86b8-4de2-bbf7-a50004a97e7a",
   "metadata": {},
   "outputs": [
    {
     "data": {
      "text/plain": [
       "[\"Les avantages de la carte étudiante  \\n• Accès aux services hospitaliers sans frais.  \\n• Réductions partielles sur certains événements (montant variable selon \\nl'événement).  \\n• Accès à tous les foyers universitaires.  \\nLe droit à une reprise des examens ou des DS en cas d’absence justifiée\",\n",
       " \"• Pour les DS (Devoirs Surveillés) :  Il est possible de faire une demande auprès du \\ndoyen de la Faculté des Sciences afin d’obtenir une autorisation pour repasser \\nle DS. La décision dépend de l'acceptation de la demande.  \\n• Pour les examens :  La reprise n'est pas autorisée, quelle que soit la\",\n",
       " 'justification.  \\nInterprétation des crédits et impact sur les moyennes  \\n• Lorsqu’un étudiant cumule plus de 30 crédits , il entre dans la zone de rachat . \\n• Avec 45 crédits , l’étudiant est admis par rachat , même si ses résultats initiaux \\nindiquaient un redoublement.',\n",
       " 'indiquaient un redoublement.  \\n• Le rachat est un élément essentiel pour permettre à l’étudiant d’accéder à un \\nmaster malgré des résultats insuffisants dans certaines matières.']"
      ]
     },
     "execution_count": 183,
     "metadata": {},
     "output_type": "execute_result"
    }
   ],
   "source": [
    "splits16"
   ]
  },
  {
   "cell_type": "code",
   "execution_count": 184,
   "id": "8029fcf6-3dbc-4813-8131-a4a6c6ccd51e",
   "metadata": {},
   "outputs": [],
   "source": [
    "embeddings16 = embeddings_model.embed_documents(\n",
    "    splits16,  \n",
    "    # normalize_embeddings=True,\n",
    "    # batch_size=256, \n",
    "    # show_progress_bar=True\n",
    ")"
   ]
  },
  {
   "cell_type": "code",
   "execution_count": 185,
   "id": "71002af8-ac36-4cc2-b9a8-42cb9be722f3",
   "metadata": {},
   "outputs": [],
   "source": [
    "ids16 = [str(uuid.uuid4()) for _ in range(len(splits16))]"
   ]
  },
  {
   "cell_type": "code",
   "execution_count": 186,
   "id": "abd316de-d274-43a3-b703-bcb03a6efa8d",
   "metadata": {},
   "outputs": [],
   "source": [
    "data.add(\n",
    "    documents=splits16,    \n",
    "    embeddings=embeddings16,  \n",
    "    ids=ids16               \n",
    ")"
   ]
  },
  {
   "cell_type": "markdown",
   "id": "59f4b3d3-4b1c-45a1-b5fd-9b7daf969144",
   "metadata": {},
   "source": [
    "# Checking does the data is added or not ✅"
   ]
  },
  {
   "cell_type": "code",
   "execution_count": 188,
   "id": "8efe8322-2106-4a46-a011-0a637850073d",
   "metadata": {
    "scrolled": true
   },
   "outputs": [
    {
     "name": "stdout",
     "output_type": "stream",
     "text": [
      "{'ids': ['758107d4-abca-4156-a6bd-ca09509bd9d5', '946eff34-b1ac-4650-84a9-cca9e2620e85', '6aad5522-2efb-4915-90a1-dcd17df5e237', '92952d2f-954f-4b6f-88a5-debf117e1d65', 'e47f97de-27b9-46d8-a3d9-c18c32652721', '38410e24-308e-4ea4-8ccc-6d2c0ac86c61', 'afb5acaf-7ee1-44a5-a010-a8b920ed95be', '4837c9b4-ade6-435c-bfbf-c489836bbdfc', '433f4ee2-dfdf-4c19-b496-1b1b9a2e282e', 'dfb9609a-0635-4770-9558-ad3b46771f4a', 'dce8a3e1-4c48-464a-a0c7-0e926afa068f', '3fe03e7a-d798-463f-afc1-a14bd8c0cc28', 'ef3d8052-0a55-48ca-892e-abc1268ae0bd', '77d8b5b1-17de-45bc-9cd6-41f3c8b58efe', '400768fa-98c3-4c18-975a-ee4454b0af3b', '9bde1f0a-21ba-464f-9cfc-fc01893ded5c', '016b4932-dac4-46bd-83f0-d542fda1c7c5', '44dc3761-efb1-4931-867f-3fe4e74e8be9', 'd04aa878-d818-43ca-acf8-39cd9b2b7b45', '4635f69c-bc25-470e-b2a6-a0809be0fc5a', '20570c59-d1ed-4443-993f-ad853c867ccc', '1d0b3f87-bbab-4b89-802e-2878899ba22e', '0ff2ad21-d60a-4e70-a877-ac19d576ecd9', '40365b04-da4b-4918-8663-9a5b54a9f829', 'b3f3bd16-ec22-48d4-826b-972c3e701b77', 'a639ae62-af72-48a3-b061-385588ce102a', '201a130c-a847-48a9-89b1-e00d9de4c92f', '5992d59d-f0ce-4238-8673-5a8a76ac3cf0', 'c6236836-ec17-40e7-8715-b3ab6c05fd3c', '3df608c1-81d4-4552-9d6a-d47451cff0ad', '48768f1f-e97a-439f-94aa-907b00830cad', '210d4e8a-7f02-4ed4-8444-8eaf95c182fb', 'c5bdc4e4-4bf7-4fe6-969b-8e24b3b83a39', '398e265a-1eb9-4905-8fc2-d0945ddb6cfb', '07d58ad9-10b8-44e5-9a44-2717ff4f17cc', '369e37a9-f42a-49bc-8e46-6d28768f2b2e', 'ff6e841b-38a9-48d7-add3-9178eceae288', '871e91c6-d687-4329-b5e4-7b62ada4fe2b', '2b8e202f-e78b-4aec-a5fc-fd917a31b14e', 'c30b0268-a544-457c-bcaa-8b1f303ccc1f', '32279c2b-8730-4ed9-a00c-0a6cdd4707be', 'd6bb8a4e-9b26-4217-981a-7fb2334a90ad', 'cf9ebc19-79a4-4ac7-ba9c-668b6f35dc00', '8e284988-4980-4819-b1a4-63de73ce6928', '608430b0-db82-4c4a-864b-44125ad214db', 'df90c35a-359b-4c75-88f2-b2377206d119', 'bde5b37b-3960-44b9-a55f-c27b50d49b77', '84111e82-a698-489f-b164-f5bf0da26fe8', '47ffcd1b-2f4b-43b9-b551-61a8de10fbfe', '24569545-f826-44e5-ba29-8a374677c22f', 'b1dcc3c5-600e-4b1e-9e18-1a5a72b25135', '06ea215c-f065-4263-9bf7-59a1f333092f', '09939f80-7458-430e-9127-a5110df9e151', 'd17b7861-9883-4a04-8d6e-2d89f1214754', '9881cd21-fef0-4b40-b99a-1c5c2ec28ccd', '9b04dac5-e1b8-4238-8d9b-9eeb74210b7d', 'eb85b6db-32fb-474a-b996-34433dc155ff', '6630c4ec-72e1-46bf-9bfa-0d0e58f778e6', '5c96174b-5a00-422a-8dce-c260ddce71dc', 'c46451bb-5dd3-4b21-b9c7-e18e48452e37', '667c965f-f968-4816-bfdb-1575282ab6e8', '89c45702-8471-4890-a24b-84f1f575aae7', '7f40b7e1-f9c4-49ff-b3b9-42f1e8d89340', 'a8c760c4-8dbb-422e-8486-cb8f84dcb606', 'aad2c780-87fc-493d-9534-3c3210607e4f', '56920144-e18a-4046-9fdd-b4ce7f5768cc', 'bcc252d2-78bd-40eb-95fe-1c7ddc33a698', '0d19cbb7-64f2-4d14-8984-d1ddd76f876e', '39891780-a9b1-4b0f-9443-1730e631c62c', '574be135-b16b-468e-bc71-d786a94b0c52', 'abce03eb-8d94-40e7-bf91-0c26f5c46333', 'c3bb03a0-0f5f-41b3-98c8-1eb1b9ecfd92', 'a504d8f7-af92-415f-ac39-959558953364', '842d657c-9470-4d2b-a16d-044a8a33f00f', 'c314fa04-091b-4344-af03-ddbe6fc59399', '73f9e2a6-2326-4b61-b220-4842fd37f9cf', '1dd82226-b915-4666-b187-a72ef0ccc8f2', 'ab513274-6f90-4b7e-8706-256c920842c5', '609adb37-9b5e-42c2-8e25-9800ec405057', 'eb8f86d2-f1f5-4e33-a587-41dbd8d17207', 'b33a4194-dd31-425f-b772-ca22d57dc46e', '94290fdf-9a80-4f13-9d71-5468f5d8b94c', 'e67b0226-f33d-45d5-bbe3-6180ad64a386', '27b3c4f2-55e9-4249-81fd-5b9a8e678a3e', 'fea37930-b665-4838-8739-3204ecbb97c8', 'c47550fa-99b8-4459-bd44-494123d63fe2', 'b5ddf97f-5152-4084-baef-214bec432554', 'e4b37974-ab45-401a-82da-5df7d047caf6', 'a4b6834b-5931-4978-bd6c-d406280909e5', '43e42b97-3a6d-4f1f-9e06-535ffb8c0b7d', 'fc6d9412-baa5-4a92-aaad-aeda5b270c47', '8b57ba11-038d-4ea8-a917-5d8e0e120020', 'd5ba6899-7e9c-43a5-a79f-0f76cb3267ab', '4ae90d47-e952-414f-8d36-be2972c22998', '54f58e51-d5d2-4de7-8450-32bae247dda3', 'd122851b-a511-4578-94c8-421d5002031b', '2f83c7fb-2c49-4288-ab15-26169373032f', '65bb7b7e-e46f-4c14-90da-bad134e5497a', '5e835666-494e-488d-8046-21d0f72523f1', '79ae3819-2909-4819-b0a0-6c96fb1ffe18', '0ae77be2-a7fc-4cf1-aade-714aa9a9ee66', 'b1676161-be36-4cbf-ad2d-6f3e57a82489', '3b7b62a6-b73c-497c-adeb-9154596c6499', 'd6311606-3ded-4b7a-b3eb-13ab21311a20', 'b080db7a-eaca-4409-a1a8-ce61f319be91', '15bedd66-7a0e-49ac-a162-160ca014ace7', 'fdde60df-28c8-438a-af57-114677c24190', 'd6a5ea01-e776-41b8-ab3a-425cc558327f', '9018de75-1195-4b4c-ba22-9961bd0e784b', '9f7cc1b8-ca83-4892-8815-a62eec86e712', 'a62f929a-51a7-472d-8d2c-6655b6bf2ba1', 'ff93bc83-72bb-42e1-8fea-0f82f2cc636c', '3ab5d7f2-be9b-4f22-9008-89dc27fc871e', 'a4b6b39f-4af2-402e-93a0-2f95a61cdbf0', '8405aa33-092d-4d14-8115-c4a03d2b0fd9', 'e8244f33-c84e-4262-9393-a1b96df77f02', '65b10b37-8bc2-4b25-b3a9-3736173c9afc', '305fd836-b34c-4e39-92e4-6597c5901c8d', '680eb641-3dd1-49ff-93f1-ed25651506b9', '694b5e3b-d6ee-43ba-9133-11f1c450619d', '2171d50c-b55b-45e1-8e05-d31467376419', '703b2c91-f4ce-4b63-b72d-b4192c1d674b', '33d98fd1-c002-4bd8-9eff-5d0074f5e8e8', '8bcd9a01-900f-4047-aeb7-6e96d911e6fc', 'eda40ad3-5017-47bf-a3ea-556b27cf5631', '614bc4b5-622a-4120-9b67-991e30eb7e63', '3c8b02d1-47e7-4d06-baf1-53a61e4913a2', 'd9876a4c-e294-4358-b9d6-2116c5b3e77c', 'ef0e0b37-26d2-4498-afd8-3817087e98c8', '02b59e28-7473-4322-94ae-25e8332f4bad', '3b4d77c2-b20b-426c-b306-42a24a812341', '11428720-3dd5-41e0-ad04-423578fa28d1', 'cb71ea37-20a8-46fe-bdbb-0b2e666951bb', '162ff525-e738-49d8-94cf-17bc5afc818c', '7182d2f8-98f9-4c49-8bf0-619aa76f5d5f', '8fcc593b-67e3-44d4-af7d-1e4bd4a07c28', 'ba262ab5-6156-4549-8b9d-7337bad3a5ee', '67b478bd-e7f7-41f8-82bc-f251605380aa', '85ee4204-37ee-4991-8b44-da1365859307', '643766e8-1433-43fd-81f3-569d09af1956', '89a3d838-3c5e-4a2e-a3b9-5a26f624c088', 'eb4e6276-844c-41ac-9ba1-42f963675ee5', '1ee71ca8-b68f-4f1a-b07d-ebce8057364e', '71f0acf2-925b-4a4b-a645-a01d5b2ce9ed', '0d50ad71-60f3-48e9-95c2-44c895efbc86', '04f193d4-7359-4d00-80c4-711585069708', 'c65177c0-232f-4efa-b37d-227995a59f26', 'e79b68dc-47bf-4884-bc45-2d27427a20c1', '7535d924-59f4-466a-8789-b83c6a43ecef', 'c529f2c9-4f2b-418b-8eff-cc1ca8672df2', '6f95a87c-83d3-4e10-b804-e5a69fde5724', 'a6de88cf-5ac9-4e47-8d75-e2651a1ddb6e', 'aceb634a-887d-4ba6-ade0-54c4241864fe', 'a29a9a71-caf1-452d-aa3a-25abf5e18450', 'a45a8a09-a74d-49ee-b934-c5bc26a73f74', 'f6840614-815b-4626-9cb0-ec7c030cfe0f', '43668a11-32fa-471b-ad48-66cd3a29347c', '046fc42b-7ac4-4442-a302-91b2e188bad1', '3437cd01-4106-45cf-b328-684469e5645a', '9972b662-3ab0-4e6e-b866-622ca45257cf', 'e74d8487-98f7-471f-9d6b-ce5924593736', 'a09a7bfb-3a1c-45ef-8850-0f180659e36b', '903a13c0-53dd-4b46-916a-6434fbc1448e', '043262b3-8e2c-4408-a55d-a408f02c5992', '4eb4a0f8-8fa0-40b6-8d11-7b037ba508f2', '2a7e2261-a309-4207-8d2b-31fd7c692bbb', '26ffbdd0-85be-4f3f-a48b-9086af73c980', 'edfdbde4-7b55-46c3-ae06-fe6a01c8261a', '53661e9e-bf9d-46f8-8d26-af1c0777d317', '132af9f3-cda8-4c44-ab94-5a1f869643d7', '60ef2346-7066-4e01-a108-ffbbb46b28b2', '9b1c8908-0942-40f4-b87e-51073fb4fd93', '66c64528-d7aa-4db0-ac18-0d4a85ed28f5', '80db7b4f-2ae8-47ec-95db-7e944c941098', '26b5eed6-4b8a-408d-b8d7-7a837de59075', '4ab2ca1b-b0e0-48a3-b056-812e16a58768', '8fbe111c-0308-4715-bb4a-0cc13a35c6a3', '47523ab2-e699-419e-86d9-966fa667c8fc', 'f2c636a9-ab01-4393-9615-462e79241a08', 'a15463be-dccf-4fcd-bd1b-e2ef700717b7', '7a15d71f-f289-4efd-882e-8c35a7f9e2d4', '30fd4e7c-dca8-4ece-8076-e49a4bd4ed5e', 'd4f1dd76-7f50-4fb6-9b33-0410688692a6', 'e86b5fe4-e338-46cd-8731-4c11bad0686d', 'ec4a5ab8-d3e5-4c0b-a073-feef6f26eac4', 'a1b3784e-631a-47af-9eaf-f70e659ff30b', 'bed92931-f108-45f9-b25d-36a734c4f38e', '2ede7f84-a4be-4cd6-af5a-bd60b5fc7415', 'b18debdf-b9bf-4fa1-96e5-db7b561c5914', '3453c595-92b1-4073-b748-1d92f737e279', 'da481f5a-5629-4379-88cc-cf11e6af7f7b', 'bf62de8d-1a93-459e-a989-b23daf9e85b4', '342f064a-d62b-442f-afc0-52e4430bc490', '91f5b2d6-e520-4faa-81c2-2e854e9adc88', '9fc4bccb-9b27-44ef-9420-55ebdac5aed8', '814bce6d-18f1-48cf-922d-245ecd8f28bd', '8df981b5-cf2e-433b-8adb-dcd493126c2c', '228dd1b6-e0d8-4647-81d6-2acf43d1d8a4', '9988f593-2583-4e02-b45e-bdaa3bb20bcc', 'ab0351ba-2464-4ecd-a633-9cf605ce0e04', '5271ba2f-c53d-47cf-8b5a-4d628dd359a4', '07b30daa-4b8f-4691-be96-2fafaa2f40dc', 'e3f80b89-3572-4169-be53-282aaa393881', '6617e098-5526-4476-9994-fafee07cabb4', '93c0f5eb-34a0-45d0-87b6-f2bae79e98e3', 'c0a67383-2c75-4c6d-bfa0-073c08bfb1dc', 'f2ba8afc-578c-40a9-a593-bd8815da61d4', '765e68e8-cd33-4a5a-9e06-56b3cbbf5e0f', '339282c9-24e0-40b3-9189-0cb72c114a4f', 'c921cd5e-be82-4a8b-ac96-e5cac7f64314', 'a3dab5cf-744a-42c9-bb47-0ae8c26f371e', '641e4962-da91-4539-9ec6-2e84a68a3557', '3c721864-74cb-4dfb-9d02-60aac44630c9', '65d9dbd2-15d4-4c66-b407-f7aac685a178'], 'embeddings': array([[-1.60652027e-02,  6.42893687e-02,  3.70656699e-02, ...,\n",
      "         8.61296803e-03,  5.69897238e-03,  3.24222147e-02],\n",
      "       [-3.94024998e-02,  4.98327501e-02,  3.51346172e-02, ...,\n",
      "         1.05025377e-02,  1.29973737e-03,  1.45068401e-02],\n",
      "       [-3.68314311e-02,  1.91760305e-02,  2.78474335e-02, ...,\n",
      "         2.58440006e-04, -8.37804109e-05,  4.76374244e-03],\n",
      "       ...,\n",
      "       [-4.46693376e-02,  3.52286138e-02,  4.53389622e-02, ...,\n",
      "        -1.20264105e-03,  1.03619006e-02,  3.78050618e-02],\n",
      "       [-1.91248078e-02,  4.79772985e-02,  5.21756969e-02, ...,\n",
      "        -2.43951450e-03,  1.13334367e-03,  2.29731258e-02],\n",
      "       [-1.42111415e-02,  2.45180577e-02,  3.03333271e-02, ...,\n",
      "         6.24620821e-03,  6.96644932e-03,  2.18386967e-02]]), 'documents': None, 'uris': None, 'data': None, 'metadatas': None, 'included': [<IncludeEnum.embeddings: 'embeddings'>]}\n"
     ]
    }
   ],
   "source": [
    "data = data.get(include=['embeddings'])\n",
    "print(data)\n"
   ]
  },
  {
   "cell_type": "code",
   "execution_count": 189,
   "id": "f142760d-e350-44c5-802a-e841648f52a7",
   "metadata": {},
   "outputs": [
    {
     "name": "stdout",
     "output_type": "stream",
     "text": [
      "Embeddings shape: (214, 896)\n"
     ]
    }
   ],
   "source": [
    "if 'embeddings' in data:\n",
    "    embeddings_array = np.array(data['embeddings'])\n",
    "    print(\"Embeddings shape:\", embeddings_array.shape)\n",
    "else:\n",
    "    print(\"No embeddings found in vectorstore.\")\n"
   ]
  },
  {
   "cell_type": "code",
   "execution_count": 190,
   "id": "145cdfb3-3aef-435f-a397-d5e30e4d6e49",
   "metadata": {},
   "outputs": [
    {
     "data": {
      "image/png": "[encoded data removed]",
      "text/plain": [
       "<Figure size 800x600 with 1 Axes>"
      ]
     },
     "metadata": {},
     "output_type": "display_data"
    }
   ],
   "source": [
    "if embeddings_array.size > 0: \n",
    "    pca = PCA(n_components=2)\n",
    "    embeddings_2d = pca.fit_transform(embeddings_array)\n",
    "\n",
    "    # Plot embeddings\n",
    "    plt.figure(figsize=(8, 6))\n",
    "    plt.scatter(embeddings_2d[:, 0], embeddings_2d[:, 1], alpha=0.7)\n",
    "    plt.xlabel(\"PCA 1\")\n",
    "    plt.ylabel(\"PCA 2\")\n",
    "    plt.title(\"2D Visualization of Embeddings\")\n",
    "    plt.show()\n",
    "else:\n",
    "    print(\"No embeddings available for PCA visualization.\")\n"
   ]
  },
  {
   "cell_type": "code",
   "execution_count": 191,
   "id": "2d063ff3-0821-42df-ac44-8db77fbef5a0",
   "metadata": {},
   "outputs": [],
   "source": [
    "# df = pd.DataFrame(embeddings_2d, columns=['', ''])\n",
    "# df.to_csv(\"embeddings.tsv\", sep='\\t', index=False)\n"
   ]
  }
 ],
 "metadata": {
  "kernelspec": {
   "display_name": "Python 3 (ipykernel)",
   "language": "python",
   "name": "python3"
  },
  "language_info": {
   "codemirror_mode": {
    "name": "ipython",
    "version": 3
   },
   "file_extension": ".py",
   "mimetype": "text/x-python",
   "name": "python",
   "nbconvert_exporter": "python",
   "pygments_lexer": "ipython3",
   "version": "3.12.3"
  }
 },
 "nbformat": 4,
 "nbformat_minor": 5
}
